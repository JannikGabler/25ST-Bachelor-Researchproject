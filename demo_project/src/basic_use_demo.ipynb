{
 "cells": [
  {
   "metadata": {},
   "cell_type": "markdown",
   "source": [
    "# Basic use demo\n",
    "This jupyter notebook shows the basic use of the internals."
   ],
   "id": "524d3143e71b367d"
  },
  {
   "metadata": {},
   "cell_type": "markdown",
   "source": "#### Imports",
   "id": "293826e6896cdcdd"
  },
  {
   "metadata": {
    "ExecuteTime": {
     "end_time": "2025-07-21T12:25:33.807646Z",
     "start_time": "2025-07-21T12:25:33.800374Z"
    }
   },
   "cell_type": "code",
   "source": [
    "import textwrap\n",
    "import tempfile\n",
    "\n",
    "from pathlib import Path\n",
    "\n",
    "from file_handling.pipeline_input_handling.pipeline_input_file_manager import PipelineInputFileManager\n",
    "\n",
    "from file_handling.pipeline_configuration_handling.pipeline_configuration_file_manager import \\\n",
    "    PipelineConfigurationFileManager\n",
    "\n",
    "from pipeline_entities.large_data_classes.pipeline_configuration.pipeline_configuration_data import PipelineConfigurationData\n",
    "from pipeline_entities.large_data_classes.pipeline_configuration.pipeline_configuration import PipelineConfiguration\n",
    "\n",
    "from pipeline_entities.large_data_classes.pipeline_input.pipeline_input_data import PipelineInputData\n",
    "from pipeline_entities.large_data_classes.pipeline_input.pipeline_input import PipelineInput\n",
    "\n",
    "from pipeline_entities.pipeline.pipeline import Pipeline\n",
    "from pipeline_entities.pipeline.pipeline_builder.pipeline_builder import PipelineBuilder\n",
    "from pipeline_entities.pipeline_execution.output.pipeline_component_execution_report import \\\n",
    "    PipelineComponentExecutionReport\n",
    "\n",
    "from pipeline_entities.pipeline_execution.pipeline_manager.pipeline_manager import PipelineManager\n",
    "\n",
    "from setup_manager.internal_logic_setup_manager import InternalLogicSetupManager"
   ],
   "id": "11ed479a97f7c8dc",
   "outputs": [],
   "execution_count": 80
  },
  {
   "metadata": {},
   "cell_type": "markdown",
   "source": "#### Setup",
   "id": "d9de42f75f6a03ff"
  },
  {
   "metadata": {
    "ExecuteTime": {
     "end_time": "2025-07-21T12:25:33.855142Z",
     "start_time": "2025-07-21T12:25:33.849881Z"
    }
   },
   "cell_type": "code",
   "source": "InternalLogicSetupManager.setup()",
   "id": "c1313e204310d509",
   "outputs": [],
   "execution_count": 81
  },
  {
   "metadata": {},
   "cell_type": "markdown",
   "source": [
    "#### Pipeline configuration\n",
    "A pipeline configuration defines the structure of a pipeline. Pipeline configurations are loaded from .ini files.\n",
    "We are using a temporary file to make things easier for this demo.\n",
    "The .ini content must contain the keys 'supported_program_version' with a value of the type 'packaging.Version' and 'components' with a value of the type 'Tree[str]'.\n",
    "Values can be written over multiple lines by ending a line with the known '\\\\'.\n",
    "We are using the following .ini content:"
   ],
   "id": "62bef21ca10dd36f"
  },
  {
   "metadata": {
    "ExecuteTime": {
     "end_time": "2025-07-21T12:25:34.031674Z",
     "start_time": "2025-07-21T12:25:34.025266Z"
    }
   },
   "cell_type": "code",
   "source": [
    "pipeline_configuration_file_content: bytes = textwrap.dedent(\"\"\"\\\n",
    "    name=\"DemoPipeline\"\n",
    "    supported_program_version=Version(\\\"1.0.0\\\")\n",
    "    components=DirectionalAcyclicGraph(\\\"\\\"\\\"\n",
    "        0=Base Input\n",
    "        1=Equidistant Node Generator\n",
    "            predecessors=[\"0\"]\n",
    "        2=Function Expression Input\n",
    "            predecessors=[\"1\"]\n",
    "        3=Interpolation Values Evaluator\n",
    "            predecessors=[\"2\"]\n",
    "        4=Aitken Neville Interpolation\n",
    "           predecessors=[\"3\"]\n",
    "        5=Newton Interpolation\n",
    "            predecessors=[\"3\"]\n",
    "        6=Barycentric1 Interpolation\n",
    "            predecessors=[\"3\"]\n",
    "        7=Barycentric2 Interpolation\n",
    "            predecessors=[\"3\"]\n",
    "        8=Barycentric2 Chebyshev Interpolation\n",
    "            predecessors=[\"3\"]\n",
    "        9=Interpolant Plotter\n",
    "            predecessors=[\"4\", \"5\", \"6\", \"7\", \"8\"]\n",
    "        \\\"\\\"\\\")\n",
    "    extra_value=True\n",
    "    \"\"\").encode(\"utf-8\")"
   ],
   "id": "47e6927a799f3dfc",
   "outputs": [],
   "execution_count": 82
  },
  {
   "metadata": {},
   "cell_type": "markdown",
   "source": [
    "The pipeline configure has the name 'DemoPipeline', supports the program version 1.0.0 and has an additional entry with the key 'extra_value'.\n",
    "It's most import entry are the components specified by the matching key named 'components'. Components are arranged in a tree.\n",
    "The tree structure defines the order of component execution later on.\n",
    "For easier use, the components are specified through their respective ids (e.g. the BaseInputPipelineComponent has the id 'BaseInput').\n",
    "\n",
    "\n",
    "After defining the .ini file content, we write the content into a temporary file:"
   ],
   "id": "9149acb680645319"
  },
  {
   "metadata": {
    "ExecuteTime": {
     "end_time": "2025-07-21T12:25:34.136199Z",
     "start_time": "2025-07-21T12:25:34.126279Z"
    }
   },
   "cell_type": "code",
   "source": [
    "temp_dir = tempfile.TemporaryDirectory()\n",
    "temp_pipeline_configuration_file = Path(temp_dir.name + \"/pipeline_configuration.ini\")\n",
    "\n",
    "with open(temp_pipeline_configuration_file, \"wb\") as f:\n",
    "    f.write(pipeline_configuration_file_content)\n",
    "\n",
    "print(temp_dir.name)"
   ],
   "id": "a3633b63351e8ac6",
   "outputs": [
    {
     "name": "stdout",
     "output_type": "stream",
     "text": [
      "C:\\Users\\janni\\AppData\\Local\\Temp\\tmpxay8v8t2\n"
     ]
    }
   ],
   "execution_count": 83
  },
  {
   "metadata": {},
   "cell_type": "markdown",
   "source": [
    "With a .ini configuration file, we can start to read in the pipeline configuration into internal structures using the static class 'PipelineConfigurationManager'.\n",
    "The operation 'load_from_file(path: Path)' reads in a .ini file and parses the input into an instance of the dataclass 'PipelineConfigurationData'.\n",
    "Instances of this dataclass store the individual entries of a pipeline configuration .ini file as raw strings.\n",
    "In particular, the values of entries are not evaluated (i.e. 'supported_program_version=Version(\"1.0.0\")' will be stored the string \"Version(\"1.0.0\")\" and not as an instance of the type 'packaging.Version')."
   ],
   "id": "8b7bde80f9bb7574"
  },
  {
   "metadata": {
    "ExecuteTime": {
     "end_time": "2025-07-21T12:25:34.332725Z",
     "start_time": "2025-07-21T12:25:34.325012Z"
    }
   },
   "cell_type": "code",
   "source": [
    "pipeline_configuration_data: PipelineConfigurationData = PipelineConfigurationFileManager.load_from_file(temp_pipeline_configuration_file)\n",
    "\n",
    "print(pipeline_configuration_data)"
   ],
   "id": "aaebea9be69c797f",
   "outputs": [
    {
     "name": "stdout",
     "output_type": "stream",
     "text": [
      "PipelineConfigurationData(name='\"DemoPipeline\"', supported_program_version='Version(\"1.0.0\")', components='DirectionalAcyclicGraph(\"\"\"\\n0=Base Input\\n1=Equidistant Node Generator\\n    predecessors=[\"0\"]\\n2=Function Expression Input\\n    predecessors=[\"1\"]\\n3=Interpolation Values Evaluator\\n    predecessors=[\"2\"]\\n4=Aitken Neville Interpolation\\n   predecessors=[\"3\"]\\n5=Newton Interpolation\\n    predecessors=[\"3\"]\\n6=Barycentric1 Interpolation\\n    predecessors=[\"3\"]\\n7=Barycentric2 Interpolation\\n    predecessors=[\"3\"]\\n8=Barycentric2 Chebyshev Interpolation\\n    predecessors=[\"3\"]\\n9=Interpolant Plotter\\n    predecessors=[\"4\", \"5\", \"6\", \"7\", \"8\"]\\n\"\"\")', additional_values={'extra_value': 'True'})\n"
     ]
    }
   ],
   "execution_count": 84
  },
  {
   "metadata": {},
   "cell_type": "markdown",
   "source": [
    "The last missing part is the parsing of the values. This can be conveniently done by simply instantiating an instance of the class 'PipelineConfiguration' using our pipeline_configuration_data.\n",
    "Furthermore, the class 'PipelineConfiguration' will automatically check the types of all values and throw exceptions if given an entry with a key of wrong type (e.g. name is an int instead of a str)."
   ],
   "id": "1210e168ac1c5746"
  },
  {
   "metadata": {
    "ExecuteTime": {
     "end_time": "2025-07-21T12:25:34.439750Z",
     "start_time": "2025-07-21T12:25:34.433022Z"
    }
   },
   "cell_type": "code",
   "source": [
    "pipeline_configuration: PipelineConfiguration = PipelineConfiguration(pipeline_configuration_data)\n",
    "\n",
    "print(pipeline_configuration)"
   ],
   "id": "eee6245731e67af6",
   "outputs": [
    {
     "name": "stdout",
     "output_type": "stream",
     "text": [
      "PipelineConfiguration(name='DemoPipeline', supported_program_version=<Version('1.0.0')>, components=<general_data_structures.directed_acyclic_graph.directional_acyclic_graph.DirectionalAcyclicGraph object at 0x0000028B205D5010>, additional_values={'extra_value': True})\n"
     ]
    }
   ],
   "execution_count": 85
  },
  {
   "metadata": {},
   "cell_type": "markdown",
   "source": [
    "#### PipelineInput\n",
    "A pipeline input contains all the data used as input when executing the pipeline.\n",
    "The pipeline input works very similarly to the pipeline configuration.\n",
    "Required are the keys 'data_type' with a value of type 'type', 'node_count' with an int value and 'interpolation_interval' with a jax.numpy.ndarray of shape '(2,)' as the value."
   ],
   "id": "5e47c34c1c7580a6"
  },
  {
   "metadata": {
    "ExecuteTime": {
     "end_time": "2025-07-21T12:25:34.630682Z",
     "start_time": "2025-07-21T12:25:34.626727Z"
    }
   },
   "cell_type": "code",
   "source": [
    "pipeline_input_file_content: bytes = textwrap.dedent(\"\"\"\\\n",
    "    name=\"TestPipeline\"\n",
    "    data_type=jax.numpy.float32\n",
    "    node_count=12\n",
    "    interpolation_interval=jax.numpy.array([-1, 1])\n",
    "    interpolant_evaluation_points=jax.numpy.array([-1, 0, 1])\n",
    "    function_expression=\"x**3\"\n",
    "\n",
    "    piecewise_function_expressions=[((0,1), 'x'), ((1,2), 'x**2')]\n",
    "    sympy_function_expression_simplification=True\n",
    "    function_callable=lambda x: x**2 + 3\n",
    "    function_values=jax.numpy.array([0.0, 1.0, 4.0, 9.0, 16.0])\n",
    "    §secret_token=\"abc123\"\n",
    "    extra_value=[1, 2, 3]\n",
    "    \"\"\").encode(\"utf-8\")"
   ],
   "id": "228cf4db09d002c",
   "outputs": [],
   "execution_count": 86
  },
  {
   "metadata": {},
   "cell_type": "markdown",
   "source": "We write the content into a temporary file:",
   "id": "a6b244bb9eaade05"
  },
  {
   "metadata": {
    "ExecuteTime": {
     "end_time": "2025-07-21T12:25:34.725216Z",
     "start_time": "2025-07-21T12:25:34.719033Z"
    }
   },
   "cell_type": "code",
   "source": [
    "temp_pipeline_input_file = Path(temp_dir.name + \"/pipeline_input.ini\")\n",
    "\n",
    "with open(temp_pipeline_input_file, \"wb\") as f:\n",
    "    f.write(pipeline_input_file_content)"
   ],
   "id": "dc60215b8daf8027",
   "outputs": [],
   "execution_count": 87
  },
  {
   "metadata": {},
   "cell_type": "markdown",
   "source": "Similiar to before, we can load the .ini file into an instance of the dataclass 'PipelineInputData' using the method 'load_from_file(path: Path)' from the static class 'PipelineInputFileManager'.",
   "id": "22f6a5d6760053e7"
  },
  {
   "metadata": {
    "ExecuteTime": {
     "end_time": "2025-07-21T12:25:34.783318Z",
     "start_time": "2025-07-21T12:25:34.775876Z"
    }
   },
   "cell_type": "code",
   "source": [
    "pipeline_input_data: PipelineInputData = PipelineInputFileManager.load_from_file(temp_pipeline_input_file)\n",
    "\n",
    "print(pipeline_input_data)"
   ],
   "id": "8d8246a8bd932372",
   "outputs": [
    {
     "name": "stdout",
     "output_type": "stream",
     "text": [
      "PipelineInputData(name='\"TestPipeline\"', data_type='jax.numpy.float32', node_count='12', interpolation_interval='jax.numpy.array([-1, 1])', function_expression='\"x**3\"', piecewise_function_expression=None, sympy_function_expression_simplification='True', function_callable='lambda x: x**2 + 3', interpolation_values=None, interpolant_evaluation_points='jax.numpy.array([-1, 0, 1])', additional_directly_injected_values={'secret_token': '\"abc123\"'}, additional_values={'piecewise_function_expressions': \"[((0,1), 'x'), ((1,2), 'x**2')]\", 'function_values': 'jax.numpy.array([0.0, 1.0, 4.0, 9.0, 16.0])', 'extra_value': '[1, 2, 3]'})\n"
     ]
    }
   ],
   "execution_count": 88
  },
  {
   "metadata": {},
   "cell_type": "markdown",
   "source": "We parse the 'pipeline_input_data' by initializing an instance of the class 'PipelineInput':",
   "id": "777918924e7388bf"
  },
  {
   "metadata": {
    "ExecuteTime": {
     "end_time": "2025-07-21T12:25:34.833722Z",
     "start_time": "2025-07-21T12:25:34.827129Z"
    }
   },
   "cell_type": "code",
   "source": [
    "pipeline_input: PipelineInput = PipelineInput(pipeline_input_data)\n",
    "\n",
    "print(pipeline_input)"
   ],
   "id": "2f2e7926d253b513",
   "outputs": [
    {
     "name": "stdout",
     "output_type": "stream",
     "text": [
      "PipelineInput(name='TestPipeline'', data_type='<class 'jax.numpy.float32'>', node_count=12, interpolation_interval=Array([-1,  1], dtype=int32), function_expression='x**3', piecewise_function_expressions=None, sympy_function_expression_simplification='True', function_callable=<function <lambda> at 0x0000028B205B47C0>, interpolation_values=None', interpolant_evaluation_points=Array([-1,  0,  1], dtype=int32), additional_directly_injected_values={'secret_token': 'abc123'}, additional_values={'piecewise_function_expressions': [((0, 1), 'x'), ((1, 2), 'x**2')], 'function_values': Array([ 0.,  1.,  4.,  9., 16.], dtype=float32), 'extra_value': [1, 2, 3]}')\n"
     ]
    }
   ],
   "execution_count": 89
  },
  {
   "metadata": {},
   "cell_type": "markdown",
   "source": [
    "#### Pipeline building\n",
    "Using the just created 'PipelineInput' and 'PipelineConfiguration' instances, we can assemble a pipeline:"
   ],
   "id": "2c4d9c0aa0828a6a"
  },
  {
   "metadata": {
    "ExecuteTime": {
     "end_time": "2025-07-21T12:25:34.910390Z",
     "start_time": "2025-07-21T12:25:34.905792Z"
    }
   },
   "cell_type": "code",
   "source": "pipeline: Pipeline = PipelineBuilder.build(pipeline_configuration, pipeline_input)",
   "id": "da2cc100f0e0567b",
   "outputs": [],
   "execution_count": 90
  },
  {
   "metadata": {},
   "cell_type": "markdown",
   "source": [
    "#### Pipeline execution\n",
    "Instances of the class 'PipelineManager' are responsible for the execution of pipelines.\n",
    "We start of by initializing a 'PipelineManager' with our pipeline."
   ],
   "id": "e7b39e6e75b5c7c"
  },
  {
   "metadata": {
    "ExecuteTime": {
     "end_time": "2025-07-21T12:25:34.962240Z",
     "start_time": "2025-07-21T12:25:34.954898Z"
    }
   },
   "cell_type": "code",
   "source": "pipeline_manager: PipelineManager = PipelineManager(pipeline)",
   "id": "a0c919805d911a50",
   "outputs": [],
   "execution_count": 91
  },
  {
   "metadata": {},
   "cell_type": "markdown",
   "source": "After the initialization, we can execute the complete pipeline by calling 'execute_all()'.",
   "id": "6750d130768ccff7"
  },
  {
   "metadata": {
    "ExecuteTime": {
     "end_time": "2025-07-21T12:25:36.278421Z",
     "start_time": "2025-07-21T12:25:35.080283Z"
    }
   },
   "cell_type": "code",
   "source": "pipeline_manager.execute_all()",
   "id": "f9e2f0c6856259c5",
   "outputs": [
    {
     "data": {
      "text/plain": [
       "<Figure size 1000x600 with 1 Axes>"
      ],
      "image/png": "[encoded data removed]"
     },
     "metadata": {},
     "output_type": "display_data"
    }
   ],
   "execution_count": 92
  },
  {
   "metadata": {
    "ExecuteTime": {
     "end_time": "2025-07-21T12:25:36.337446Z",
     "start_time": "2025-07-21T12:25:36.315542Z"
    }
   },
   "cell_type": "code",
   "source": [
    "for report in pipeline_manager.get_all_component_execution_reports():\n",
    "    print(f\"###### Report from node {report.component_instantiation_info.component_name} ({report.component_instantiation_info.component.component_id}) ######\")\n",
    "    print(report)\n",
    "    print(\"\\n\\n\")"
   ],
   "id": "2b008f4bac452b7c",
   "outputs": [
    {
     "name": "stdout",
     "output_type": "stream",
     "text": [
      "###### Report from node 0 (base input) ######\n",
      "PipelineComponentExecutionReport(component_instantiation_info=PipelineComponentInstantiationInfo(component_name='0', component=PipelineComponentInfo(component_id='base input', component_type=<class 'pipeline_entities.pipeline.component_entities.default_component_types.input_pipeline_component.InputPipelineComponent'>, component_class=<class 'pipeline_entities.pipeline.component_entities.default_components.default_input_components.base_input_pipeline_component.BaseInputPipelineComponent'>, component_meta_info=ComponentMetaInfo(attributes_modifying={'node_count', 'interpolation_interval', 'interpolant_evaluation_points', 'data_type'}, attributes_allowed_to_be_overridden={'node_count', 'interpolation_interval', 'interpolant_evaluation_points', 'data_type'}, pre_dynamic_constraints=[InputKeyRequiredConstraint(key='data_type'), InputKeyRequiredConstraint(key='node_count'), InputKeyRequiredConstraint(key='interpolation_interval'), InputKeyRequiredConstraint(key='interpolant_evaluation_points')], post_dynamic_constraints=[], static_constraints=[], allow_additional_value_modifications_outside_specification=True)), overridden_attributes={}), component_output=PipelineData(data_type=<class 'jax.numpy.float32'>, node_count=12, interpolation_interval=Array([-1,  1], dtype=int32), interpolant_evaluation_points=Array([-1,  0,  1], dtype=int32), function_callable=None, interpolation_nodes=None, interpolation_values=None, interpolant=None, interpolant_values=None, additional_values={'secret_token': 'abc123'}), component_init_time=3.9000005926936865e-06, component_execution_time=3.6999990697950125e-06)\n",
      "\n",
      "\n",
      "\n",
      "###### Report from node 1 (equidistant node generator) ######\n",
      "PipelineComponentExecutionReport(component_instantiation_info=PipelineComponentInstantiationInfo(component_name='1', component=PipelineComponentInfo(component_id='equidistant node generator', component_type=<class 'pipeline_entities.pipeline.component_entities.default_component_types.node_generator.NodeGenerator'>, component_class=<class 'pipeline_entities.pipeline.component_entities.default_components.default_node_generators.equidistant_node_generator.EquidistantNodeGenerator'>, component_meta_info=ComponentMetaInfo(attributes_modifying={'interpolation_nodes'}, attributes_allowed_to_be_overridden={'node_count', 'interpolation_interval', 'data_type'}, pre_dynamic_constraints=[], post_dynamic_constraints=[PipelineDataDtypeRequiredPostConstraint], static_constraints=[AttributeRequiredConstraint(attribute_name='data_type'), AttributeRequiredConstraint(attribute_name='node_count'), AttributeRequiredConstraint(attribute_name='interpolation_interval'), MinPredecessorsConstraint(min_amount=1), MaxPredecessorsConstraint(max_amount=1)], allow_additional_value_modifications_outside_specification=False)), overridden_attributes={}), component_output=PipelineData(data_type=<class 'jax.numpy.float32'>, node_count=12, interpolation_interval=Array([-1,  1], dtype=int32), interpolant_evaluation_points=Array([-1,  0,  1], dtype=int32), function_callable=None, interpolation_nodes=Array([-1.        , -0.81818175, -0.6363636 , -0.45454547, -0.27272725,\n",
      "       -0.09090903,  0.09090912,  0.27272725,  0.4545455 ,  0.63636374,\n",
      "        0.8181819 ,  1.        ], dtype=float32), interpolation_values=None, interpolant=None, interpolant_values=None, additional_values={'secret_token': 'abc123'}), component_init_time=0.027317200001562014, component_execution_time=0.0001956000050995499)\n",
      "\n",
      "\n",
      "\n",
      "###### Report from node 2 (function expression input) ######\n",
      "PipelineComponentExecutionReport(component_instantiation_info=PipelineComponentInstantiationInfo(component_name='2', component=PipelineComponentInfo(component_id='function expression input', component_type=<class 'pipeline_entities.pipeline.component_entities.default_component_types.input_pipeline_component.InputPipelineComponent'>, component_class=<class 'pipeline_entities.pipeline.component_entities.default_components.default_input_components.function_expression_input_component.FunctionExpressionInputComponent'>, component_meta_info=ComponentMetaInfo(attributes_modifying={'function_callable'}, attributes_allowed_to_be_overridden={'function_callable'}, pre_dynamic_constraints=[InputKeyRequiredConstraint(key='function_expression'), InputKeyRequiredConstraint(key='sympy_function_expression_simplification')], post_dynamic_constraints=[], static_constraints=[MinPredecessorsConstraint(min_amount=1), MaxPredecessorsConstraint(max_amount=1)], allow_additional_value_modifications_outside_specification=False)), overridden_attributes={}), component_output=PipelineData(data_type=<class 'jax.numpy.float32'>, node_count=12, interpolation_interval=Array([-1,  1], dtype=int32), interpolant_evaluation_points=Array([-1,  0,  1], dtype=int32), function_callable=<function _lambdifygenerated at 0x0000028B217F0540>, interpolation_nodes=Array([-1.        , -0.81818175, -0.6363636 , -0.45454547, -0.27272725,\n",
      "       -0.09090903,  0.09090912,  0.27272725,  0.4545455 ,  0.63636374,\n",
      "        0.8181819 ,  1.        ], dtype=float32), interpolation_values=None, interpolant=None, interpolant_values=None, additional_values={'secret_token': 'abc123'}), component_init_time=3.3999967854470015e-06, component_execution_time=0.0013055000017629936)\n",
      "\n",
      "\n",
      "\n",
      "###### Report from node 3 (interpolation values evaluator) ######\n",
      "PipelineComponentExecutionReport(component_instantiation_info=PipelineComponentInstantiationInfo(component_name='3', component=PipelineComponentInfo(component_id='interpolation values evaluator', component_type=<class 'pipeline_entities.pipeline.component_entities.default_component_types.evaluator_component.EvaluatorComponent'>, component_class=<class 'pipeline_entities.pipeline.component_entities.default_components.default_evaluation_components.interpolation_values_evaluator.InterpolationValuesEvaluator'>, component_meta_info=ComponentMetaInfo(attributes_modifying={'interpolation_values'}, attributes_allowed_to_be_overridden={'interpolation_nodes', 'function_callable', 'data_type'}, pre_dynamic_constraints=[], post_dynamic_constraints=[PipelineDataDtypeRequiredPostConstraint], static_constraints=[AttributeRequiredConstraint(attribute_name='data_type'), AttributeRequiredConstraint(attribute_name='function_callable'), AttributeRequiredConstraint(attribute_name='interpolation_nodes'), MinPredecessorsConstraint(min_amount=1), MaxPredecessorsConstraint(max_amount=1)], allow_additional_value_modifications_outside_specification=False)), overridden_attributes={}), component_output=PipelineData(data_type=<class 'jax.numpy.float32'>, node_count=12, interpolation_interval=Array([-1,  1], dtype=int32), interpolant_evaluation_points=Array([-1,  0,  1], dtype=int32), function_callable=<function _lambdifygenerated at 0x0000028B217F0540>, interpolation_nodes=Array([-1.        , -0.81818175, -0.6363636 , -0.45454547, -0.27272725,\n",
      "       -0.09090903,  0.09090912,  0.27272725,  0.4545455 ,  0.63636374,\n",
      "        0.8181819 ,  1.        ], dtype=float32), interpolation_values=Array([-1.0000000e+00, -5.4770833e-01, -2.5770095e-01, -9.3914360e-02,\n",
      "       -2.0285495e-02, -7.5131335e-04,  7.5131562e-04,  2.0285495e-02,\n",
      "        9.3914375e-02,  2.5770110e-01,  5.4770857e-01,  1.0000000e+00],      dtype=float32), interpolant=None, interpolant_values=None, additional_values={'secret_token': 'abc123'}), component_init_time=0.011411899991799146, component_execution_time=0.000235399988014251)\n",
      "\n",
      "\n",
      "\n",
      "###### Report from node 8 (barycentric2 chebyshev interpolation) ######\n",
      "PipelineComponentExecutionReport(component_instantiation_info=PipelineComponentInstantiationInfo(component_name='8', component=PipelineComponentInfo(component_id='barycentric2 chebyshev interpolation', component_type=<class 'pipeline_entities.pipeline.component_entities.default_component_types.interpolation_core.InterpolationCore'>, component_class=<class 'pipeline_entities.pipeline.component_entities.default_components.default_interpolation_cores.barycentric_second_chebyshev_interpolation_core.BarycentricSecondChebyshevInterpolationCore'>, component_meta_info=ComponentMetaInfo(attributes_modifying={'interpolant'}, attributes_allowed_to_be_overridden={'interpolation_values', 'node_count', 'interpolation_nodes', 'data_type'}, pre_dynamic_constraints=[], post_dynamic_constraints=[], static_constraints=[AttributeRequiredConstraint(attribute_name='interpolation_nodes'), AttributeRequiredConstraint(attribute_name='interpolation_values'), AttributeRequiredConstraint(attribute_name='data_type'), AttributeRequiredConstraint(attribute_name='node_count'), MinPredecessorsConstraint(min_amount=1), MaxPredecessorsConstraint(max_amount=1)], allow_additional_value_modifications_outside_specification=False)), overridden_attributes={}), component_output=PipelineData(data_type=<class 'jax.numpy.float32'>, node_count=12, interpolation_interval=Array([-1,  1], dtype=int32), interpolant_evaluation_points=Array([-1,  0,  1], dtype=int32), function_callable=<function _lambdifygenerated at 0x0000028B217F0540>, interpolation_nodes=Array([-1.        , -0.81818175, -0.6363636 , -0.45454547, -0.27272725,\n",
      "       -0.09090903,  0.09090912,  0.27272725,  0.4545455 ,  0.63636374,\n",
      "        0.8181819 ,  1.        ], dtype=float32), interpolation_values=Array([-1.0000000e+00, -5.4770833e-01, -2.5770095e-01, -9.3914360e-02,\n",
      "       -2.0285495e-02, -7.5131335e-04,  7.5131562e-04,  2.0285495e-02,\n",
      "        9.3914375e-02,  2.5770110e-01,  5.4770857e-01,  1.0000000e+00],      dtype=float32), interpolant=BarycentricSecondInterpolant(nodes=Array([-1.        , -0.81818175, -0.6363636 , -0.45454547, -0.27272725,\n",
      "       -0.09090903,  0.09090912,  0.27272725,  0.4545455 ,  0.63636374,\n",
      "        0.8181819 ,  1.        ], dtype=float32), values=Array([-1.0000000e+00, -5.4770833e-01, -2.5770095e-01, -9.3914360e-02,\n",
      "       -2.0285495e-02, -7.5131335e-04,  7.5131562e-04,  2.0285495e-02,\n",
      "        9.3914375e-02,  2.5770110e-01,  5.4770857e-01,  1.0000000e+00],      dtype=float32), weights=Array([ 0.5, -1. ,  1. , -1. ,  1. , -1. ,  1. , -1. ,  1. , -1. ,  1. ,\n",
      "       -0.5], dtype=float32)), interpolant_values=None, additional_values={'secret_token': 'abc123'}), component_init_time=0.02962459999253042, component_execution_time=0.0001863000070443377)\n",
      "\n",
      "\n",
      "\n",
      "###### Report from node 7 (barycentric2 interpolation) ######\n",
      "PipelineComponentExecutionReport(component_instantiation_info=PipelineComponentInstantiationInfo(component_name='7', component=PipelineComponentInfo(component_id='barycentric2 interpolation', component_type=<class 'pipeline_entities.pipeline.component_entities.default_component_types.interpolation_core.InterpolationCore'>, component_class=<class 'pipeline_entities.pipeline.component_entities.default_components.default_interpolation_cores.barycentric_second_interpolation_core.BarycentricSecondInterpolationCore'>, component_meta_info=ComponentMetaInfo(attributes_modifying={'interpolant'}, attributes_allowed_to_be_overridden={'interpolation_values', 'node_count', 'interpolation_nodes', 'data_type'}, pre_dynamic_constraints=[], post_dynamic_constraints=[], static_constraints=[AttributeRequiredConstraint(attribute_name='interpolation_nodes'), AttributeRequiredConstraint(attribute_name='interpolation_values'), AttributeRequiredConstraint(attribute_name='data_type'), AttributeRequiredConstraint(attribute_name='node_count'), MinPredecessorsConstraint(min_amount=1), MaxPredecessorsConstraint(max_amount=1)], allow_additional_value_modifications_outside_specification=False)), overridden_attributes={}), component_output=PipelineData(data_type=<class 'jax.numpy.float32'>, node_count=12, interpolation_interval=Array([-1,  1], dtype=int32), interpolant_evaluation_points=Array([-1,  0,  1], dtype=int32), function_callable=<function _lambdifygenerated at 0x0000028B217F0540>, interpolation_nodes=Array([-1.        , -0.81818175, -0.6363636 , -0.45454547, -0.27272725,\n",
      "       -0.09090903,  0.09090912,  0.27272725,  0.4545455 ,  0.63636374,\n",
      "        0.8181819 ,  1.        ], dtype=float32), interpolation_values=Array([-1.0000000e+00, -5.4770833e-01, -2.5770095e-01, -9.3914360e-02,\n",
      "       -2.0285495e-02, -7.5131335e-04,  7.5131562e-04,  2.0285495e-02,\n",
      "        9.3914375e-02,  2.5770110e-01,  5.4770857e-01,  1.0000000e+00],      dtype=float32), interpolant=BarycentricSecondInterpolant(nodes=Array([-1.        , -0.81818175, -0.6363636 , -0.45454547, -0.27272725,\n",
      "       -0.09090903,  0.09090912,  0.27272725,  0.4545455 ,  0.63636374,\n",
      "        0.8181819 ,  1.        ], dtype=float32), values=Array([-1.0000000e+00, -5.4770833e-01, -2.5770095e-01, -9.3914360e-02,\n",
      "       -2.0285495e-02, -7.5131335e-04,  7.5131562e-04,  2.0285495e-02,\n",
      "        9.3914375e-02,  2.5770110e-01,  5.4770857e-01,  1.0000000e+00],      dtype=float32), weights=Array([   -3.4900656,    38.390762 ,  -191.95374  ,   575.86096  ,\n",
      "       -1151.7218   ,  1612.4111   , -1612.4114   ,  1151.722    ,\n",
      "        -575.8607   ,   191.95358  ,   -38.390762 ,     3.490071 ],      dtype=float32)), interpolant_values=None, additional_values={'secret_token': 'abc123'}), component_init_time=0.07736080000177026, component_execution_time=0.0007449999975506216)\n",
      "\n",
      "\n",
      "\n",
      "###### Report from node 6 (barycentric1 interpolation) ######\n",
      "PipelineComponentExecutionReport(component_instantiation_info=PipelineComponentInstantiationInfo(component_name='6', component=PipelineComponentInfo(component_id='barycentric1 interpolation', component_type=<class 'pipeline_entities.pipeline.component_entities.default_component_types.interpolation_core.InterpolationCore'>, component_class=<class 'pipeline_entities.pipeline.component_entities.default_components.default_interpolation_cores.barycentric_first_interpolation_core.BarycentricFirstInterpolationCore'>, component_meta_info=ComponentMetaInfo(attributes_modifying={'interpolant'}, attributes_allowed_to_be_overridden={'interpolation_values', 'node_count', 'interpolation_nodes', 'data_type'}, pre_dynamic_constraints=[], post_dynamic_constraints=[], static_constraints=[AttributeRequiredConstraint(attribute_name='interpolation_nodes'), AttributeRequiredConstraint(attribute_name='interpolation_values'), AttributeRequiredConstraint(attribute_name='data_type'), AttributeRequiredConstraint(attribute_name='node_count'), MinPredecessorsConstraint(min_amount=1), MaxPredecessorsConstraint(max_amount=1)], allow_additional_value_modifications_outside_specification=False)), overridden_attributes={}), component_output=PipelineData(data_type=<class 'jax.numpy.float32'>, node_count=12, interpolation_interval=Array([-1,  1], dtype=int32), interpolant_evaluation_points=Array([-1,  0,  1], dtype=int32), function_callable=<function _lambdifygenerated at 0x0000028B217F0540>, interpolation_nodes=Array([-1.        , -0.81818175, -0.6363636 , -0.45454547, -0.27272725,\n",
      "       -0.09090903,  0.09090912,  0.27272725,  0.4545455 ,  0.63636374,\n",
      "        0.8181819 ,  1.        ], dtype=float32), interpolation_values=Array([-1.0000000e+00, -5.4770833e-01, -2.5770095e-01, -9.3914360e-02,\n",
      "       -2.0285495e-02, -7.5131335e-04,  7.5131562e-04,  2.0285495e-02,\n",
      "        9.3914375e-02,  2.5770110e-01,  5.4770857e-01,  1.0000000e+00],      dtype=float32), interpolant=BarycentricFirstInterpolant(nodes=Array([-1.        , -0.81818175, -0.6363636 , -0.45454547, -0.27272725,\n",
      "       -0.09090903,  0.09090912,  0.27272725,  0.4545455 ,  0.63636374,\n",
      "        0.8181819 ,  1.        ], dtype=float32), values=Array([-1.0000000e+00, -5.4770833e-01, -2.5770095e-01, -9.3914360e-02,\n",
      "       -2.0285495e-02, -7.5131335e-04,  7.5131562e-04,  2.0285495e-02,\n",
      "        9.3914375e-02,  2.5770110e-01,  5.4770857e-01,  1.0000000e+00],      dtype=float32), weights=Array([   -3.4900656,    38.390762 ,  -191.95374  ,   575.86096  ,\n",
      "       -1151.7218   ,  1612.4111   , -1612.4114   ,  1151.722    ,\n",
      "        -575.8607   ,   191.95358  ,   -38.390762 ,     3.490071 ],      dtype=float32)), interpolant_values=None, additional_values={'secret_token': 'abc123'}), component_init_time=0.06938680000894237, component_execution_time=0.0002460000105202198)\n",
      "\n",
      "\n",
      "\n",
      "###### Report from node 5 (newton interpolation) ######\n",
      "PipelineComponentExecutionReport(component_instantiation_info=PipelineComponentInstantiationInfo(component_name='5', component=PipelineComponentInfo(component_id='newton interpolation', component_type=<class 'pipeline_entities.pipeline.component_entities.default_component_types.interpolation_core.InterpolationCore'>, component_class=<class 'pipeline_entities.pipeline.component_entities.default_components.default_interpolation_cores.newton_interpolation_core.NewtonInterpolationCore'>, component_meta_info=ComponentMetaInfo(attributes_modifying={'interpolant'}, attributes_allowed_to_be_overridden={'interpolation_values', 'node_count', 'interpolation_nodes', 'data_type'}, pre_dynamic_constraints=[], post_dynamic_constraints=[], static_constraints=[AttributeRequiredConstraint(attribute_name='interpolation_nodes'), AttributeRequiredConstraint(attribute_name='interpolation_values'), AttributeRequiredConstraint(attribute_name='data_type'), AttributeRequiredConstraint(attribute_name='node_count'), MinPredecessorsConstraint(min_amount=1), MaxPredecessorsConstraint(max_amount=1)], allow_additional_value_modifications_outside_specification=False)), overridden_attributes={}), component_output=PipelineData(data_type=<class 'jax.numpy.float32'>, node_count=12, interpolation_interval=Array([-1,  1], dtype=int32), interpolant_evaluation_points=Array([-1,  0,  1], dtype=int32), function_callable=<function _lambdifygenerated at 0x0000028B217F0540>, interpolation_nodes=Array([-1.        , -0.81818175, -0.6363636 , -0.45454547, -0.27272725,\n",
      "       -0.09090903,  0.09090912,  0.27272725,  0.4545455 ,  0.63636374,\n",
      "        0.8181819 ,  1.        ], dtype=float32), interpolation_values=Array([-1.0000000e+00, -5.4770833e-01, -2.5770095e-01, -9.3914360e-02,\n",
      "       -2.0285495e-02, -7.5131335e-04,  7.5131562e-04,  2.0285495e-02,\n",
      "        9.3914375e-02,  2.5770110e-01,  5.4770857e-01,  1.0000000e+00],      dtype=float32), interpolant=NewtonInterpolant(divided_differences=Array([-1.0000000e+00,  2.4876032e+00, -2.4545457e+00,  1.0000011e+00,\n",
      "       -1.8030405e-06,  1.9833444e-06, -1.4875083e-06,  6.4930907e-07,\n",
      "        8.9280142e-08, -6.0016009e-07,  9.3024806e-07, -7.6520399e-07],      dtype=float32), nodes=Array([-1.        , -0.81818175, -0.6363636 , -0.45454547, -0.27272725,\n",
      "       -0.09090903,  0.09090912,  0.27272725,  0.4545455 ,  0.63636374,\n",
      "        0.8181819 ,  1.        ], dtype=float32)), interpolant_values=None, additional_values={'secret_token': 'abc123'}), component_init_time=0.06684450000466313, component_execution_time=0.0003620000061346218)\n",
      "\n",
      "\n",
      "\n",
      "###### Report from node 4 (aitken neville interpolation) ######\n",
      "PipelineComponentExecutionReport(component_instantiation_info=PipelineComponentInstantiationInfo(component_name='4', component=PipelineComponentInfo(component_id='aitken neville interpolation', component_type=<class 'pipeline_entities.pipeline.component_entities.default_component_types.interpolation_core.InterpolationCore'>, component_class=<class 'pipeline_entities.pipeline.component_entities.default_components.default_interpolation_cores.aitken_neville_interpolation_core.AitkenNevilleInterpolationCore'>, component_meta_info=ComponentMetaInfo(attributes_modifying={'interpolant'}, attributes_allowed_to_be_overridden={'interpolation_values', 'node_count', 'interpolation_nodes', 'data_type'}, pre_dynamic_constraints=[], post_dynamic_constraints=[], static_constraints=[AttributeRequiredConstraint(attribute_name='interpolation_nodes'), AttributeRequiredConstraint(attribute_name='interpolation_values'), AttributeRequiredConstraint(attribute_name='data_type'), AttributeRequiredConstraint(attribute_name='node_count'), MinPredecessorsConstraint(min_amount=1), MaxPredecessorsConstraint(max_amount=1)], allow_additional_value_modifications_outside_specification=False)), overridden_attributes={}), component_output=PipelineData(data_type=<class 'jax.numpy.float32'>, node_count=12, interpolation_interval=Array([-1,  1], dtype=int32), interpolant_evaluation_points=Array([-1,  0,  1], dtype=int32), function_callable=<function _lambdifygenerated at 0x0000028B217F0540>, interpolation_nodes=Array([-1.        , -0.81818175, -0.6363636 , -0.45454547, -0.27272725,\n",
      "       -0.09090903,  0.09090912,  0.27272725,  0.4545455 ,  0.63636374,\n",
      "        0.8181819 ,  1.        ], dtype=float32), interpolation_values=Array([-1.0000000e+00, -5.4770833e-01, -2.5770095e-01, -9.3914360e-02,\n",
      "       -2.0285495e-02, -7.5131335e-04,  7.5131562e-04,  2.0285495e-02,\n",
      "        9.3914375e-02,  2.5770110e-01,  5.4770857e-01,  1.0000000e+00],      dtype=float32), interpolant=AitkenNevilleInterpolant(coefficients=Array([ 3.5088993e-10,  4.7276894e-09,  2.2918043e-08,  1.0000000e+00,\n",
      "       -2.1559613e-07,  9.1374847e-07,  9.1674792e-07, -3.3576428e-06,\n",
      "       -1.6204638e-07,  3.4532766e-06, -3.0962815e-07, -7.6520399e-07],      dtype=float32)), interpolant_values=None, additional_values={'secret_token': 'abc123'}), component_init_time=0.09420690000115428, component_execution_time=0.0002936999953817576)\n",
      "\n",
      "\n",
      "\n",
      "###### Report from node 9 (interpolant plotter) ######\n",
      "PipelineComponentExecutionReport(component_instantiation_info=PipelineComponentInstantiationInfo(component_name='9', component=PipelineComponentInfo(component_id='interpolant plotter', component_type=<class 'pipeline_entities.pipeline.component_entities.default_component_types.interpolation_core.InterpolationCore'>, component_class=<class 'pipeline_entities.pipeline.component_entities.default_components.default_plotting_components.interpolants_plot_component.InterpolantsPlotComponent'>, component_meta_info=ComponentMetaInfo(attributes_modifying=set(), attributes_allowed_to_be_overridden=set(), pre_dynamic_constraints=[], post_dynamic_constraints=[], static_constraints=[AttributeRequiredConstraint(attribute_name='interpolation_interval'), AttributeRequiredConstraint(attribute_name='function_callable'), AttributeRequiredConstraint(attribute_name='interpolation_nodes'), AttributeRequiredConstraint(attribute_name='interpolant')], allow_additional_value_modifications_outside_specification=False)), overridden_attributes={}), component_output=PipelineData(data_type=<class 'jax.numpy.float32'>, node_count=12, interpolation_interval=Array([-1,  1], dtype=int32), interpolant_evaluation_points=Array([-1,  0,  1], dtype=int32), function_callable=<function _lambdifygenerated at 0x0000028B217F0540>, interpolation_nodes=Array([-1.        , -0.81818175, -0.6363636 , -0.45454547, -0.27272725,\n",
      "       -0.09090903,  0.09090912,  0.27272725,  0.4545455 ,  0.63636374,\n",
      "        0.8181819 ,  1.        ], dtype=float32), interpolation_values=Array([-1.0000000e+00, -5.4770833e-01, -2.5770095e-01, -9.3914360e-02,\n",
      "       -2.0285495e-02, -7.5131335e-04,  7.5131562e-04,  2.0285495e-02,\n",
      "        9.3914375e-02,  2.5770110e-01,  5.4770857e-01,  1.0000000e+00],      dtype=float32), interpolant=AitkenNevilleInterpolant(coefficients=Array([ 3.5088993e-10,  4.7276894e-09,  2.2918043e-08,  1.0000000e+00,\n",
      "       -2.1559613e-07,  9.1374847e-07,  9.1674792e-07, -3.3576428e-06,\n",
      "       -1.6204638e-07,  3.4532766e-06, -3.0962815e-07, -7.6520399e-07],      dtype=float32)), interpolant_values=None, additional_values={'secret_token': 'abc123'}), component_init_time=4.999994416721165e-06, component_execution_time=0.6235419000004185)\n",
      "\n",
      "\n",
      "\n"
     ]
    }
   ],
   "execution_count": 93
  }
 ],
 "metadata": {
  "kernelspec": {
   "display_name": "Python 3",
   "language": "python",
   "name": "python3"
  },
  "language_info": {
   "codemirror_mode": {
    "name": "ipython",
    "version": 2
   },
   "file_extension": ".py",
   "mimetype": "text/x-python",
   "name": "python",
   "nbconvert_exporter": "python",
   "pygments_lexer": "ipython2",
   "version": "2.7.6"
  }
 },
 "nbformat": 4,
 "nbformat_minor": 5
}
