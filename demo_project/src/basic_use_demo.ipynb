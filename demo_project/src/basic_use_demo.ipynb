{
 "cells": [
  {
   "metadata": {},
   "cell_type": "markdown",
   "source": [
    "# Basic use demo\n",
    "This jupyter notebook shows the basic use of the internals."
   ],
   "id": "524d3143e71b367d"
  },
  {
   "metadata": {},
   "cell_type": "markdown",
   "source": "#### Imports",
   "id": "293826e6896cdcdd"
  },
  {
   "metadata": {
    "ExecuteTime": {
     "end_time": "2025-07-07T14:52:48.544913Z",
     "start_time": "2025-07-07T14:52:47.981233Z"
    }
   },
   "cell_type": "code",
   "source": [
    "import textwrap\n",
    "import tempfile\n",
    "\n",
    "from pathlib import Path\n",
    "\n",
    "from file_handling.pipeline_input_handling.pipeline_input_file_manager import PipelineInputFileManager\n",
    "from pipeline_entities.pipeline_configuration.dataclasses.pipeline_configuration_data import PipelineConfigurationData\n",
    "from file_handling.pipeline_configuration_handling.pipeline_configuration_file_manager import \\\n",
    "    PipelineConfigurationFileManager\n",
    "from pipeline_entities.pipeline_configuration.dataclasses.pipeline_configuration import PipelineConfiguration\n",
    "from pipeline_entities.pipeline_input.pipeline_input import PipelineInput\n",
    "from pipeline_entities.pipeline_input.pipeline_input_data import PipelineInputData\n",
    "from pipeline_entities.pipeline.pipeline import Pipeline\n",
    "from pipeline_entities.pipeline_builder.pipeline_builder import PipelineBuilder\n",
    "from pipeline_entities.pipeline_manager.pipeline_manager import PipelineManager\n",
    "from setup_manager.internal_logic_setup_manager import InternalLogicSetupManager"
   ],
   "id": "11ed479a97f7c8dc",
   "outputs": [],
   "execution_count": 1
  },
  {
   "metadata": {},
   "cell_type": "markdown",
   "source": "#### Setup",
   "id": "d9de42f75f6a03ff"
  },
  {
   "metadata": {
    "ExecuteTime": {
     "end_time": "2025-07-07T14:52:49.291687Z",
     "start_time": "2025-07-07T14:52:48.548908Z"
    }
   },
   "cell_type": "code",
   "source": "InternalLogicSetupManager.setup()",
   "id": "c1313e204310d509",
   "outputs": [],
   "execution_count": 2
  },
  {
   "metadata": {},
   "cell_type": "markdown",
   "source": [
    "#### Pipeline configuration\n",
    "A pipeline configuration defines the structure of a pipeline. Pipeline configurations are loaded from .ini files.\n",
    "We are using a temporary file to make things easier for this demo.\n",
    "The .ini content must contain the keys 'supported_program_version' with a value of the type 'packaging.Version' and 'components' with a value of the type 'Tree[str]'.\n",
    "Values can be written over multiple lines by ending a line with the known '\\\\'.\n",
    "We are using the following .ini content:"
   ],
   "id": "62bef21ca10dd36f"
  },
  {
   "metadata": {
    "ExecuteTime": {
     "end_time": "2025-07-07T14:52:49.479841Z",
     "start_time": "2025-07-07T14:52:49.473927Z"
    }
   },
   "cell_type": "code",
   "source": [
    "pipeline_configuration_file_content: bytes = textwrap.dedent(\"\"\"\\\n",
    "    name=\"DemoPipeline\"\n",
    "    supported_program_version=Version(\\\"1.0.0\\\")\n",
    "    components=DirectionalAcyclicGraph(\\\"\\\"\\\"\n",
    "        0=Base Input\n",
    "        1=Equidistant Node Generator\n",
    "            predecessors=[\"0\"]\n",
    "        2=Function Expression Input\n",
    "            predecessors=[\"1\"]\n",
    "        3=Interpolation Values Evaluator\n",
    "            predecessors=[\"2\"]\n",
    "        4=Aitken Neville Interpolation\n",
    "            predecessors=[\"3\"]\n",
    "        5=Newton Interpolation\n",
    "            predecessors=[\"3\"]\n",
    "        6=Barycentric1 Interpolation\n",
    "            predecessors=[\"3\"]\n",
    "        7=Barycentric2 Interpolation\n",
    "            predecessors=[\"3\"]\n",
    "        8=Interpolant Plotter\n",
    "            predecessors=[\"4\",\"5\",\"6\",\"7\"]\n",
    "        \\\"\\\"\\\")\n",
    "    extra_value=True\n",
    "    \"\"\").encode(\"utf-8\")"
   ],
   "id": "47e6927a799f3dfc",
   "outputs": [],
   "execution_count": 3
  },
  {
   "metadata": {},
   "cell_type": "markdown",
   "source": [
    "The pipeline configure has the name 'DemoPipeline', supports the program version 1.0.0 and has an additional entry with the key 'extra_value'.\n",
    "It's most import entry are the components specified by the matching key named 'components'. Components are arranged in a tree.\n",
    "The tree structure defines the order of component execution later on.\n",
    "For easier use, the components are specified through their respective ids (e.g. the BaseInputPipelineComponent has the id 'BaseInput').\n",
    "\n",
    "\n",
    "After defining the .ini file content, we write the content into a temporary file:"
   ],
   "id": "9149acb680645319"
  },
  {
   "metadata": {
    "ExecuteTime": {
     "end_time": "2025-07-07T14:52:49.500524Z",
     "start_time": "2025-07-07T14:52:49.492437Z"
    }
   },
   "cell_type": "code",
   "source": [
    "temp_dir = tempfile.TemporaryDirectory()\n",
    "temp_pipeline_configuration_file = Path(temp_dir.name + \"/pipeline_configuration.ini\")\n",
    "\n",
    "with open(temp_pipeline_configuration_file, \"wb\") as f:\n",
    "    f.write(pipeline_configuration_file_content)\n",
    "\n",
    "print(temp_dir.name)"
   ],
   "id": "a3633b63351e8ac6",
   "outputs": [
    {
     "name": "stdout",
     "output_type": "stream",
     "text": [
      "C:\\Users\\49157\\AppData\\Local\\Temp\\tmp1wmzm2p3\n"
     ]
    }
   ],
   "execution_count": 4
  },
  {
   "metadata": {},
   "cell_type": "markdown",
   "source": [
    "With a .ini configuration file, we can start to read in the pipeline configuration into internal structures using the static class 'PipelineConfigurationManager'.\n",
    "The operation 'load_from_file(path: Path)' reads in a .ini file and parses the input into an instance of the dataclass 'PipelineConfigurationData'.\n",
    "Instances of this dataclass store the individual entries of a pipeline configuration .ini file as raw strings.\n",
    "In particular, the values of entries are not evaluated (i.e. 'supported_program_version=Version(\"1.0.0\")' will be stored the string \"Version(\"1.0.0\")\" and not as an instance of the type 'packaging.Version')."
   ],
   "id": "8b7bde80f9bb7574"
  },
  {
   "metadata": {
    "ExecuteTime": {
     "end_time": "2025-07-07T14:52:49.518205Z",
     "start_time": "2025-07-07T14:52:49.508722Z"
    }
   },
   "cell_type": "code",
   "source": [
    "pipeline_configuration_data: PipelineConfigurationData = PipelineConfigurationFileManager.load_from_file(temp_pipeline_configuration_file)\n",
    "\n",
    "print(pipeline_configuration_data)"
   ],
   "id": "aaebea9be69c797f",
   "outputs": [
    {
     "name": "stdout",
     "output_type": "stream",
     "text": [
      "PipelineConfigurationData(name='\"DemoPipeline\"', supported_program_version='Version(\"1.0.0\")', components='DirectionalAcyclicGraph(\"\"\"\\n0=Base Input\\n1=Equidistant Node Generator\\n    predecessors=[\"0\"]\\n2=Function Expression Input\\n    predecessors=[\"1\"]\\n3=Interpolation Values Evaluator\\n    predecessors=[\"2\"]\\n4=Aitken Neville Interpolation\\n    predecessors=[\"3\"]\\n5=Newton Interpolation\\n    predecessors=[\"3\"]\\n6=Barycentric1 Interpolation\\n    predecessors=[\"3\"]\\n7=Barycentric2 Interpolation\\n    predecessors=[\"3\"]\\n8=Interpolant Plotter\\n    predecessors=[\"4\",\"5\",\"6\",\"7\"]\\n\"\"\")', additional_values={'extra_value': 'True'})\n"
     ]
    }
   ],
   "execution_count": 5
  },
  {
   "metadata": {},
   "cell_type": "markdown",
   "source": [
    "The last missing part is the parsing of the values. This can be conveniently done by simply instantiating an instance of the class 'PipelineConfiguration' using our pipeline_configuration_data.\n",
    "Furthermore, the class 'PipelineConfiguration' will automatically check the types of all values and throw exceptions if given an entry with a key of wrong type (e.g. name is an int instead of a str)."
   ],
   "id": "1210e168ac1c5746"
  },
  {
   "metadata": {
    "ExecuteTime": {
     "end_time": "2025-07-07T14:52:49.536557Z",
     "start_time": "2025-07-07T14:52:49.524273Z"
    }
   },
   "cell_type": "code",
   "source": [
    "pipeline_configuration: PipelineConfiguration = PipelineConfiguration(pipeline_configuration_data)\n",
    "\n",
    "print(pipeline_configuration)"
   ],
   "id": "eee6245731e67af6",
   "outputs": [
    {
     "name": "stdout",
     "output_type": "stream",
     "text": [
      "PipelineConfiguration(name='DemoPipeline', supported_program_version=<Version('1.0.0')>, components=<data_structures.directed_acyclic_graph.directional_acyclic_graph.DirectionalAcyclicGraph object at 0x000001418A90C910>, additional_values={'extra_value': True})\n"
     ]
    }
   ],
   "execution_count": 6
  },
  {
   "metadata": {},
   "cell_type": "markdown",
   "source": [
    "#### PipelineInput\n",
    "A pipeline input contains all the data used as input when executing the pipeline.\n",
    "The pipeline input works very similarly to the pipeline configuration.\n",
    "Required are the keys 'data_type' with a value of type 'type', 'node_count' with an int value and 'interpolation_interval' with a jax.numpy.ndarray of shape '(2,)' as the value."
   ],
   "id": "5e47c34c1c7580a6"
  },
  {
   "metadata": {
    "ExecuteTime": {
     "end_time": "2025-07-07T14:52:49.563079Z",
     "start_time": "2025-07-07T14:52:49.548729Z"
    }
   },
   "cell_type": "code",
   "source": [
    "pipeline_input_file_content: bytes = textwrap.dedent(\"\"\"\\\n",
    "    name=\"TestPipeline\"\n",
    "    data_type=jax.numpy.float32\n",
    "    node_count=36\n",
    "    interpolation_interval=jax.numpy.array([-1, 1])\n",
    "    function_expression=\"sin(10*x)\"\n",
    "    piecewise_function_expressions=[((0,1), 'x'), ((1,2), 'x**2')]\n",
    "    sympy_function_expression_simplification=True\n",
    "    function_callable=lambda x: x**2 + 3\n",
    "    function_values=jax.numpy.array([0.0, 1.0, 4.0, 9.0, 16.0])\n",
    "    §secret_token=\"abc123\"\n",
    "    extra_value=[1, 2, 3]\n",
    "    \"\"\").encode(\"utf-8\")"
   ],
   "id": "228cf4db09d002c",
   "outputs": [],
   "execution_count": 7
  },
  {
   "metadata": {},
   "cell_type": "markdown",
   "source": "We write the content into a temporary file:",
   "id": "a6b244bb9eaade05"
  },
  {
   "metadata": {
    "ExecuteTime": {
     "end_time": "2025-07-07T14:52:49.580018Z",
     "start_time": "2025-07-07T14:52:49.575396Z"
    }
   },
   "cell_type": "code",
   "source": [
    "temp_pipeline_input_file = Path(temp_dir.name + \"/pipeline_input.ini\")\n",
    "\n",
    "with open(temp_pipeline_input_file, \"wb\") as f:\n",
    "    f.write(pipeline_input_file_content)"
   ],
   "id": "dc60215b8daf8027",
   "outputs": [],
   "execution_count": 8
  },
  {
   "metadata": {},
   "cell_type": "markdown",
   "source": "Similiar to before, we can load the .ini file into an instance of the dataclass 'PipelineInputData' using the method 'load_from_file(path: Path)' from the static class 'PipelineInputFileManager'.",
   "id": "22f6a5d6760053e7"
  },
  {
   "metadata": {
    "ExecuteTime": {
     "end_time": "2025-07-07T14:52:49.598101Z",
     "start_time": "2025-07-07T14:52:49.590781Z"
    }
   },
   "cell_type": "code",
   "source": [
    "pipeline_input_data: PipelineInputData = PipelineInputFileManager.load_from_file(temp_pipeline_input_file)\n",
    "\n",
    "print(pipeline_input_data)"
   ],
   "id": "8d8246a8bd932372",
   "outputs": [
    {
     "name": "stdout",
     "output_type": "stream",
     "text": [
      "PipelineInputData(name='\"TestPipeline\"', data_type='jax.numpy.float32', node_count='36', interpolation_interval='jax.numpy.array([-1, 1])', function_expression='\"sin(10*x)\"', piecewise_function_expression=None, sympy_function_expression_simplification='True', function_callable='lambda x: x**2 + 3', interpolation_values=None, additional_directly_injected_values={'secret_token': '\"abc123\"'}, additional_values={'piecewise_function_expressions': \"[((0,1), 'x'), ((1,2), 'x**2')]\", 'function_values': 'jax.numpy.array([0.0, 1.0, 4.0, 9.0, 16.0])', 'extra_value': '[1, 2, 3]'})\n"
     ]
    }
   ],
   "execution_count": 9
  },
  {
   "metadata": {},
   "cell_type": "markdown",
   "source": "We parse the 'pipeline_input_data' by initializing an instance of the class 'PipelineInput':",
   "id": "777918924e7388bf"
  },
  {
   "metadata": {
    "ExecuteTime": {
     "end_time": "2025-07-07T14:52:49.696301Z",
     "start_time": "2025-07-07T14:52:49.625766Z"
    }
   },
   "cell_type": "code",
   "source": [
    "pipeline_input: PipelineInput = PipelineInput(pipeline_input_data)\n",
    "\n",
    "print(pipeline_input)"
   ],
   "id": "2f2e7926d253b513",
   "outputs": [
    {
     "name": "stdout",
     "output_type": "stream",
     "text": [
      "PipelineInput(name='TestPipeline', data_type='<class 'jax.numpy.float32'>', node_count='36', interpolation_interval='[-1  1]', function_expression='sin(10*x)', piecewise_function_expressions='None', sympy_function_expression_simplification='True', function_callable='<function <lambda> at 0x000001418BB05940>', interpolation_values='None', additional_directly_injected_values='{'secret_token': 'abc123'}', additional_values='{'piecewise_function_expressions': [((0, 1), 'x'), ((1, 2), 'x**2')], 'function_values': Array([ 0.,  1.,  4.,  9., 16.], dtype=float32), 'extra_value': [1, 2, 3]}')\n"
     ]
    }
   ],
   "execution_count": 10
  },
  {
   "metadata": {},
   "cell_type": "markdown",
   "source": [
    "#### Pipeline building\n",
    "Using the just created 'PipelineInput' and 'PipelineConfiguration' instances, we can assemble a pipeline:"
   ],
   "id": "2c4d9c0aa0828a6a"
  },
  {
   "metadata": {
    "ExecuteTime": {
     "end_time": "2025-07-07T14:52:49.718865Z",
     "start_time": "2025-07-07T14:52:49.711893Z"
    }
   },
   "cell_type": "code",
   "source": "pipeline: Pipeline = PipelineBuilder.build(pipeline_configuration, pipeline_input)",
   "id": "da2cc100f0e0567b",
   "outputs": [],
   "execution_count": 11
  },
  {
   "metadata": {},
   "cell_type": "markdown",
   "source": [
    "#### Pipeline execution\n",
    "Instances of the class 'PipelineManager' are responsible for the execution of pipelines.\n",
    "We start of by initializing a 'PipelineManager' with our pipeline."
   ],
   "id": "e7b39e6e75b5c7c"
  },
  {
   "metadata": {
    "ExecuteTime": {
     "end_time": "2025-07-07T14:52:49.760Z",
     "start_time": "2025-07-07T14:52:49.753759Z"
    }
   },
   "cell_type": "code",
   "source": "pipeline_manager: PipelineManager = PipelineManager(pipeline)",
   "id": "a0c919805d911a50",
   "outputs": [],
   "execution_count": 12
  },
  {
   "metadata": {},
   "cell_type": "markdown",
   "source": "After the initialization, we can execute the complete pipeline by calling 'execute_all()'.",
   "id": "6750d130768ccff7"
  },
  {
   "metadata": {
    "ExecuteTime": {
     "end_time": "2025-07-07T14:52:50.819924Z",
     "start_time": "2025-07-07T14:52:49.769304Z"
    }
   },
   "cell_type": "code",
   "source": [
    "pipeline_manager.execute_all()\n",
    "\n",
    "for report in pipeline_manager._component_execution_reports_.values():\n",
    "    print(f\"###### Report from node {report.component_instantiation_info.component_name} ({report.component_instantiation_info.component.component_id}) ######\")\n",
    "    print(report)\n",
    "    print(\"\\n\\n\")"
   ],
   "id": "f9e2f0c6856259c5",
   "outputs": [
    {
     "data": {
      "text/plain": [
       "<Figure size 1000x600 with 1 Axes>"
      ],
      "image/png": "[encoded data removed]"
     },
     "metadata": {},
     "output_type": "display_data"
    },
    {
     "name": "stdout",
     "output_type": "stream",
     "text": [
      "###### Report from node 0 (base input) ######\n",
      "PipelineComponentExecutionReport(component_instantiation_info=PipelineComponentInstantiationInfo(component_name='0', component=PipelineComponentInfo(component_id='base input', component_type=<class 'pipeline_entities.components.abstracts.input_pipeline_component.InputPipelineComponent'>, component_class=<class 'pipeline_entities.components.default_components.default_input_components.base_input_pipeline_component.BaseInputPipelineComponent'>, component_meta_info=ComponentMetaInfo(attributes_modifying={'node_count', 'data_type', 'interpolation_interval'}, dynamic_constraints=[], static_constraints=[], allow_additional_value_modifications_outside_specification=True)), component_specific_arguments={}), component_output=PipelineData(data_type=<class 'jax.numpy.float32'>, node_count=36, interpolation_interval=Array([-1,  1], dtype=int32), function_callable=None, interpolation_nodes=None, interpolation_values=None, interpolant=None, additional_values={'secret_token': 'abc123'}), component_init_time=2.300017513334751e-06, component_execution_time=5.09992241859436e-06)\n",
      "\n",
      "\n",
      "\n",
      "###### Report from node 1 (equidistant node generator) ######\n",
      "PipelineComponentExecutionReport(component_instantiation_info=PipelineComponentInstantiationInfo(component_name='1', component=PipelineComponentInfo(component_id='equidistant node generator', component_type=<class 'pipeline_entities.components.abstracts.node_generator.NodeGenerator'>, component_class=<class 'pipeline_entities.components.default_components.default_node_generators.equidistant_node_generator.EquidistantNodeGenerator'>, component_meta_info=ComponentMetaInfo(attributes_modifying={'interpolation_nodes'}, dynamic_constraints=[], static_constraints=[AttributRequiredConstraint<attribute_name='data_type'>, AttributRequiredConstraint<attribute_name='node_count'>, AttributRequiredConstraint<attribute_name='interpolation_interval'>, MinPredecessorsConstraint(min_amount='1'), MaxPredecessorsConstraint(max_amount='1')], allow_additional_value_modifications_outside_specification=False)), component_specific_arguments={}), component_output=PipelineData(data_type=<class 'jax.numpy.float32'>, node_count=36, interpolation_interval=Array([-1,  1], dtype=int32), function_callable=None, interpolation_nodes=Array([-1.        , -0.94285715, -0.8857143 , -0.82857144, -0.7714286 ,\n",
      "       -0.71428573, -0.6571429 , -0.6       , -0.54285717, -0.48571423,\n",
      "       -0.42857143, -0.37142852, -0.31428573, -0.2571428 , -0.20000002,\n",
      "       -0.1428571 , -0.08571431, -0.0285714 ,  0.02857149,  0.08571434,\n",
      "        0.1428572 ,  0.20000005,  0.2571429 ,  0.31428576,  0.3714286 ,\n",
      "        0.42857146,  0.48571432,  0.54285717,  0.6       ,  0.6571429 ,\n",
      "        0.71428573,  0.7714286 ,  0.82857144,  0.8857143 ,  0.94285715,\n",
      "        1.        ], dtype=float32), interpolation_values=None, interpolant=None, additional_values={'secret_token': 'abc123'}), component_init_time=0.027439000084996223, component_execution_time=0.0001737999264150858)\n",
      "\n",
      "\n",
      "\n",
      "###### Report from node 2 (function expression input) ######\n",
      "PipelineComponentExecutionReport(component_instantiation_info=PipelineComponentInstantiationInfo(component_name='2', component=PipelineComponentInfo(component_id='function expression input', component_type=<class 'pipeline_entities.components.abstracts.input_pipeline_component.InputPipelineComponent'>, component_class=<class 'pipeline_entities.components.default_components.default_input_components.function_expression_input_component.FunctionExpressionInputComponent'>, component_meta_info=ComponentMetaInfo(attributes_modifying={'function_callable'}, dynamic_constraints=[<pipeline_entities.constraints.default_constraints.default_dynamic_constraints.input_key_required_constraint.InputKeyRequiredConstraint object at 0x0000014189B88910>, <pipeline_entities.constraints.default_constraints.default_dynamic_constraints.input_key_required_constraint.InputKeyRequiredConstraint object at 0x0000014189B89FD0>], static_constraints=[MinPredecessorsConstraint(min_amount='1'), MaxPredecessorsConstraint(max_amount='1')], allow_additional_value_modifications_outside_specification=False)), component_specific_arguments={}), component_output=PipelineData(data_type=<class 'jax.numpy.float32'>, node_count=36, interpolation_interval=Array([-1,  1], dtype=int32), function_callable=<function _lambdifygenerated at 0x000001418BF56A20>, interpolation_nodes=Array([-1.        , -0.94285715, -0.8857143 , -0.82857144, -0.7714286 ,\n",
      "       -0.71428573, -0.6571429 , -0.6       , -0.54285717, -0.48571423,\n",
      "       -0.42857143, -0.37142852, -0.31428573, -0.2571428 , -0.20000002,\n",
      "       -0.1428571 , -0.08571431, -0.0285714 ,  0.02857149,  0.08571434,\n",
      "        0.1428572 ,  0.20000005,  0.2571429 ,  0.31428576,  0.3714286 ,\n",
      "        0.42857146,  0.48571432,  0.54285717,  0.6       ,  0.6571429 ,\n",
      "        0.71428573,  0.7714286 ,  0.82857144,  0.8857143 ,  0.94285715,\n",
      "        1.        ], dtype=float32), interpolation_values=None, interpolant=None, additional_values={'secret_token': 'abc123'}), component_init_time=2.400018274784088e-06, component_execution_time=0.008749299915507436)\n",
      "\n",
      "\n",
      "\n",
      "###### Report from node 3 (Interpolation Values Evaluator) ######\n",
      "PipelineComponentExecutionReport(component_instantiation_info=PipelineComponentInstantiationInfo(component_name='3', component=PipelineComponentInfo(component_id='Interpolation Values Evaluator', component_type=<class 'pipeline_entities.components.abstracts.evaluator_component.EvaluatorComponent'>, component_class=<class 'pipeline_entities.components.default_components.default_evaluation_components.interpolation_values_evaluator.InterpolationValuesEvaluator'>, component_meta_info=ComponentMetaInfo(attributes_modifying={'interpolation_values'}, dynamic_constraints=[], static_constraints=[AttributRequiredConstraint<attribute_name='data_type'>, AttributRequiredConstraint<attribute_name='function_callable'>, AttributRequiredConstraint<attribute_name='interpolation_nodes'>, MinPredecessorsConstraint(min_amount='1'), MaxPredecessorsConstraint(max_amount='1')], allow_additional_value_modifications_outside_specification=False)), component_specific_arguments={}), component_output=PipelineData(data_type=<class 'jax.numpy.float32'>, node_count=36, interpolation_interval=Array([-1,  1], dtype=int32), function_callable=<function _lambdifygenerated at 0x000001418BF56A20>, interpolation_nodes=Array([-1.        , -0.94285715, -0.8857143 , -0.82857144, -0.7714286 ,\n",
      "       -0.71428573, -0.6571429 , -0.6       , -0.54285717, -0.48571423,\n",
      "       -0.42857143, -0.37142852, -0.31428573, -0.2571428 , -0.20000002,\n",
      "       -0.1428571 , -0.08571431, -0.0285714 ,  0.02857149,  0.08571434,\n",
      "        0.1428572 ,  0.20000005,  0.2571429 ,  0.31428576,  0.3714286 ,\n",
      "        0.42857146,  0.48571432,  0.54285717,  0.6       ,  0.6571429 ,\n",
      "        0.71428573,  0.7714286 ,  0.82857144,  0.8857143 ,  0.94285715,\n",
      "        1.        ], dtype=float32), interpolation_values=Array([ 0.5440211 ,  0.00379373, -0.5376391 , -0.90824217, -0.9902584 ,\n",
      "       -0.7576287 , -0.2842686 ,  0.2794155 ,  0.7543173 ,  0.9895415 ,\n",
      "        0.91034687,  0.5418969 ,  0.00126466, -0.5397706 , -0.90929735,\n",
      "       -0.98990303, -0.75597554, -0.28184256,  0.2818434 ,  0.7559757 ,\n",
      "        0.98990315,  0.9092972 ,  0.5397698 , -0.0012649 , -0.5418977 ,\n",
      "       -0.9103471 , -0.98954135, -0.7543173 , -0.2794155 ,  0.2842686 ,\n",
      "        0.7576287 ,  0.9902584 ,  0.90824217,  0.5376391 , -0.00379373,\n",
      "       -0.5440211 ], dtype=float32), interpolant=None, additional_values={'secret_token': 'abc123'}), component_init_time=0.01011629996355623, component_execution_time=0.00015650002751499414)\n",
      "\n",
      "\n",
      "\n",
      "###### Report from node 7 (barycentric2 interpolation) ######\n",
      "PipelineComponentExecutionReport(component_instantiation_info=PipelineComponentInstantiationInfo(component_name='7', component=PipelineComponentInfo(component_id='barycentric2 interpolation', component_type=<class 'pipeline_entities.components.abstracts.interpolation_core.InterpolationCore'>, component_class=<class 'pipeline_entities.components.default_components.default_interpolation_cores.barycentric_second_interpolation_core.BarycentricSecondInterpolationCore'>, component_meta_info=ComponentMetaInfo(attributes_modifying={'interpolant'}, dynamic_constraints=[], static_constraints=[AttributRequiredConstraint<attribute_name='interpolation_nodes'>, AttributRequiredConstraint<attribute_name='interpolation_values'>, MinPredecessorsConstraint(min_amount='1'), MaxPredecessorsConstraint(max_amount='1')], allow_additional_value_modifications_outside_specification=False)), component_specific_arguments={}), component_output=PipelineData(data_type=<class 'jax.numpy.float32'>, node_count=36, interpolation_interval=Array([-1,  1], dtype=int32), function_callable=<function _lambdifygenerated at 0x000001418BF56A20>, interpolation_nodes=Array([-1.        , -0.94285715, -0.8857143 , -0.82857144, -0.7714286 ,\n",
      "       -0.71428573, -0.6571429 , -0.6       , -0.54285717, -0.48571423,\n",
      "       -0.42857143, -0.37142852, -0.31428573, -0.2571428 , -0.20000002,\n",
      "       -0.1428571 , -0.08571431, -0.0285714 ,  0.02857149,  0.08571434,\n",
      "        0.1428572 ,  0.20000005,  0.2571429 ,  0.31428576,  0.3714286 ,\n",
      "        0.42857146,  0.48571432,  0.54285717,  0.6       ,  0.6571429 ,\n",
      "        0.71428573,  0.7714286 ,  0.82857144,  0.8857143 ,  0.94285715,\n",
      "        1.        ], dtype=float32), interpolation_values=Array([ 0.5440211 ,  0.00379373, -0.5376391 , -0.90824217, -0.9902584 ,\n",
      "       -0.7576287 , -0.2842686 ,  0.2794155 ,  0.7543173 ,  0.9895415 ,\n",
      "        0.91034687,  0.5418969 ,  0.00126466, -0.5397706 , -0.90929735,\n",
      "       -0.98990303, -0.75597554, -0.28184256,  0.2818434 ,  0.7559757 ,\n",
      "        0.98990315,  0.9092972 ,  0.5397698 , -0.0012649 , -0.5418977 ,\n",
      "       -0.9103471 , -0.98954135, -0.7543173 , -0.2794155 ,  0.2842686 ,\n",
      "        0.7576287 ,  0.9902584 ,  0.90824217,  0.5376391 , -0.00379373,\n",
      "       -0.5440211 ], dtype=float32), interpolant=BarycentricSecondInterpolant(weights=[-3.10526636e+03  1.08684352e+05 -1.84763325e+06  2.03239680e+07\n",
      " -1.62591680e+08  1.00806810e+09 -5.04033792e+09  2.08813896e+10\n",
      " -7.30847560e+10  2.19254931e+11 -5.70061947e+11  1.29559796e+12\n",
      " -2.59119304e+12  4.58442408e+12 -7.20408517e+12  1.00857251e+13\n",
      " -1.26071425e+13  1.40903249e+13 -1.40903407e+13  1.26071519e+13\n",
      " -1.00857251e+13  7.20409408e+12 -4.58442460e+12  2.59119671e+12\n",
      " -1.29559835e+12  5.70063454e+11 -2.19255194e+11  7.30850836e+10\n",
      " -2.08814531e+10  5.04034918e+09 -1.00807014e+09  1.62591984e+08\n",
      " -2.03239960e+07  1.84763612e+06 -1.08684477e+05  3.10527051e+03], values=[ 0.5440211   0.00379373 -0.5376391  -0.90824217 -0.9902584  -0.7576287\n",
      " -0.2842686   0.2794155   0.7543173   0.9895415   0.91034687  0.5418969\n",
      "  0.00126466 -0.5397706  -0.90929735 -0.98990303 -0.75597554 -0.28184256\n",
      "  0.2818434   0.7559757   0.98990315  0.9092972   0.5397698  -0.0012649\n",
      " -0.5418977  -0.9103471  -0.98954135 -0.7543173  -0.2794155   0.2842686\n",
      "  0.7576287   0.9902584   0.90824217  0.5376391  -0.00379373 -0.5440211 ], nodes=[-1.         -0.94285715 -0.8857143  -0.82857144 -0.7714286  -0.71428573\n",
      " -0.6571429  -0.6        -0.54285717 -0.48571423 -0.42857143 -0.37142852\n",
      " -0.31428573 -0.2571428  -0.20000002 -0.1428571  -0.08571431 -0.0285714\n",
      "  0.02857149  0.08571434  0.1428572   0.20000005  0.2571429   0.31428576\n",
      "  0.3714286   0.42857146  0.48571432  0.54285717  0.6         0.6571429\n",
      "  0.71428573  0.7714286   0.82857144  0.8857143   0.94285715  1.        ]), additional_values={'secret_token': 'abc123'}), component_init_time=0.04589369997847825, component_execution_time=0.00018749991431832314)\n",
      "\n",
      "\n",
      "\n",
      "###### Report from node 6 (barycentric1 interpolation) ######\n",
      "PipelineComponentExecutionReport(component_instantiation_info=PipelineComponentInstantiationInfo(component_name='6', component=PipelineComponentInfo(component_id='barycentric1 interpolation', component_type=<class 'pipeline_entities.components.abstracts.interpolation_core.InterpolationCore'>, component_class=<class 'pipeline_entities.components.default_components.default_interpolation_cores.barycentric_first_interpolation_core.BarycentricFirstInterpolationCore'>, component_meta_info=ComponentMetaInfo(attributes_modifying={'interpolant'}, dynamic_constraints=[], static_constraints=[AttributRequiredConstraint<attribute_name='interpolation_nodes'>, AttributRequiredConstraint<attribute_name='interpolation_values'>, MinPredecessorsConstraint(min_amount='1'), MaxPredecessorsConstraint(max_amount='1')], allow_additional_value_modifications_outside_specification=False)), component_specific_arguments={}), component_output=PipelineData(data_type=<class 'jax.numpy.float32'>, node_count=36, interpolation_interval=Array([-1,  1], dtype=int32), function_callable=<function _lambdifygenerated at 0x000001418BF56A20>, interpolation_nodes=Array([-1.        , -0.94285715, -0.8857143 , -0.82857144, -0.7714286 ,\n",
      "       -0.71428573, -0.6571429 , -0.6       , -0.54285717, -0.48571423,\n",
      "       -0.42857143, -0.37142852, -0.31428573, -0.2571428 , -0.20000002,\n",
      "       -0.1428571 , -0.08571431, -0.0285714 ,  0.02857149,  0.08571434,\n",
      "        0.1428572 ,  0.20000005,  0.2571429 ,  0.31428576,  0.3714286 ,\n",
      "        0.42857146,  0.48571432,  0.54285717,  0.6       ,  0.6571429 ,\n",
      "        0.71428573,  0.7714286 ,  0.82857144,  0.8857143 ,  0.94285715,\n",
      "        1.        ], dtype=float32), interpolation_values=Array([ 0.5440211 ,  0.00379373, -0.5376391 , -0.90824217, -0.9902584 ,\n",
      "       -0.7576287 , -0.2842686 ,  0.2794155 ,  0.7543173 ,  0.9895415 ,\n",
      "        0.91034687,  0.5418969 ,  0.00126466, -0.5397706 , -0.90929735,\n",
      "       -0.98990303, -0.75597554, -0.28184256,  0.2818434 ,  0.7559757 ,\n",
      "        0.98990315,  0.9092972 ,  0.5397698 , -0.0012649 , -0.5418977 ,\n",
      "       -0.9103471 , -0.98954135, -0.7543173 , -0.2794155 ,  0.2842686 ,\n",
      "        0.7576287 ,  0.9902584 ,  0.90824217,  0.5376391 , -0.00379373,\n",
      "       -0.5440211 ], dtype=float32), interpolant=BarycentricFirstInterpolant(weights=[-3.10526636e+03  1.08684352e+05 -1.84763325e+06  2.03239680e+07\n",
      " -1.62591680e+08  1.00806810e+09 -5.04033792e+09  2.08813896e+10\n",
      " -7.30847560e+10  2.19254931e+11 -5.70061947e+11  1.29559796e+12\n",
      " -2.59119304e+12  4.58442408e+12 -7.20408517e+12  1.00857251e+13\n",
      " -1.26071425e+13  1.40903249e+13 -1.40903407e+13  1.26071519e+13\n",
      " -1.00857251e+13  7.20409408e+12 -4.58442460e+12  2.59119671e+12\n",
      " -1.29559835e+12  5.70063454e+11 -2.19255194e+11  7.30850836e+10\n",
      " -2.08814531e+10  5.04034918e+09 -1.00807014e+09  1.62591984e+08\n",
      " -2.03239960e+07  1.84763612e+06 -1.08684477e+05  3.10527051e+03], values=[ 0.5440211   0.00379373 -0.5376391  -0.90824217 -0.9902584  -0.7576287\n",
      " -0.2842686   0.2794155   0.7543173   0.9895415   0.91034687  0.5418969\n",
      "  0.00126466 -0.5397706  -0.90929735 -0.98990303 -0.75597554 -0.28184256\n",
      "  0.2818434   0.7559757   0.98990315  0.9092972   0.5397698  -0.0012649\n",
      " -0.5418977  -0.9103471  -0.98954135 -0.7543173  -0.2794155   0.2842686\n",
      "  0.7576287   0.9902584   0.90824217  0.5376391  -0.00379373 -0.5440211 ], nodes=[-1.         -0.94285715 -0.8857143  -0.82857144 -0.7714286  -0.71428573\n",
      " -0.6571429  -0.6        -0.54285717 -0.48571423 -0.42857143 -0.37142852\n",
      " -0.31428573 -0.2571428  -0.20000002 -0.1428571  -0.08571431 -0.0285714\n",
      "  0.02857149  0.08571434  0.1428572   0.20000005  0.2571429   0.31428576\n",
      "  0.3714286   0.42857146  0.48571432  0.54285717  0.6         0.6571429\n",
      "  0.71428573  0.7714286   0.82857144  0.8857143   0.94285715  1.        ]), additional_values={'secret_token': 'abc123'}), component_init_time=0.04253069998230785, component_execution_time=0.00017310003750026226)\n",
      "\n",
      "\n",
      "\n",
      "###### Report from node 5 (newton interpolation) ######\n",
      "PipelineComponentExecutionReport(component_instantiation_info=PipelineComponentInstantiationInfo(component_name='5', component=PipelineComponentInfo(component_id='newton interpolation', component_type=<class 'pipeline_entities.components.abstracts.interpolation_core.InterpolationCore'>, component_class=<class 'pipeline_entities.components.default_components.default_interpolation_cores.newton_interpolation_core.NewtonInterpolationCore'>, component_meta_info=ComponentMetaInfo(attributes_modifying={'interpolant'}, dynamic_constraints=[], static_constraints=[AttributRequiredConstraint<attribute_name='interpolation_nodes'>, AttributRequiredConstraint<attribute_name='interpolation_values'>, MinPredecessorsConstraint(min_amount='1'), MaxPredecessorsConstraint(max_amount='1')], allow_additional_value_modifications_outside_specification=False)), component_specific_arguments={}), component_output=PipelineData(data_type=<class 'jax.numpy.float32'>, node_count=36, interpolation_interval=Array([-1,  1], dtype=int32), function_callable=<function _lambdifygenerated at 0x000001418BF56A20>, interpolation_nodes=Array([-1.        , -0.94285715, -0.8857143 , -0.82857144, -0.7714286 ,\n",
      "       -0.71428573, -0.6571429 , -0.6       , -0.54285717, -0.48571423,\n",
      "       -0.42857143, -0.37142852, -0.31428573, -0.2571428 , -0.20000002,\n",
      "       -0.1428571 , -0.08571431, -0.0285714 ,  0.02857149,  0.08571434,\n",
      "        0.1428572 ,  0.20000005,  0.2571429 ,  0.31428576,  0.3714286 ,\n",
      "        0.42857146,  0.48571432,  0.54285717,  0.6       ,  0.6571429 ,\n",
      "        0.71428573,  0.7714286 ,  0.82857144,  0.8857143 ,  0.94285715,\n",
      "        1.        ], dtype=float32), interpolation_values=Array([ 0.5440211 ,  0.00379373, -0.5376391 , -0.90824217, -0.9902584 ,\n",
      "       -0.7576287 , -0.2842686 ,  0.2794155 ,  0.7543173 ,  0.9895415 ,\n",
      "        0.91034687,  0.5418969 ,  0.00126466, -0.5397706 , -0.90929735,\n",
      "       -0.98990303, -0.75597554, -0.28184256,  0.2818434 ,  0.7559757 ,\n",
      "        0.98990315,  0.9092972 ,  0.5397698 , -0.0012649 , -0.5418977 ,\n",
      "       -0.9103471 , -0.98954135, -0.7543173 , -0.2794155 ,  0.2842686 ,\n",
      "        0.7576287 ,  0.9902584 ,  0.90824217,  0.5376391 , -0.00379373,\n",
      "       -0.5440211 ], dtype=float32), interpolant=NewtonInterpolant(weights=[ 5.4402113e-01 -9.4539804e+00 -1.8457533e-01  1.5366682e+02\n",
      " -2.1211194e+02 -5.1181458e+02  1.1626127e+03  2.6101779e+02\n",
      " -2.1970796e+03  9.9159436e+02  1.8523638e+03 -1.8512422e+03\n",
      " -5.2370013e+02  1.6669922e+03 -1.4735465e+03  2.6827979e+03\n",
      " -6.6147261e+03  1.2670005e+04 -1.9694734e+04  2.5590340e+04\n",
      " -2.6108285e+04  1.4852311e+04  1.5232384e+04 -6.9483305e+04\n",
      "  1.4896731e+05 -2.4870198e+05  3.5764862e+05 -4.6089725e+05\n",
      "  5.4348981e+05 -5.9450781e+05  6.0984425e+05 -5.9261938e+05\n",
      "  5.5122738e+05 -4.9598844e+05  4.3584222e+05 -3.7628825e+05], nodes=[-1.         -0.94285715 -0.8857143  -0.82857144 -0.7714286  -0.71428573\n",
      " -0.6571429  -0.6        -0.54285717 -0.48571423 -0.42857143 -0.37142852\n",
      " -0.31428573 -0.2571428  -0.20000002 -0.1428571  -0.08571431 -0.0285714\n",
      "  0.02857149  0.08571434  0.1428572   0.20000005  0.2571429   0.31428576\n",
      "  0.3714286   0.42857146  0.48571432  0.54285717  0.6         0.6571429\n",
      "  0.71428573  0.7714286   0.82857144  0.8857143   0.94285715  1.        ]), additional_values={'secret_token': 'abc123'}), component_init_time=0.053252500016242266, component_execution_time=0.00023279991000890732)\n",
      "\n",
      "\n",
      "\n",
      "###### Report from node 4 (aitken neville interpolation) ######\n",
      "PipelineComponentExecutionReport(component_instantiation_info=PipelineComponentInstantiationInfo(component_name='4', component=PipelineComponentInfo(component_id='aitken neville interpolation', component_type=<class 'pipeline_entities.components.abstracts.interpolation_core.InterpolationCore'>, component_class=<class 'pipeline_entities.components.default_components.default_interpolation_cores.aitken_neville_interpolation_core.AitkenNevilleInterpolationCore'>, component_meta_info=ComponentMetaInfo(attributes_modifying={'interpolant'}, dynamic_constraints=[], static_constraints=[AttributRequiredConstraint<attribute_name='interpolation_nodes'>, AttributRequiredConstraint<attribute_name='interpolation_values'>, MinPredecessorsConstraint(min_amount='1'), MaxPredecessorsConstraint(max_amount='1')], allow_additional_value_modifications_outside_specification=False)), component_specific_arguments={}), component_output=PipelineData(data_type=<class 'jax.numpy.float32'>, node_count=36, interpolation_interval=Array([-1,  1], dtype=int32), function_callable=<function _lambdifygenerated at 0x000001418BF56A20>, interpolation_nodes=Array([-1.        , -0.94285715, -0.8857143 , -0.82857144, -0.7714286 ,\n",
      "       -0.71428573, -0.6571429 , -0.6       , -0.54285717, -0.48571423,\n",
      "       -0.42857143, -0.37142852, -0.31428573, -0.2571428 , -0.20000002,\n",
      "       -0.1428571 , -0.08571431, -0.0285714 ,  0.02857149,  0.08571434,\n",
      "        0.1428572 ,  0.20000005,  0.2571429 ,  0.31428576,  0.3714286 ,\n",
      "        0.42857146,  0.48571432,  0.54285717,  0.6       ,  0.6571429 ,\n",
      "        0.71428573,  0.7714286 ,  0.82857144,  0.8857143 ,  0.94285715,\n",
      "        1.        ], dtype=float32), interpolation_values=Array([ 0.5440211 ,  0.00379373, -0.5376391 , -0.90824217, -0.9902584 ,\n",
      "       -0.7576287 , -0.2842686 ,  0.2794155 ,  0.7543173 ,  0.9895415 ,\n",
      "        0.91034687,  0.5418969 ,  0.00126466, -0.5397706 , -0.90929735,\n",
      "       -0.98990303, -0.75597554, -0.28184256,  0.2818434 ,  0.7559757 ,\n",
      "        0.98990315,  0.9092972 ,  0.5397698 , -0.0012649 , -0.5418977 ,\n",
      "       -0.9103471 , -0.98954135, -0.7543173 , -0.2794155 ,  0.2842686 ,\n",
      "        0.7576287 ,  0.9902584 ,  0.90824217,  0.5376391 , -0.00379373,\n",
      "       -0.5440211 ], dtype=float32), interpolant=AitkenNevilleInterpolant(weights=[ 0.5440211   0.00379373 -0.5376391  -0.90824217 -0.9902584  -0.7576287\n",
      " -0.2842686   0.2794155   0.7543173   0.9895415   0.91034687  0.5418969\n",
      "  0.00126466 -0.5397706  -0.90929735 -0.98990303 -0.75597554 -0.28184256\n",
      "  0.2818434   0.7559757   0.98990315  0.9092972   0.5397698  -0.0012649\n",
      " -0.5418977  -0.9103471  -0.98954135 -0.7543173  -0.2794155   0.2842686\n",
      "  0.7576287   0.9902584   0.90824217  0.5376391  -0.00379373 -0.5440211 ], nodes=[-1.         -0.94285715 -0.8857143  -0.82857144 -0.7714286  -0.71428573\n",
      " -0.6571429  -0.6        -0.54285717 -0.48571423 -0.42857143 -0.37142852\n",
      " -0.31428573 -0.2571428  -0.20000002 -0.1428571  -0.08571431 -0.0285714\n",
      "  0.02857149  0.08571434  0.1428572   0.20000005  0.2571429   0.31428576\n",
      "  0.3714286   0.42857146  0.48571432  0.54285717  0.6         0.6571429\n",
      "  0.71428573  0.7714286   0.82857144  0.8857143   0.94285715  1.        ]), additional_values={'secret_token': 'abc123'}), component_init_time=4.360009916126728e-05, component_execution_time=3.900029696524143e-06)\n",
      "\n",
      "\n",
      "\n",
      "###### Report from node 8 (interpolant plotter) ######\n",
      "PipelineComponentExecutionReport(component_instantiation_info=PipelineComponentInstantiationInfo(component_name='8', component=PipelineComponentInfo(component_id='interpolant plotter', component_type=<class 'pipeline_entities.components.abstracts.interpolation_core.InterpolationCore'>, component_class=<class 'pipeline_entities.components.default_components.default_plotting_components.plot_component.InterpolantPlotComponent'>, component_meta_info=ComponentMetaInfo(attributes_modifying=set(), dynamic_constraints=[], static_constraints=[AttributRequiredConstraint<attribute_name='interpolation_interval'>, AttributRequiredConstraint<attribute_name='function_callable'>, AttributRequiredConstraint<attribute_name='interpolation_nodes'>, AttributRequiredConstraint<attribute_name='interpolant'>], allow_additional_value_modifications_outside_specification=False)), component_specific_arguments={}), component_output=PipelineData(data_type=<class 'jax.numpy.float32'>, node_count=36, interpolation_interval=Array([-1,  1], dtype=int32), function_callable=<function _lambdifygenerated at 0x000001418BF56A20>, interpolation_nodes=Array([-1.        , -0.94285715, -0.8857143 , -0.82857144, -0.7714286 ,\n",
      "       -0.71428573, -0.6571429 , -0.6       , -0.54285717, -0.48571423,\n",
      "       -0.42857143, -0.37142852, -0.31428573, -0.2571428 , -0.20000002,\n",
      "       -0.1428571 , -0.08571431, -0.0285714 ,  0.02857149,  0.08571434,\n",
      "        0.1428572 ,  0.20000005,  0.2571429 ,  0.31428576,  0.3714286 ,\n",
      "        0.42857146,  0.48571432,  0.54285717,  0.6       ,  0.6571429 ,\n",
      "        0.71428573,  0.7714286 ,  0.82857144,  0.8857143 ,  0.94285715,\n",
      "        1.        ], dtype=float32), interpolation_values=Array([ 0.5440211 ,  0.00379373, -0.5376391 , -0.90824217, -0.9902584 ,\n",
      "       -0.7576287 , -0.2842686 ,  0.2794155 ,  0.7543173 ,  0.9895415 ,\n",
      "        0.91034687,  0.5418969 ,  0.00126466, -0.5397706 , -0.90929735,\n",
      "       -0.98990303, -0.75597554, -0.28184256,  0.2818434 ,  0.7559757 ,\n",
      "        0.98990315,  0.9092972 ,  0.5397698 , -0.0012649 , -0.5418977 ,\n",
      "       -0.9103471 , -0.98954135, -0.7543173 , -0.2794155 ,  0.2842686 ,\n",
      "        0.7576287 ,  0.9902584 ,  0.90824217,  0.5376391 , -0.00379373,\n",
      "       -0.5440211 ], dtype=float32), interpolant=AitkenNevilleInterpolant(weights=[ 0.5440211   0.00379373 -0.5376391  -0.90824217 -0.9902584  -0.7576287\n",
      " -0.2842686   0.2794155   0.7543173   0.9895415   0.91034687  0.5418969\n",
      "  0.00126466 -0.5397706  -0.90929735 -0.98990303 -0.75597554 -0.28184256\n",
      "  0.2818434   0.7559757   0.98990315  0.9092972   0.5397698  -0.0012649\n",
      " -0.5418977  -0.9103471  -0.98954135 -0.7543173  -0.2794155   0.2842686\n",
      "  0.7576287   0.9902584   0.90824217  0.5376391  -0.00379373 -0.5440211 ], nodes=[-1.         -0.94285715 -0.8857143  -0.82857144 -0.7714286  -0.71428573\n",
      " -0.6571429  -0.6        -0.54285717 -0.48571423 -0.42857143 -0.37142852\n",
      " -0.31428573 -0.2571428  -0.20000002 -0.1428571  -0.08571431 -0.0285714\n",
      "  0.02857149  0.08571434  0.1428572   0.20000005  0.2571429   0.31428576\n",
      "  0.3714286   0.42857146  0.48571432  0.54285717  0.6         0.6571429\n",
      "  0.71428573  0.7714286   0.82857144  0.8857143   0.94285715  1.        ]), additional_values={'secret_token': 'abc123'}), component_init_time=3.1999079510569572e-06, component_execution_time=0.6941242000320926)\n",
      "\n",
      "\n",
      "\n"
     ]
    }
   ],
   "execution_count": 13
  }
 ],
 "metadata": {
  "kernelspec": {
   "display_name": "Python 3",
   "language": "python",
   "name": "python3"
  },
  "language_info": {
   "codemirror_mode": {
    "name": "ipython",
    "version": 2
   },
   "file_extension": ".py",
   "mimetype": "text/x-python",
   "name": "python",
   "nbconvert_exporter": "python",
   "pygments_lexer": "ipython2",
   "version": "2.7.6"
  }
 },
 "nbformat": 4,
 "nbformat_minor": 5
}
