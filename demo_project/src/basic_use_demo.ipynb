{
 "cells": [
  {
   "metadata": {},
   "cell_type": "markdown",
   "source": [
    "# Basic use demo\n",
    "This jupyter notebook shows the basic use of the internals."
   ],
   "id": "524d3143e71b367d"
  },
  {
   "metadata": {},
   "cell_type": "markdown",
   "source": "#### Imports",
   "id": "293826e6896cdcdd"
  },
  {
   "metadata": {
    "ExecuteTime": {
     "end_time": "2025-07-21T19:45:03.765453Z",
     "start_time": "2025-07-21T19:45:03.238690Z"
    }
   },
   "cell_type": "code",
   "source": [
    "import textwrap\n",
    "import tempfile\n",
    "\n",
    "from pathlib import Path\n",
    "\n",
    "from file_handling.pipeline_input_handling.pipeline_input_file_manager import PipelineInputFileManager\n",
    "\n",
    "from file_handling.pipeline_configuration_handling.pipeline_configuration_file_manager import \\\n",
    "    PipelineConfigurationFileManager\n",
    "\n",
    "from pipeline_entities.large_data_classes.pipeline_configuration.pipeline_configuration_data import PipelineConfigurationData\n",
    "from pipeline_entities.large_data_classes.pipeline_configuration.pipeline_configuration import PipelineConfiguration\n",
    "\n",
    "from pipeline_entities.large_data_classes.pipeline_input.pipeline_input_data import PipelineInputData\n",
    "from pipeline_entities.large_data_classes.pipeline_input.pipeline_input import PipelineInput\n",
    "\n",
    "from pipeline_entities.pipeline.pipeline import Pipeline\n",
    "from pipeline_entities.pipeline.pipeline_builder.pipeline_builder import PipelineBuilder\n",
    "from pipeline_entities.pipeline_execution.output.pipeline_component_execution_report import \\\n",
    "    PipelineComponentExecutionReport\n",
    "\n",
    "from pipeline_entities.pipeline_execution.pipeline_manager.pipeline_manager import PipelineManager\n",
    "\n",
    "from setup_manager.internal_logic_setup_manager import InternalLogicSetupManager"
   ],
   "id": "11ed479a97f7c8dc",
   "outputs": [],
   "execution_count": 1
  },
  {
   "metadata": {},
   "cell_type": "markdown",
   "source": "#### Setup",
   "id": "d9de42f75f6a03ff"
  },
  {
   "metadata": {
    "ExecuteTime": {
     "end_time": "2025-07-21T19:45:04.588255Z",
     "start_time": "2025-07-21T19:45:03.769956Z"
    }
   },
   "cell_type": "code",
   "source": "InternalLogicSetupManager.setup()",
   "id": "c1313e204310d509",
   "outputs": [],
   "execution_count": 2
  },
  {
   "metadata": {},
   "cell_type": "markdown",
   "source": [
    "#### Pipeline configuration\n",
    "A pipeline configuration defines the structure of a pipeline. Pipeline configurations are loaded from .ini files.\n",
    "We are using a temporary file to make things easier for this demo.\n",
    "The .ini content must contain the keys 'supported_program_version' with a value of the type 'packaging.Version' and 'components' with a value of the type 'Tree[str]'.\n",
    "Values can be written over multiple lines by ending a line with the known '\\\\'.\n",
    "We are using the following .ini content:"
   ],
   "id": "62bef21ca10dd36f"
  },
  {
   "metadata": {
    "ExecuteTime": {
     "end_time": "2025-07-21T19:45:04.722972Z",
     "start_time": "2025-07-21T19:45:04.719607Z"
    }
   },
   "cell_type": "code",
   "source": [
    "pipeline_configuration_file_content: bytes = textwrap.dedent(\"\"\"\\\n",
    "    name=\"DemoPipeline\"\n",
    "    supported_program_version=Version(\\\"1.0.0\\\")\n",
    "    components=DirectionalAcyclicGraph(\\\"\\\"\\\"\n",
    "        0=Base Input\n",
    "        1=Equidistant Node Generator\n",
    "            predecessors=[\"0\"]\n",
    "        2=Function Expression Input\n",
    "            predecessors=[\"1\"]\n",
    "        3=Interpolation Values Evaluator\n",
    "            predecessors=[\"2\"]\n",
    "        4=Aitken Neville Interpolation\n",
    "           predecessors=[\"3\"]\n",
    "        5=Newton Interpolation\n",
    "            predecessors=[\"3\"]\n",
    "        6=Barycentric1 Interpolation\n",
    "            predecessors=[\"3\"]\n",
    "        7=Barycentric2 Interpolation\n",
    "            predecessors=[\"3\"]\n",
    "        8=Barycentric2 Chebyshev Interpolation\n",
    "            predecessors=[\"3\"]\n",
    "        9=Interpolant Plotter\n",
    "            predecessors=[\"4\", \"5\", \"6\", \"7\", \"8\"]\n",
    "        \\\"\\\"\\\")\n",
    "    extra_value=True\n",
    "    \"\"\").encode(\"utf-8\")"
   ],
   "id": "47e6927a799f3dfc",
   "outputs": [],
   "execution_count": 3
  },
  {
   "metadata": {},
   "cell_type": "markdown",
   "source": [
    "The pipeline configure has the name 'DemoPipeline', supports the program version 1.0.0 and has an additional entry with the key 'extra_value'.\n",
    "It's most import entry are the components specified by the matching key named 'components'. Components are arranged in a tree.\n",
    "The tree structure defines the order of component execution later on.\n",
    "For easier use, the components are specified through their respective ids (e.g. the BaseInputPipelineComponent has the id 'BaseInput').\n",
    "\n",
    "\n",
    "After defining the .ini file content, we write the content into a temporary file:"
   ],
   "id": "9149acb680645319"
  },
  {
   "metadata": {
    "ExecuteTime": {
     "end_time": "2025-07-21T19:45:04.744275Z",
     "start_time": "2025-07-21T19:45:04.737459Z"
    }
   },
   "cell_type": "code",
   "source": [
    "temp_dir = tempfile.TemporaryDirectory()\n",
    "temp_pipeline_configuration_file = Path(temp_dir.name + \"/pipeline_configuration.ini\")\n",
    "\n",
    "with open(temp_pipeline_configuration_file, \"wb\") as f:\n",
    "    f.write(pipeline_configuration_file_content)\n",
    "\n",
    "print(temp_dir.name)"
   ],
   "id": "a3633b63351e8ac6",
   "outputs": [
    {
     "name": "stdout",
     "output_type": "stream",
     "text": [
      "C:\\Users\\49157\\AppData\\Local\\Temp\\tmpme6gvynd\n"
     ]
    }
   ],
   "execution_count": 4
  },
  {
   "metadata": {},
   "cell_type": "markdown",
   "source": [
    "With a .ini configuration file, we can start to read in the pipeline configuration into internal structures using the static class 'PipelineConfigurationManager'.\n",
    "The operation 'load_from_file(path: Path)' reads in a .ini file and parses the input into an instance of the dataclass 'PipelineConfigurationData'.\n",
    "Instances of this dataclass store the individual entries of a pipeline configuration .ini file as raw strings.\n",
    "In particular, the values of entries are not evaluated (i.e. 'supported_program_version=Version(\"1.0.0\")' will be stored the string \"Version(\"1.0.0\")\" and not as an instance of the type 'packaging.Version')."
   ],
   "id": "8b7bde80f9bb7574"
  },
  {
   "metadata": {
    "ExecuteTime": {
     "end_time": "2025-07-21T19:45:04.764375Z",
     "start_time": "2025-07-21T19:45:04.756765Z"
    }
   },
   "cell_type": "code",
   "source": [
    "pipeline_configuration_data: PipelineConfigurationData = PipelineConfigurationFileManager.load_from_file(temp_pipeline_configuration_file)\n",
    "\n",
    "print(pipeline_configuration_data)"
   ],
   "id": "aaebea9be69c797f",
   "outputs": [
    {
     "name": "stdout",
     "output_type": "stream",
     "text": [
      "PipelineConfigurationData(name='\"DemoPipeline\"', supported_program_version='Version(\"1.0.0\")', components='DirectionalAcyclicGraph(\"\"\"\\n0=Base Input\\n1=Equidistant Node Generator\\n    predecessors=[\"0\"]\\n2=Function Expression Input\\n    predecessors=[\"1\"]\\n3=Interpolation Values Evaluator\\n    predecessors=[\"2\"]\\n4=Aitken Neville Interpolation\\n   predecessors=[\"3\"]\\n5=Newton Interpolation\\n    predecessors=[\"3\"]\\n6=Barycentric1 Interpolation\\n    predecessors=[\"3\"]\\n7=Barycentric2 Interpolation\\n    predecessors=[\"3\"]\\n8=Barycentric2 Chebyshev Interpolation\\n    predecessors=[\"3\"]\\n9=Interpolant Plotter\\n    predecessors=[\"4\", \"5\", \"6\", \"7\", \"8\"]\\n\"\"\")', additional_values={'extra_value': 'True'})\n"
     ]
    }
   ],
   "execution_count": 5
  },
  {
   "metadata": {},
   "cell_type": "markdown",
   "source": [
    "The last missing part is the parsing of the values. This can be conveniently done by simply instantiating an instance of the class 'PipelineConfiguration' using our pipeline_configuration_data.\n",
    "Furthermore, the class 'PipelineConfiguration' will automatically check the types of all values and throw exceptions if given an entry with a key of wrong type (e.g. name is an int instead of a str)."
   ],
   "id": "1210e168ac1c5746"
  },
  {
   "metadata": {
    "ExecuteTime": {
     "end_time": "2025-07-21T19:45:04.777337Z",
     "start_time": "2025-07-21T19:45:04.771785Z"
    }
   },
   "cell_type": "code",
   "source": [
    "pipeline_configuration: PipelineConfiguration = PipelineConfiguration(pipeline_configuration_data)\n",
    "\n",
    "print(pipeline_configuration)"
   ],
   "id": "eee6245731e67af6",
   "outputs": [
    {
     "name": "stdout",
     "output_type": "stream",
     "text": [
      "PipelineConfiguration(name='DemoPipeline', supported_program_version=<Version('1.0.0')>, components=<general_data_structures.directed_acyclic_graph.directional_acyclic_graph.DirectionalAcyclicGraph object at 0x0000021B26C6D100>, additional_values={'extra_value': True})\n"
     ]
    }
   ],
   "execution_count": 6
  },
  {
   "metadata": {},
   "cell_type": "markdown",
   "source": [
    "#### PipelineInput\n",
    "A pipeline input contains all the data used as input when executing the pipeline.\n",
    "The pipeline input works very similarly to the pipeline configuration.\n",
    "Required are the keys 'data_type' with a value of type 'type', 'node_count' with an int value and 'interpolation_interval' with a jax.numpy.ndarray of shape '(2,)' as the value."
   ],
   "id": "5e47c34c1c7580a6"
  },
  {
   "metadata": {
    "ExecuteTime": {
     "end_time": "2025-07-21T19:45:04.796139Z",
     "start_time": "2025-07-21T19:45:04.792116Z"
    }
   },
   "cell_type": "code",
   "source": [
    "pipeline_input_file_content: bytes = textwrap.dedent(\"\"\"\\\n",
    "    name=\"TestPipeline\"\n",
    "    data_type=jax.numpy.float32\n",
    "    node_count=34\n",
    "    interpolation_interval=jax.numpy.array([-1, 1])\n",
    "    interpolant_evaluation_points=jax.numpy.array([-1, 0, 1])\n",
    "    function_expression=\"sin(10*x)\"\n",
    "\n",
    "    piecewise_function_expressions=[((0,1), 'x'), ((1,2), 'x**2')]\n",
    "    sympy_function_expression_simplification=True\n",
    "    function_callable=lambda x: x**2 + 3\n",
    "    function_values=jax.numpy.array([0.0, 1.0, 4.0, 9.0, 16.0])\n",
    "    §secret_token=\"abc123\"\n",
    "    extra_value=[1, 2, 3]\n",
    "    \"\"\").encode(\"utf-8\")"
   ],
   "id": "228cf4db09d002c",
   "outputs": [],
   "execution_count": 7
  },
  {
   "metadata": {},
   "cell_type": "markdown",
   "source": "We write the content into a temporary file:",
   "id": "a6b244bb9eaade05"
  },
  {
   "metadata": {
    "ExecuteTime": {
     "end_time": "2025-07-21T19:45:04.809399Z",
     "start_time": "2025-07-21T19:45:04.803864Z"
    }
   },
   "cell_type": "code",
   "source": [
    "temp_pipeline_input_file = Path(temp_dir.name + \"/pipeline_input.ini\")\n",
    "\n",
    "with open(temp_pipeline_input_file, \"wb\") as f:\n",
    "    f.write(pipeline_input_file_content)"
   ],
   "id": "dc60215b8daf8027",
   "outputs": [],
   "execution_count": 8
  },
  {
   "metadata": {},
   "cell_type": "markdown",
   "source": "Similiar to before, we can load the .ini file into an instance of the dataclass 'PipelineInputData' using the method 'load_from_file(path: Path)' from the static class 'PipelineInputFileManager'.",
   "id": "22f6a5d6760053e7"
  },
  {
   "metadata": {
    "ExecuteTime": {
     "end_time": "2025-07-21T19:45:04.821941Z",
     "start_time": "2025-07-21T19:45:04.815467Z"
    }
   },
   "cell_type": "code",
   "source": [
    "pipeline_input_data: PipelineInputData = PipelineInputFileManager.load_from_file(temp_pipeline_input_file)\n",
    "\n",
    "print(pipeline_input_data)"
   ],
   "id": "8d8246a8bd932372",
   "outputs": [
    {
     "name": "stdout",
     "output_type": "stream",
     "text": [
      "PipelineInputData(name='\"TestPipeline\"', data_type='jax.numpy.float32', node_count='34', interpolation_interval='jax.numpy.array([-1, 1])', function_expression='\"sin(10*x)\"', piecewise_function_expression=None, sympy_function_expression_simplification='True', function_callable='lambda x: x**2 + 3', interpolation_values=None, interpolant_evaluation_points='jax.numpy.array([-1, 0, 1])', additional_directly_injected_values={'secret_token': '\"abc123\"'}, additional_values={'piecewise_function_expressions': \"[((0,1), 'x'), ((1,2), 'x**2')]\", 'function_values': 'jax.numpy.array([0.0, 1.0, 4.0, 9.0, 16.0])', 'extra_value': '[1, 2, 3]'})\n"
     ]
    }
   ],
   "execution_count": 9
  },
  {
   "metadata": {},
   "cell_type": "markdown",
   "source": "We parse the 'pipeline_input_data' by initializing an instance of the class 'PipelineInput':",
   "id": "777918924e7388bf"
  },
  {
   "metadata": {
    "ExecuteTime": {
     "end_time": "2025-07-21T19:45:04.895139Z",
     "start_time": "2025-07-21T19:45:04.829361Z"
    }
   },
   "cell_type": "code",
   "source": [
    "pipeline_input: PipelineInput = PipelineInput(pipeline_input_data)\n",
    "\n",
    "print(pipeline_input)"
   ],
   "id": "2f2e7926d253b513",
   "outputs": [
    {
     "name": "stdout",
     "output_type": "stream",
     "text": [
      "PipelineInput(name='TestPipeline'', data_type='<class 'jax.numpy.float32'>', node_count=34, interpolation_interval=Array([-1,  1], dtype=int32), function_expression='sin(10*x)', piecewise_function_expressions=None, sympy_function_expression_simplification='True', function_callable=<function <lambda> at 0x0000021B27127100>, interpolation_values=None', interpolant_evaluation_points=Array([-1,  0,  1], dtype=int32), additional_directly_injected_values={'secret_token': 'abc123'}, additional_values={'piecewise_function_expressions': [((0, 1), 'x'), ((1, 2), 'x**2')], 'function_values': Array([ 0.,  1.,  4.,  9., 16.], dtype=float32), 'extra_value': [1, 2, 3]}')\n"
     ]
    }
   ],
   "execution_count": 10
  },
  {
   "metadata": {},
   "cell_type": "markdown",
   "source": [
    "#### Pipeline building\n",
    "Using the just created 'PipelineInput' and 'PipelineConfiguration' instances, we can assemble a pipeline:"
   ],
   "id": "2c4d9c0aa0828a6a"
  },
  {
   "metadata": {
    "ExecuteTime": {
     "end_time": "2025-07-21T19:45:04.907349Z",
     "start_time": "2025-07-21T19:45:04.903256Z"
    }
   },
   "cell_type": "code",
   "source": "pipeline: Pipeline = PipelineBuilder.build(pipeline_configuration, pipeline_input)",
   "id": "da2cc100f0e0567b",
   "outputs": [],
   "execution_count": 11
  },
  {
   "metadata": {},
   "cell_type": "markdown",
   "source": [
    "#### Pipeline execution\n",
    "Instances of the class 'PipelineManager' are responsible for the execution of pipelines.\n",
    "We start of by initializing a 'PipelineManager' with our pipeline."
   ],
   "id": "e7b39e6e75b5c7c"
  },
  {
   "metadata": {
    "ExecuteTime": {
     "end_time": "2025-07-21T19:45:04.950327Z",
     "start_time": "2025-07-21T19:45:04.917956Z"
    }
   },
   "cell_type": "code",
   "source": "pipeline_manager: PipelineManager = PipelineManager(pipeline)",
   "id": "a0c919805d911a50",
   "outputs": [],
   "execution_count": 12
  },
  {
   "metadata": {},
   "cell_type": "markdown",
   "source": "After the initialization, we can execute the complete pipeline by calling 'execute_all()'.",
   "id": "6750d130768ccff7"
  },
  {
   "metadata": {
    "ExecuteTime": {
     "end_time": "2025-07-21T19:45:06.253900Z",
     "start_time": "2025-07-21T19:45:05.032459Z"
    }
   },
   "cell_type": "code",
   "source": "pipeline_manager.execute_all()",
   "id": "f9e2f0c6856259c5",
   "outputs": [
    {
     "data": {
      "text/plain": [
       "<Figure size 1000x600 with 1 Axes>"
      ],
      "image/png": "[encoded data removed]"
     },
     "metadata": {},
     "output_type": "display_data"
    }
   ],
   "execution_count": 13
  },
  {
   "metadata": {
    "ExecuteTime": {
     "end_time": "2025-07-21T19:45:06.291350Z",
     "start_time": "2025-07-21T19:45:06.274115Z"
    }
   },
   "cell_type": "code",
   "source": [
    "for report in pipeline_manager.get_all_component_execution_reports():\n",
    "    print(f\"###### Report from node {report.component_instantiation_info.component_name} ({report.component_instantiation_info.component.component_id}) ######\")\n",
    "    print(report)\n",
    "    print(\"\\n\\n\")"
   ],
   "id": "2b008f4bac452b7c",
   "outputs": [
    {
     "name": "stdout",
     "output_type": "stream",
     "text": [
      "###### Report from node 0 (base input) ######\n",
      "PipelineComponentExecutionReport(component_instantiation_info=PipelineComponentInstantiationInfo(component_name='0', component=PipelineComponentInfo(component_id='base input', component_type=<class 'pipeline_entities.pipeline.component_entities.default_component_types.input_pipeline_component.InputPipelineComponent'>, component_class=<class 'pipeline_entities.pipeline.component_entities.default_components.default_input_components.base_input_pipeline_component.BaseInputPipelineComponent'>, component_meta_info=ComponentMetaInfo(attributes_modifying={'data_type', 'node_count', 'interpolation_interval', 'interpolant_evaluation_points'}, attributes_allowed_to_be_overridden={'data_type', 'node_count', 'interpolation_interval', 'interpolant_evaluation_points'}, pre_dynamic_constraints=[InputKeyRequiredConstraint(key='data_type'), InputKeyRequiredConstraint(key='node_count'), InputKeyRequiredConstraint(key='interpolation_interval'), InputKeyRequiredConstraint(key='interpolant_evaluation_points')], post_dynamic_constraints=[], static_constraints=[], allow_additional_value_modifications_outside_specification=True)), overridden_attributes={}), component_output=PipelineData(data_type=<class 'jax.numpy.float32'>, node_count=34, interpolation_interval=Array([-1,  1], dtype=int32), interpolant_evaluation_points=Array([-1,  0,  1], dtype=int32), function_callable=None, interpolation_nodes=None, interpolation_values=None, interpolant=None, interpolant_values=None, additional_values={'secret_token': 'abc123'}), component_init_time=2.800021320581436e-06, component_execution_time=5.800044164061546e-06)\n",
      "\n",
      "\n",
      "\n",
      "###### Report from node 1 (equidistant node generator) ######\n",
      "PipelineComponentExecutionReport(component_instantiation_info=PipelineComponentInstantiationInfo(component_name='1', component=PipelineComponentInfo(component_id='equidistant node generator', component_type=<class 'pipeline_entities.pipeline.component_entities.default_component_types.node_generator.NodeGenerator'>, component_class=<class 'pipeline_entities.pipeline.component_entities.default_components.default_node_generators.equidistant_node_generator.EquidistantNodeGenerator'>, component_meta_info=ComponentMetaInfo(attributes_modifying={'interpolation_nodes'}, attributes_allowed_to_be_overridden={'data_type', 'node_count', 'interpolation_interval'}, pre_dynamic_constraints=[], post_dynamic_constraints=[PipelineDataDtypeRequiredPostConstraint], static_constraints=[AttributeRequiredConstraint(attribute_name='data_type'), AttributeRequiredConstraint(attribute_name='node_count'), AttributeRequiredConstraint(attribute_name='interpolation_interval'), MinPredecessorsConstraint(min_amount=1), MaxPredecessorsConstraint(max_amount=1)], allow_additional_value_modifications_outside_specification=False)), overridden_attributes={}), component_output=PipelineData(data_type=<class 'jax.numpy.float32'>, node_count=34, interpolation_interval=Array([-1,  1], dtype=int32), interpolant_evaluation_points=Array([-1,  0,  1], dtype=int32), function_callable=None, interpolation_nodes=Array([-1.        , -0.939394  , -0.8787879 , -0.81818175, -0.75757575,\n",
      "       -0.69696975, -0.6363636 , -0.5757575 , -0.5151515 , -0.45454547,\n",
      "       -0.39393938, -0.33333328, -0.27272725, -0.21212122, -0.15151513,\n",
      "       -0.09090903, -0.030303  ,  0.030303  ,  0.09090912,  0.15151525,\n",
      "        0.21212125,  0.27272725,  0.33333337,  0.3939395 ,  0.4545455 ,\n",
      "        0.5151515 ,  0.5757576 ,  0.63636374,  0.69696975,  0.75757575,\n",
      "        0.8181819 ,  0.878788  ,  0.939394  ,  1.        ], dtype=float32), interpolation_values=None, interpolant=None, interpolant_values=None, additional_values={'secret_token': 'abc123'}), component_init_time=0.0274940999224782, component_execution_time=0.00019280007109045982)\n",
      "\n",
      "\n",
      "\n",
      "###### Report from node 2 (function expression input) ######\n",
      "PipelineComponentExecutionReport(component_instantiation_info=PipelineComponentInstantiationInfo(component_name='2', component=PipelineComponentInfo(component_id='function expression input', component_type=<class 'pipeline_entities.pipeline.component_entities.default_component_types.input_pipeline_component.InputPipelineComponent'>, component_class=<class 'pipeline_entities.pipeline.component_entities.default_components.default_input_components.function_expression_input_component.FunctionExpressionInputComponent'>, component_meta_info=ComponentMetaInfo(attributes_modifying={'function_callable'}, attributes_allowed_to_be_overridden={'function_callable'}, pre_dynamic_constraints=[InputKeyRequiredConstraint(key='function_expression'), InputKeyRequiredConstraint(key='sympy_function_expression_simplification')], post_dynamic_constraints=[], static_constraints=[MinPredecessorsConstraint(min_amount=1), MaxPredecessorsConstraint(max_amount=1)], allow_additional_value_modifications_outside_specification=False)), overridden_attributes={}), component_output=PipelineData(data_type=<class 'jax.numpy.float32'>, node_count=34, interpolation_interval=Array([-1,  1], dtype=int32), interpolant_evaluation_points=Array([-1,  0,  1], dtype=int32), function_callable=<function _lambdifygenerated at 0x0000021B28450400>, interpolation_nodes=Array([-1.        , -0.939394  , -0.8787879 , -0.81818175, -0.75757575,\n",
      "       -0.69696975, -0.6363636 , -0.5757575 , -0.5151515 , -0.45454547,\n",
      "       -0.39393938, -0.33333328, -0.27272725, -0.21212122, -0.15151513,\n",
      "       -0.09090903, -0.030303  ,  0.030303  ,  0.09090912,  0.15151525,\n",
      "        0.21212125,  0.27272725,  0.33333337,  0.3939395 ,  0.4545455 ,\n",
      "        0.5151515 ,  0.5757576 ,  0.63636374,  0.69696975,  0.75757575,\n",
      "        0.8181819 ,  0.878788  ,  0.939394  ,  1.        ], dtype=float32), interpolation_values=None, interpolant=None, interpolant_values=None, additional_values={'secret_token': 'abc123'}), component_init_time=2.300017513334751e-06, component_execution_time=0.008971399976871908)\n",
      "\n",
      "\n",
      "\n",
      "###### Report from node 3 (interpolation values evaluator) ######\n",
      "PipelineComponentExecutionReport(component_instantiation_info=PipelineComponentInstantiationInfo(component_name='3', component=PipelineComponentInfo(component_id='interpolation values evaluator', component_type=<class 'pipeline_entities.pipeline.component_entities.default_component_types.evaluator_component.EvaluatorComponent'>, component_class=<class 'pipeline_entities.pipeline.component_entities.default_components.default_evaluation_components.interpolation_values_evaluator.InterpolationValuesEvaluator'>, component_meta_info=ComponentMetaInfo(attributes_modifying={'interpolation_values'}, attributes_allowed_to_be_overridden={'data_type', 'interpolation_nodes', 'function_callable'}, pre_dynamic_constraints=[], post_dynamic_constraints=[PipelineDataDtypeRequiredPostConstraint], static_constraints=[AttributeRequiredConstraint(attribute_name='data_type'), AttributeRequiredConstraint(attribute_name='function_callable'), AttributeRequiredConstraint(attribute_name='interpolation_nodes'), MinPredecessorsConstraint(min_amount=1), MaxPredecessorsConstraint(max_amount=1)], allow_additional_value_modifications_outside_specification=False)), overridden_attributes={}), component_output=PipelineData(data_type=<class 'jax.numpy.float32'>, node_count=34, interpolation_interval=Array([-1,  1], dtype=int32), interpolant_evaluation_points=Array([-1,  0,  1], dtype=int32), function_callable=<function _lambdifygenerated at 0x0000021B28450400>, interpolation_nodes=Array([-1.        , -0.939394  , -0.8787879 , -0.81818175, -0.75757575,\n",
      "       -0.69696975, -0.6363636 , -0.5757575 , -0.5151515 , -0.45454547,\n",
      "       -0.39393938, -0.33333328, -0.27272725, -0.21212122, -0.15151513,\n",
      "       -0.09090903, -0.030303  ,  0.030303  ,  0.09090912,  0.15151525,\n",
      "        0.21212125,  0.27272725,  0.33333337,  0.3939395 ,  0.4545455 ,\n",
      "        0.5151515 ,  0.5757576 ,  0.63636374,  0.69696975,  0.75757575,\n",
      "        0.8181819 ,  0.878788  ,  0.939394  ,  1.        ], dtype=float32), interpolation_values=Array([ 0.5440211 , -0.0308331 , -0.5947052 , -0.9467412 , -0.9615447 ,\n",
      "       -0.63384336, -0.08036395,  0.501741  ,  0.9051236 ,  0.98609877,\n",
      "        0.7158224 ,  0.19056742, -0.40256768, -0.8523071 , -0.9984522 ,\n",
      "       -0.78894514, -0.29841352,  0.29841352,  0.7889457 ,  0.9984523 ,\n",
      "        0.8523069 ,  0.40256768, -0.19056836, -0.71582323, -0.9860988 ,\n",
      "       -0.9051236 , -0.50174016,  0.08036538,  0.63384336,  0.9615447 ,\n",
      "        0.9467409 ,  0.5947045 ,  0.0308331 , -0.5440211 ], dtype=float32), interpolant=None, interpolant_values=None, additional_values={'secret_token': 'abc123'}), component_init_time=0.009990499936975539, component_execution_time=0.00015169999096542597)\n",
      "\n",
      "\n",
      "\n",
      "###### Report from node 8 (barycentric2 chebyshev interpolation) ######\n",
      "PipelineComponentExecutionReport(component_instantiation_info=PipelineComponentInstantiationInfo(component_name='8', component=PipelineComponentInfo(component_id='barycentric2 chebyshev interpolation', component_type=<class 'pipeline_entities.pipeline.component_entities.default_component_types.interpolation_core.InterpolationCore'>, component_class=<class 'pipeline_entities.pipeline.component_entities.default_components.default_interpolation_cores.barycentric_second_chebyshev_interpolation_core.BarycentricSecondChebyshevInterpolationCore'>, component_meta_info=ComponentMetaInfo(attributes_modifying={'interpolant'}, attributes_allowed_to_be_overridden={'data_type', 'node_count', 'interpolation_nodes', 'interpolation_values'}, pre_dynamic_constraints=[], post_dynamic_constraints=[], static_constraints=[AttributeRequiredConstraint(attribute_name='interpolation_nodes'), AttributeRequiredConstraint(attribute_name='interpolation_values'), AttributeRequiredConstraint(attribute_name='data_type'), AttributeRequiredConstraint(attribute_name='node_count'), MinPredecessorsConstraint(min_amount=1), MaxPredecessorsConstraint(max_amount=1)], allow_additional_value_modifications_outside_specification=False)), overridden_attributes={}), component_output=PipelineData(data_type=<class 'jax.numpy.float32'>, node_count=34, interpolation_interval=Array([-1,  1], dtype=int32), interpolant_evaluation_points=Array([-1,  0,  1], dtype=int32), function_callable=<function _lambdifygenerated at 0x0000021B28450400>, interpolation_nodes=Array([-1.        , -0.939394  , -0.8787879 , -0.81818175, -0.75757575,\n",
      "       -0.69696975, -0.6363636 , -0.5757575 , -0.5151515 , -0.45454547,\n",
      "       -0.39393938, -0.33333328, -0.27272725, -0.21212122, -0.15151513,\n",
      "       -0.09090903, -0.030303  ,  0.030303  ,  0.09090912,  0.15151525,\n",
      "        0.21212125,  0.27272725,  0.33333337,  0.3939395 ,  0.4545455 ,\n",
      "        0.5151515 ,  0.5757576 ,  0.63636374,  0.69696975,  0.75757575,\n",
      "        0.8181819 ,  0.878788  ,  0.939394  ,  1.        ], dtype=float32), interpolation_values=Array([ 0.5440211 , -0.0308331 , -0.5947052 , -0.9467412 , -0.9615447 ,\n",
      "       -0.63384336, -0.08036395,  0.501741  ,  0.9051236 ,  0.98609877,\n",
      "        0.7158224 ,  0.19056742, -0.40256768, -0.8523071 , -0.9984522 ,\n",
      "       -0.78894514, -0.29841352,  0.29841352,  0.7889457 ,  0.9984523 ,\n",
      "        0.8523069 ,  0.40256768, -0.19056836, -0.71582323, -0.9860988 ,\n",
      "       -0.9051236 , -0.50174016,  0.08036538,  0.63384336,  0.9615447 ,\n",
      "        0.9467409 ,  0.5947045 ,  0.0308331 , -0.5440211 ], dtype=float32), interpolant=BarycentricSecondInterpolant(nodes=Array([-1.        , -0.939394  , -0.8787879 , -0.81818175, -0.75757575,\n",
      "       -0.69696975, -0.6363636 , -0.5757575 , -0.5151515 , -0.45454547,\n",
      "       -0.39393938, -0.33333328, -0.27272725, -0.21212122, -0.15151513,\n",
      "       -0.09090903, -0.030303  ,  0.030303  ,  0.09090912,  0.15151525,\n",
      "        0.21212125,  0.27272725,  0.33333337,  0.3939395 ,  0.4545455 ,\n",
      "        0.5151515 ,  0.5757576 ,  0.63636374,  0.69696975,  0.75757575,\n",
      "        0.8181819 ,  0.878788  ,  0.939394  ,  1.        ], dtype=float32), values=Array([ 0.5440211 , -0.0308331 , -0.5947052 , -0.9467412 , -0.9615447 ,\n",
      "       -0.63384336, -0.08036395,  0.501741  ,  0.9051236 ,  0.98609877,\n",
      "        0.7158224 ,  0.19056742, -0.40256768, -0.8523071 , -0.9984522 ,\n",
      "       -0.78894514, -0.29841352,  0.29841352,  0.7889457 ,  0.9984523 ,\n",
      "        0.8523069 ,  0.40256768, -0.19056836, -0.71582323, -0.9860988 ,\n",
      "       -0.9051236 , -0.50174016,  0.08036538,  0.63384336,  0.9615447 ,\n",
      "        0.9467409 ,  0.5947045 ,  0.0308331 , -0.5440211 ], dtype=float32), weights=Array([ 0.5, -1. ,  1. , -1. ,  1. , -1. ,  1. , -1. ,  1. , -1. ,  1. ,\n",
      "       -1. ,  1. , -1. ,  1. , -1. ,  1. , -1. ,  1. , -1. ,  1. , -1. ,\n",
      "        1. , -1. ,  1. , -1. ,  1. , -1. ,  1. , -1. ,  1. , -1. ,  1. ,\n",
      "       -0.5], dtype=float32)), interpolant_values=None, additional_values={'secret_token': 'abc123'}), component_init_time=0.029301400063559413, component_execution_time=0.0001759999431669712)\n",
      "\n",
      "\n",
      "\n",
      "###### Report from node 7 (barycentric2 interpolation) ######\n",
      "PipelineComponentExecutionReport(component_instantiation_info=PipelineComponentInstantiationInfo(component_name='7', component=PipelineComponentInfo(component_id='barycentric2 interpolation', component_type=<class 'pipeline_entities.pipeline.component_entities.default_component_types.interpolation_core.InterpolationCore'>, component_class=<class 'pipeline_entities.pipeline.component_entities.default_components.default_interpolation_cores.barycentric_second_interpolation_core.BarycentricSecondInterpolationCore'>, component_meta_info=ComponentMetaInfo(attributes_modifying={'interpolant'}, attributes_allowed_to_be_overridden={'data_type', 'node_count', 'interpolation_nodes', 'interpolation_values'}, pre_dynamic_constraints=[], post_dynamic_constraints=[], static_constraints=[AttributeRequiredConstraint(attribute_name='interpolation_nodes'), AttributeRequiredConstraint(attribute_name='interpolation_values'), AttributeRequiredConstraint(attribute_name='data_type'), AttributeRequiredConstraint(attribute_name='node_count'), MinPredecessorsConstraint(min_amount=1), MaxPredecessorsConstraint(max_amount=1)], allow_additional_value_modifications_outside_specification=False)), overridden_attributes={}), component_output=PipelineData(data_type=<class 'jax.numpy.float32'>, node_count=34, interpolation_interval=Array([-1,  1], dtype=int32), interpolant_evaluation_points=Array([-1,  0,  1], dtype=int32), function_callable=<function _lambdifygenerated at 0x0000021B28450400>, interpolation_nodes=Array([-1.        , -0.939394  , -0.8787879 , -0.81818175, -0.75757575,\n",
      "       -0.69696975, -0.6363636 , -0.5757575 , -0.5151515 , -0.45454547,\n",
      "       -0.39393938, -0.33333328, -0.27272725, -0.21212122, -0.15151513,\n",
      "       -0.09090903, -0.030303  ,  0.030303  ,  0.09090912,  0.15151525,\n",
      "        0.21212125,  0.27272725,  0.33333337,  0.3939395 ,  0.4545455 ,\n",
      "        0.5151515 ,  0.5757576 ,  0.63636374,  0.69696975,  0.75757575,\n",
      "        0.8181819 ,  0.878788  ,  0.939394  ,  1.        ], dtype=float32), interpolation_values=Array([ 0.5440211 , -0.0308331 , -0.5947052 , -0.9467412 , -0.9615447 ,\n",
      "       -0.63384336, -0.08036395,  0.501741  ,  0.9051236 ,  0.98609877,\n",
      "        0.7158224 ,  0.19056742, -0.40256768, -0.8523071 , -0.9984522 ,\n",
      "       -0.78894514, -0.29841352,  0.29841352,  0.7889457 ,  0.9984523 ,\n",
      "        0.8523069 ,  0.40256768, -0.19056836, -0.71582323, -0.9860988 ,\n",
      "       -0.9051236 , -0.50174016,  0.08036538,  0.63384336,  0.9615447 ,\n",
      "        0.9467409 ,  0.5947045 ,  0.0308331 , -0.5440211 ], dtype=float32), interpolant=BarycentricSecondInterpolant(nodes=Array([-1.        , -0.939394  , -0.8787879 , -0.81818175, -0.75757575,\n",
      "       -0.69696975, -0.6363636 , -0.5757575 , -0.5151515 , -0.45454547,\n",
      "       -0.39393938, -0.33333328, -0.27272725, -0.21212122, -0.15151513,\n",
      "       -0.09090903, -0.030303  ,  0.030303  ,  0.09090912,  0.15151525,\n",
      "        0.21212125,  0.27272725,  0.33333337,  0.3939395 ,  0.4545455 ,\n",
      "        0.5151515 ,  0.5757576 ,  0.63636374,  0.69696975,  0.75757575,\n",
      "        0.8181819 ,  0.878788  ,  0.939394  ,  1.        ], dtype=float32), values=Array([ 0.5440211 , -0.0308331 , -0.5947052 , -0.9467412 , -0.9615447 ,\n",
      "       -0.63384336, -0.08036395,  0.501741  ,  0.9051236 ,  0.98609877,\n",
      "        0.7158224 ,  0.19056742, -0.40256768, -0.8523071 , -0.9984522 ,\n",
      "       -0.78894514, -0.29841352,  0.29841352,  0.7889457 ,  0.9984523 ,\n",
      "        0.8523069 ,  0.40256768, -0.19056836, -0.71582323, -0.9860988 ,\n",
      "       -0.9051236 , -0.50174016,  0.08036538,  0.63384336,  0.9615447 ,\n",
      "        0.9467409 ,  0.5947045 ,  0.0308331 , -0.5440211 ], dtype=float32), weights=Array([-1.7309498e+03,  5.7121078e+04, -9.1393912e+05,  9.4440710e+06,\n",
      "       -7.0830512e+07,  4.1081555e+08, -1.9171392e+09,  7.3946998e+09,\n",
      "       -2.4032782e+10,  6.6757624e+10, -1.6021823e+11,  3.3500217e+11,\n",
      "       -6.1417082e+11,  9.9212100e+11, -1.4173155e+12,  1.7952674e+12,\n",
      "       -2.0196784e+12,  2.0196755e+12, -1.7952641e+12,  1.4173159e+12,\n",
      "       -9.9212296e+11,  6.1417069e+11, -3.3500152e+11,  1.6021823e+11,\n",
      "       -6.6757755e+10,  2.4032784e+10, -7.3946824e+09,  1.9171402e+09,\n",
      "       -4.1081690e+08,  7.0830544e+07, -9.4440420e+06,  9.1393850e+05,\n",
      "       -5.7121398e+04,  1.7309556e+03], dtype=float32)), interpolant_values=None, additional_values={'secret_token': 'abc123'}), component_init_time=0.05273820005822927, component_execution_time=0.0001805999781936407)\n",
      "\n",
      "\n",
      "\n",
      "###### Report from node 6 (barycentric1 interpolation) ######\n",
      "PipelineComponentExecutionReport(component_instantiation_info=PipelineComponentInstantiationInfo(component_name='6', component=PipelineComponentInfo(component_id='barycentric1 interpolation', component_type=<class 'pipeline_entities.pipeline.component_entities.default_component_types.interpolation_core.InterpolationCore'>, component_class=<class 'pipeline_entities.pipeline.component_entities.default_components.default_interpolation_cores.barycentric_first_interpolation_core.BarycentricFirstInterpolationCore'>, component_meta_info=ComponentMetaInfo(attributes_modifying={'interpolant'}, attributes_allowed_to_be_overridden={'data_type', 'node_count', 'interpolation_nodes', 'interpolation_values'}, pre_dynamic_constraints=[], post_dynamic_constraints=[], static_constraints=[AttributeRequiredConstraint(attribute_name='interpolation_nodes'), AttributeRequiredConstraint(attribute_name='interpolation_values'), AttributeRequiredConstraint(attribute_name='data_type'), AttributeRequiredConstraint(attribute_name='node_count'), MinPredecessorsConstraint(min_amount=1), MaxPredecessorsConstraint(max_amount=1)], allow_additional_value_modifications_outside_specification=False)), overridden_attributes={}), component_output=PipelineData(data_type=<class 'jax.numpy.float32'>, node_count=34, interpolation_interval=Array([-1,  1], dtype=int32), interpolant_evaluation_points=Array([-1,  0,  1], dtype=int32), function_callable=<function _lambdifygenerated at 0x0000021B28450400>, interpolation_nodes=Array([-1.        , -0.939394  , -0.8787879 , -0.81818175, -0.75757575,\n",
      "       -0.69696975, -0.6363636 , -0.5757575 , -0.5151515 , -0.45454547,\n",
      "       -0.39393938, -0.33333328, -0.27272725, -0.21212122, -0.15151513,\n",
      "       -0.09090903, -0.030303  ,  0.030303  ,  0.09090912,  0.15151525,\n",
      "        0.21212125,  0.27272725,  0.33333337,  0.3939395 ,  0.4545455 ,\n",
      "        0.5151515 ,  0.5757576 ,  0.63636374,  0.69696975,  0.75757575,\n",
      "        0.8181819 ,  0.878788  ,  0.939394  ,  1.        ], dtype=float32), interpolation_values=Array([ 0.5440211 , -0.0308331 , -0.5947052 , -0.9467412 , -0.9615447 ,\n",
      "       -0.63384336, -0.08036395,  0.501741  ,  0.9051236 ,  0.98609877,\n",
      "        0.7158224 ,  0.19056742, -0.40256768, -0.8523071 , -0.9984522 ,\n",
      "       -0.78894514, -0.29841352,  0.29841352,  0.7889457 ,  0.9984523 ,\n",
      "        0.8523069 ,  0.40256768, -0.19056836, -0.71582323, -0.9860988 ,\n",
      "       -0.9051236 , -0.50174016,  0.08036538,  0.63384336,  0.9615447 ,\n",
      "        0.9467409 ,  0.5947045 ,  0.0308331 , -0.5440211 ], dtype=float32), interpolant=BarycentricFirstInterpolant(nodes=Array([-1.        , -0.939394  , -0.8787879 , -0.81818175, -0.75757575,\n",
      "       -0.69696975, -0.6363636 , -0.5757575 , -0.5151515 , -0.45454547,\n",
      "       -0.39393938, -0.33333328, -0.27272725, -0.21212122, -0.15151513,\n",
      "       -0.09090903, -0.030303  ,  0.030303  ,  0.09090912,  0.15151525,\n",
      "        0.21212125,  0.27272725,  0.33333337,  0.3939395 ,  0.4545455 ,\n",
      "        0.5151515 ,  0.5757576 ,  0.63636374,  0.69696975,  0.75757575,\n",
      "        0.8181819 ,  0.878788  ,  0.939394  ,  1.        ], dtype=float32), values=Array([ 0.5440211 , -0.0308331 , -0.5947052 , -0.9467412 , -0.9615447 ,\n",
      "       -0.63384336, -0.08036395,  0.501741  ,  0.9051236 ,  0.98609877,\n",
      "        0.7158224 ,  0.19056742, -0.40256768, -0.8523071 , -0.9984522 ,\n",
      "       -0.78894514, -0.29841352,  0.29841352,  0.7889457 ,  0.9984523 ,\n",
      "        0.8523069 ,  0.40256768, -0.19056836, -0.71582323, -0.9860988 ,\n",
      "       -0.9051236 , -0.50174016,  0.08036538,  0.63384336,  0.9615447 ,\n",
      "        0.9467409 ,  0.5947045 ,  0.0308331 , -0.5440211 ], dtype=float32), weights=Array([-1.7309498e+03,  5.7121078e+04, -9.1393912e+05,  9.4440710e+06,\n",
      "       -7.0830512e+07,  4.1081555e+08, -1.9171392e+09,  7.3946998e+09,\n",
      "       -2.4032782e+10,  6.6757624e+10, -1.6021823e+11,  3.3500217e+11,\n",
      "       -6.1417082e+11,  9.9212100e+11, -1.4173155e+12,  1.7952674e+12,\n",
      "       -2.0196784e+12,  2.0196755e+12, -1.7952641e+12,  1.4173159e+12,\n",
      "       -9.9212296e+11,  6.1417069e+11, -3.3500152e+11,  1.6021823e+11,\n",
      "       -6.6757755e+10,  2.4032784e+10, -7.3946824e+09,  1.9171402e+09,\n",
      "       -4.1081690e+08,  7.0830544e+07, -9.4440420e+06,  9.1393850e+05,\n",
      "       -5.7121398e+04,  1.7309556e+03], dtype=float32)), interpolant_values=None, additional_values={'secret_token': 'abc123'}), component_init_time=0.04719399998430163, component_execution_time=0.00016189995221793652)\n",
      "\n",
      "\n",
      "\n",
      "###### Report from node 5 (newton interpolation) ######\n",
      "PipelineComponentExecutionReport(component_instantiation_info=PipelineComponentInstantiationInfo(component_name='5', component=PipelineComponentInfo(component_id='newton interpolation', component_type=<class 'pipeline_entities.pipeline.component_entities.default_component_types.interpolation_core.InterpolationCore'>, component_class=<class 'pipeline_entities.pipeline.component_entities.default_components.default_interpolation_cores.newton_interpolation_core.NewtonInterpolationCore'>, component_meta_info=ComponentMetaInfo(attributes_modifying={'interpolant'}, attributes_allowed_to_be_overridden={'data_type', 'node_count', 'interpolation_nodes', 'interpolation_values'}, pre_dynamic_constraints=[], post_dynamic_constraints=[], static_constraints=[AttributeRequiredConstraint(attribute_name='interpolation_nodes'), AttributeRequiredConstraint(attribute_name='interpolation_values'), AttributeRequiredConstraint(attribute_name='data_type'), AttributeRequiredConstraint(attribute_name='node_count'), MinPredecessorsConstraint(min_amount=1), MaxPredecessorsConstraint(max_amount=1)], allow_additional_value_modifications_outside_specification=False)), overridden_attributes={}), component_output=PipelineData(data_type=<class 'jax.numpy.float32'>, node_count=34, interpolation_interval=Array([-1,  1], dtype=int32), interpolant_evaluation_points=Array([-1,  0,  1], dtype=int32), function_callable=<function _lambdifygenerated at 0x0000021B28450400>, interpolation_nodes=Array([-1.        , -0.939394  , -0.8787879 , -0.81818175, -0.75757575,\n",
      "       -0.69696975, -0.6363636 , -0.5757575 , -0.5151515 , -0.45454547,\n",
      "       -0.39393938, -0.33333328, -0.27272725, -0.21212122, -0.15151513,\n",
      "       -0.09090903, -0.030303  ,  0.030303  ,  0.09090912,  0.15151525,\n",
      "        0.21212125,  0.27272725,  0.33333337,  0.3939395 ,  0.4545455 ,\n",
      "        0.5151515 ,  0.5757576 ,  0.63636374,  0.69696975,  0.75757575,\n",
      "        0.8181819 ,  0.878788  ,  0.939394  ,  1.        ], dtype=float32), interpolation_values=Array([ 0.5440211 , -0.0308331 , -0.5947052 , -0.9467412 , -0.9615447 ,\n",
      "       -0.63384336, -0.08036395,  0.501741  ,  0.9051236 ,  0.98609877,\n",
      "        0.7158224 ,  0.19056742, -0.40256768, -0.8523071 , -0.9984522 ,\n",
      "       -0.78894514, -0.29841352,  0.29841352,  0.7889457 ,  0.9984523 ,\n",
      "        0.8523069 ,  0.40256768, -0.19056836, -0.71582323, -0.9860988 ,\n",
      "       -0.9051236 , -0.50174016,  0.08036538,  0.63384336,  0.9615447 ,\n",
      "        0.9467409 ,  0.5947045 ,  0.0308331 , -0.5440211 ], dtype=float32), interpolant=NewtonInterpolant(divided_differences=Array([ 5.4402113e-01, -9.4851046e+00,  1.4951048e+00,  1.5037556e+02,\n",
      "       -2.3303282e+02, -4.5522772e+02,  1.1992285e+03,  4.4115566e+01,\n",
      "       -2.1084124e+03,  1.3130190e+03,  1.5200347e+03, -2.0399612e+03,\n",
      "        8.8295242e+01,  7.0785785e+02,  8.2180847e+02, -3.0159065e+03,\n",
      "        5.2018926e+03, -8.4440107e+03,  1.3790404e+04, -2.1620836e+04,\n",
      "        3.2149438e+04, -4.5673480e+04,  6.2411109e+04, -8.2362930e+04,\n",
      "        1.0526008e+05, -1.3044512e+05,  1.5665741e+05, -1.8185445e+05,\n",
      "        2.0325645e+05, -2.1774222e+05,  2.2256217e+05, -2.1614227e+05,\n",
      "        1.9865045e+05, -1.7206662e+05], dtype=float32), nodes=Array([-1.        , -0.939394  , -0.8787879 , -0.81818175, -0.75757575,\n",
      "       -0.69696975, -0.6363636 , -0.5757575 , -0.5151515 , -0.45454547,\n",
      "       -0.39393938, -0.33333328, -0.27272725, -0.21212122, -0.15151513,\n",
      "       -0.09090903, -0.030303  ,  0.030303  ,  0.09090912,  0.15151525,\n",
      "        0.21212125,  0.27272725,  0.33333337,  0.3939395 ,  0.4545455 ,\n",
      "        0.5151515 ,  0.5757576 ,  0.63636374,  0.69696975,  0.75757575,\n",
      "        0.8181819 ,  0.878788  ,  0.939394  ,  1.        ], dtype=float32)), interpolant_values=None, additional_values={'secret_token': 'abc123'}), component_init_time=0.04516049998346716, component_execution_time=0.00017280003521591425)\n",
      "\n",
      "\n",
      "\n",
      "###### Report from node 4 (aitken neville interpolation) ######\n",
      "PipelineComponentExecutionReport(component_instantiation_info=PipelineComponentInstantiationInfo(component_name='4', component=PipelineComponentInfo(component_id='aitken neville interpolation', component_type=<class 'pipeline_entities.pipeline.component_entities.default_component_types.interpolation_core.InterpolationCore'>, component_class=<class 'pipeline_entities.pipeline.component_entities.default_components.default_interpolation_cores.aitken_neville_interpolation_core.AitkenNevilleInterpolationCore'>, component_meta_info=ComponentMetaInfo(attributes_modifying={'interpolant'}, attributes_allowed_to_be_overridden={'data_type', 'node_count', 'interpolation_nodes', 'interpolation_values'}, pre_dynamic_constraints=[], post_dynamic_constraints=[], static_constraints=[AttributeRequiredConstraint(attribute_name='interpolation_nodes'), AttributeRequiredConstraint(attribute_name='interpolation_values'), AttributeRequiredConstraint(attribute_name='data_type'), AttributeRequiredConstraint(attribute_name='node_count'), MinPredecessorsConstraint(min_amount=1), MaxPredecessorsConstraint(max_amount=1)], allow_additional_value_modifications_outside_specification=False)), overridden_attributes={}), component_output=PipelineData(data_type=<class 'jax.numpy.float32'>, node_count=34, interpolation_interval=Array([-1,  1], dtype=int32), interpolant_evaluation_points=Array([-1,  0,  1], dtype=int32), function_callable=<function _lambdifygenerated at 0x0000021B28450400>, interpolation_nodes=Array([-1.        , -0.939394  , -0.8787879 , -0.81818175, -0.75757575,\n",
      "       -0.69696975, -0.6363636 , -0.5757575 , -0.5151515 , -0.45454547,\n",
      "       -0.39393938, -0.33333328, -0.27272725, -0.21212122, -0.15151513,\n",
      "       -0.09090903, -0.030303  ,  0.030303  ,  0.09090912,  0.15151525,\n",
      "        0.21212125,  0.27272725,  0.33333337,  0.3939395 ,  0.4545455 ,\n",
      "        0.5151515 ,  0.5757576 ,  0.63636374,  0.69696975,  0.75757575,\n",
      "        0.8181819 ,  0.878788  ,  0.939394  ,  1.        ], dtype=float32), interpolation_values=Array([ 0.5440211 , -0.0308331 , -0.5947052 , -0.9467412 , -0.9615447 ,\n",
      "       -0.63384336, -0.08036395,  0.501741  ,  0.9051236 ,  0.98609877,\n",
      "        0.7158224 ,  0.19056742, -0.40256768, -0.8523071 , -0.9984522 ,\n",
      "       -0.78894514, -0.29841352,  0.29841352,  0.7889457 ,  0.9984523 ,\n",
      "        0.8523069 ,  0.40256768, -0.19056836, -0.71582323, -0.9860988 ,\n",
      "       -0.9051236 , -0.50174016,  0.08036538,  0.63384336,  0.9615447 ,\n",
      "        0.9467409 ,  0.5947045 ,  0.0308331 , -0.5440211 ], dtype=float32), interpolant=AitkenNevilleInterpolant(coefficients=Array([ 7.6803293e-09,  9.9999981e+00, -9.5155419e-06, -1.6666641e+02,\n",
      "        1.6108173e-03,  8.3330707e+02, -9.4793648e-02, -1.9829470e+03,\n",
      "        2.7814803e+00,  2.7268088e+03, -4.7634651e+01, -2.0616453e+03,\n",
      "        5.2710895e+02, -2.9631790e+03, -3.9766343e+03,  3.2040254e+04,\n",
      "        2.1114664e+04, -1.6756358e+05, -8.0362930e+04,  6.2010838e+05,\n",
      "        2.2101023e+05, -1.6640489e+06, -4.3847244e+05,  3.2326245e+06,\n",
      "        6.1969088e+05, -4.4862660e+06, -6.0681150e+05,  4.3242075e+06,\n",
      "        3.9029850e+05, -2.7434810e+06, -1.4799834e+05,  1.0280495e+06,\n",
      "        2.5025562e+04, -1.7206662e+05], dtype=float32)), interpolant_values=None, additional_values={'secret_token': 'abc123'}), component_init_time=0.06627720000687987, component_execution_time=0.0002848999574780464)\n",
      "\n",
      "\n",
      "\n",
      "###### Report from node 9 (interpolant plotter) ######\n",
      "PipelineComponentExecutionReport(component_instantiation_info=PipelineComponentInstantiationInfo(component_name='9', component=PipelineComponentInfo(component_id='interpolant plotter', component_type=<class 'pipeline_entities.pipeline.component_entities.default_component_types.interpolation_core.InterpolationCore'>, component_class=<class 'pipeline_entities.pipeline.component_entities.default_components.default_plotting_components.interpolants_plot_component.InterpolantsPlotComponent'>, component_meta_info=ComponentMetaInfo(attributes_modifying=set(), attributes_allowed_to_be_overridden=set(), pre_dynamic_constraints=[], post_dynamic_constraints=[], static_constraints=[AttributeRequiredConstraint(attribute_name='interpolation_interval'), AttributeRequiredConstraint(attribute_name='function_callable'), AttributeRequiredConstraint(attribute_name='interpolation_nodes'), AttributeRequiredConstraint(attribute_name='interpolant')], allow_additional_value_modifications_outside_specification=False)), overridden_attributes={}), component_output=PipelineData(data_type=<class 'jax.numpy.float32'>, node_count=34, interpolation_interval=Array([-1,  1], dtype=int32), interpolant_evaluation_points=Array([-1,  0,  1], dtype=int32), function_callable=<function _lambdifygenerated at 0x0000021B28450400>, interpolation_nodes=Array([-1.        , -0.939394  , -0.8787879 , -0.81818175, -0.75757575,\n",
      "       -0.69696975, -0.6363636 , -0.5757575 , -0.5151515 , -0.45454547,\n",
      "       -0.39393938, -0.33333328, -0.27272725, -0.21212122, -0.15151513,\n",
      "       -0.09090903, -0.030303  ,  0.030303  ,  0.09090912,  0.15151525,\n",
      "        0.21212125,  0.27272725,  0.33333337,  0.3939395 ,  0.4545455 ,\n",
      "        0.5151515 ,  0.5757576 ,  0.63636374,  0.69696975,  0.75757575,\n",
      "        0.8181819 ,  0.878788  ,  0.939394  ,  1.        ], dtype=float32), interpolation_values=Array([ 0.5440211 , -0.0308331 , -0.5947052 , -0.9467412 , -0.9615447 ,\n",
      "       -0.63384336, -0.08036395,  0.501741  ,  0.9051236 ,  0.98609877,\n",
      "        0.7158224 ,  0.19056742, -0.40256768, -0.8523071 , -0.9984522 ,\n",
      "       -0.78894514, -0.29841352,  0.29841352,  0.7889457 ,  0.9984523 ,\n",
      "        0.8523069 ,  0.40256768, -0.19056836, -0.71582323, -0.9860988 ,\n",
      "       -0.9051236 , -0.50174016,  0.08036538,  0.63384336,  0.9615447 ,\n",
      "        0.9467409 ,  0.5947045 ,  0.0308331 , -0.5440211 ], dtype=float32), interpolant=AitkenNevilleInterpolant(coefficients=Array([ 7.6803293e-09,  9.9999981e+00, -9.5155419e-06, -1.6666641e+02,\n",
      "        1.6108173e-03,  8.3330707e+02, -9.4793648e-02, -1.9829470e+03,\n",
      "        2.7814803e+00,  2.7268088e+03, -4.7634651e+01, -2.0616453e+03,\n",
      "        5.2710895e+02, -2.9631790e+03, -3.9766343e+03,  3.2040254e+04,\n",
      "        2.1114664e+04, -1.6756358e+05, -8.0362930e+04,  6.2010838e+05,\n",
      "        2.2101023e+05, -1.6640489e+06, -4.3847244e+05,  3.2326245e+06,\n",
      "        6.1969088e+05, -4.4862660e+06, -6.0681150e+05,  4.3242075e+06,\n",
      "        3.9029850e+05, -2.7434810e+06, -1.4799834e+05,  1.0280495e+06,\n",
      "        2.5025562e+04, -1.7206662e+05], dtype=float32)), interpolant_values=None, additional_values={'secret_token': 'abc123'}), component_init_time=2.600019797682762e-06, component_execution_time=0.6728168999543414)\n",
      "\n",
      "\n",
      "\n"
     ]
    }
   ],
   "execution_count": 14
  }
 ],
 "metadata": {
  "kernelspec": {
   "display_name": "Python 3",
   "language": "python",
   "name": "python3"
  },
  "language_info": {
   "codemirror_mode": {
    "name": "ipython",
    "version": 2
   },
   "file_extension": ".py",
   "mimetype": "text/x-python",
   "name": "python",
   "nbconvert_exporter": "python",
   "pygments_lexer": "ipython2",
   "version": "2.7.6"
  }
 },
 "nbformat": 4,
 "nbformat_minor": 5
}
