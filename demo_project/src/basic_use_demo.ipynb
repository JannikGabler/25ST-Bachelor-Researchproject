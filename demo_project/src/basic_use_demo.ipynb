{
 "cells": [
  {
   "metadata": {},
   "cell_type": "markdown",
   "source": [
    "# Basic use demo\n",
    "This jupyter notebook shows the basic use of the internals."
   ],
   "id": "524d3143e71b367d"
  },
  {
   "metadata": {},
   "cell_type": "markdown",
   "source": "#### Imports",
   "id": "293826e6896cdcdd"
  },
  {
   "metadata": {
    "ExecuteTime": {
     "end_time": "2025-07-05T21:27:08.074402Z",
     "start_time": "2025-07-05T21:27:08.068915Z"
    }
   },
   "cell_type": "code",
   "source": [
    "import textwrap\n",
    "import tempfile\n",
    "\n",
    "from pathlib import Path\n",
    "\n",
    "from file_handling.pipeline_input_handling.pipeline_input_file_manager import PipelineInputFileManager\n",
    "from pipeline_entities.pipeline_configuration.dataclasses.pipeline_configuration_data import PipelineConfigurationData\n",
    "from file_handling.pipeline_configuration_handling.pipeline_configuration_file_manager import \\\n",
    "    PipelineConfigurationFileManager\n",
    "from pipeline_entities.pipeline_configuration.dataclasses.pipeline_configuration import PipelineConfiguration\n",
    "from pipeline_entities.pipeline_input.pipeline_input import PipelineInput\n",
    "from pipeline_entities.pipeline_input.pipeline_input_data import PipelineInputData\n",
    "from pipeline_entities.pipeline.pipeline import Pipeline\n",
    "from pipeline_entities.pipeline_builder.pipeline_builder import PipelineBuilder\n",
    "from pipeline_entities.pipeline_manager.pipeline_manager import PipelineManager\n",
    "from setup_manager.internal_logic_setup_manager import InternalLogicSetupManager"
   ],
   "id": "11ed479a97f7c8dc",
   "outputs": [],
   "execution_count": 14
  },
  {
   "metadata": {},
   "cell_type": "markdown",
   "source": "#### Setup",
   "id": "d9de42f75f6a03ff"
  },
  {
   "metadata": {
    "ExecuteTime": {
     "end_time": "2025-07-05T21:27:08.101924Z",
     "start_time": "2025-07-05T21:27:08.098483Z"
    }
   },
   "cell_type": "code",
   "source": "InternalLogicSetupManager.setup()",
   "id": "c1313e204310d509",
   "outputs": [],
   "execution_count": 15
  },
  {
   "metadata": {},
   "cell_type": "markdown",
   "source": [
    "#### Pipeline configuration\n",
    "A pipeline configuration defines the structure of a pipeline. Pipeline configurations are loaded from .ini files.\n",
    "We are using a temporary file to make things easier for this demo.\n",
    "The .ini content must contain the keys 'supported_program_version' with a value of the type 'packaging.Version' and 'components' with a value of the type 'Tree[str]'.\n",
    "Values can be written over multiple lines by ending a line with the known '\\\\'.\n",
    "We are using the following .ini content:"
   ],
   "id": "62bef21ca10dd36f"
  },
  {
   "metadata": {
    "ExecuteTime": {
     "end_time": "2025-07-05T21:27:08.125954Z",
     "start_time": "2025-07-05T21:27:08.122338Z"
    }
   },
   "cell_type": "code",
   "source": [
    "pipeline_configuration_file_content: bytes = textwrap.dedent(\"\"\"\\\n",
    "    name=\"DemoPipeline\"\n",
    "    supported_program_version=Version(\\\"1.0.0\\\")\n",
    "    components=DirectionalAcyclicGraph(\\\"\\\"\\\"\n",
    "        0=Base Input\n",
    "        1=Equidistant Node Generator\n",
    "            predecessors=[\"0\"]\n",
    "        2=Function Expression Input\n",
    "            predecessors=[\"1\"]\n",
    "        3=Interpolation Values Evaluator\n",
    "            predecessors=[\"2\"]\n",
    "        4=Newton Interpolation\n",
    "            predecessors=[\"3\"]\n",
    "        \\\"\\\"\\\")\n",
    "    extra_value=True\n",
    "    \"\"\").encode(\"utf-8\")"
   ],
   "id": "47e6927a799f3dfc",
   "outputs": [],
   "execution_count": 16
  },
  {
   "metadata": {},
   "cell_type": "markdown",
   "source": [
    "The pipeline configure has the name 'DemoPipeline', supports the program version 1.0.0 and has an additional entry with the key 'extra_value'.\n",
    "It's most import entry are the components specified by the matching key named 'components'. Components are arranged in a tree.\n",
    "The tree structure defines the order of component execution later on.\n",
    "For easier use, the components are specified through their respective ids (e.g. the BaseInputPipelineComponent has the id 'BaseInput').\n",
    "\n",
    "\n",
    "After defining the .ini file content, we write the content into a temporary file:"
   ],
   "id": "9149acb680645319"
  },
  {
   "metadata": {
    "ExecuteTime": {
     "end_time": "2025-07-05T21:27:08.162420Z",
     "start_time": "2025-07-05T21:27:08.153343Z"
    }
   },
   "cell_type": "code",
   "source": [
    "temp_dir = tempfile.TemporaryDirectory()\n",
    "temp_pipeline_configuration_file = Path(temp_dir.name + \"/pipeline_configuration.ini\")\n",
    "\n",
    "with open(temp_pipeline_configuration_file, \"wb\") as f:\n",
    "    f.write(pipeline_configuration_file_content)\n",
    "\n",
    "print(temp_dir.name)"
   ],
   "id": "a3633b63351e8ac6",
   "outputs": [
    {
     "name": "stdout",
     "output_type": "stream",
     "text": [
      "C:\\Users\\janni\\AppData\\Local\\Temp\\tmpkhx6raj2\n"
     ]
    }
   ],
   "execution_count": 17
  },
  {
   "metadata": {},
   "cell_type": "markdown",
   "source": [
    "With a .ini configuration file, we can start to read in the pipeline configuration into internal structures using the static class 'PipelineConfigurationManager'.\n",
    "The operation 'load_from_file(path: Path)' reads in a .ini file and parses the input into an instance of the dataclass 'PipelineConfigurationData'.\n",
    "Instances of this dataclass store the individual entries of a pipeline configuration .ini file as raw strings.\n",
    "In particular, the values of entries are not evaluated (i.e. 'supported_program_version=Version(\"1.0.0\")' will be stored the string \"Version(\"1.0.0\")\" and not as an instance of the type 'packaging.Version')."
   ],
   "id": "8b7bde80f9bb7574"
  },
  {
   "metadata": {
    "ExecuteTime": {
     "end_time": "2025-07-05T21:27:08.202439Z",
     "start_time": "2025-07-05T21:27:08.192199Z"
    }
   },
   "cell_type": "code",
   "source": [
    "pipeline_configuration_data: PipelineConfigurationData = PipelineConfigurationFileManager.load_from_file(temp_pipeline_configuration_file)\n",
    "\n",
    "print(pipeline_configuration_data)"
   ],
   "id": "aaebea9be69c797f",
   "outputs": [
    {
     "name": "stdout",
     "output_type": "stream",
     "text": [
      "PipelineConfigurationData(name='\"DemoPipeline\"', supported_program_version='Version(\"1.0.0\")', components='DirectionalAcyclicGraph(\"\"\"\\n0=Base Input\\n1=Equidistant Node Generator\\n    predecessors=[\"0\"]\\n2=Function Expression Input\\n    predecessors=[\"1\"]\\n3=Interpolation Values Evaluator\\n    predecessors=[\"2\"]\\n4=Newton Interpolation\\n    predecessors=[\"3\"]\\n\"\"\")', additional_values={'extra_value': 'True'})\n"
     ]
    }
   ],
   "execution_count": 18
  },
  {
   "metadata": {},
   "cell_type": "markdown",
   "source": [
    "The last missing part is the parsing of the values. This can be conveniently done by simply instantiating an instance of the class 'PipelineConfiguration' using our pipeline_configuration_data.\n",
    "Furthermore, the class 'PipelineConfiguration' will automatically check the types of all values and throw exceptions if given an entry with a key of wrong type (e.g. name is an int instead of a str)."
   ],
   "id": "1210e168ac1c5746"
  },
  {
   "metadata": {
    "ExecuteTime": {
     "end_time": "2025-07-05T21:27:08.251430Z",
     "start_time": "2025-07-05T21:27:08.245018Z"
    }
   },
   "cell_type": "code",
   "source": [
    "pipeline_configuration: PipelineConfiguration = PipelineConfiguration(pipeline_configuration_data)\n",
    "\n",
    "print(pipeline_configuration)"
   ],
   "id": "eee6245731e67af6",
   "outputs": [
    {
     "name": "stdout",
     "output_type": "stream",
     "text": [
      "PipelineConfiguration(name='DemoPipeline', supported_program_version=<Version('1.0.0')>, components=<data_structures.directed_acyclic_graph.directional_acyclic_graph.DirectionalAcyclicGraph object at 0x000001E928FAB450>, additional_values={'extra_value': True})\n"
     ]
    }
   ],
   "execution_count": 19
  },
  {
   "metadata": {},
   "cell_type": "markdown",
   "source": [
    "#### PipelineInput\n",
    "A pipeline input contains all the data used as input when executing the pipeline.\n",
    "The pipeline input works very similarly to the pipeline configuration.\n",
    "Required are the keys 'data_type' with a value of type 'type', 'node_count' with an int value and 'interpolation_interval' with a jax.numpy.ndarray of shape '(2,)' as the value."
   ],
   "id": "5e47c34c1c7580a6"
  },
  {
   "metadata": {
    "ExecuteTime": {
     "end_time": "2025-07-05T21:27:08.300509Z",
     "start_time": "2025-07-05T21:27:08.296288Z"
    }
   },
   "cell_type": "code",
   "source": [
    "pipeline_input_file_content: bytes = textwrap.dedent(\"\"\"\\\n",
    "    name=\"TestPipeline\"\n",
    "    data_type=jax.numpy.float32\n",
    "    node_count=5\n",
    "    interpolation_interval=jax.numpy.array([-1, 1])\n",
    "    function_expression=\"x**2 + 1\"\n",
    "    piecewise_function_expressions=[((0,1), 'x'), ((1,2), 'x**2')]\n",
    "    sympy_function_expression_simplification=True\n",
    "    function_callable=lambda x: x**2 + 3\n",
    "    function_values=jax.numpy.array([0.0, 1.0, 4.0, 9.0, 16.0])\n",
    "    §secret_token=\"abc123\"\n",
    "    extra_value=[1, 2, 3]\n",
    "    \"\"\").encode(\"utf-8\")"
   ],
   "id": "228cf4db09d002c",
   "outputs": [],
   "execution_count": 20
  },
  {
   "metadata": {},
   "cell_type": "markdown",
   "source": "We write the content into a temporary file:",
   "id": "a6b244bb9eaade05"
  },
  {
   "metadata": {
    "ExecuteTime": {
     "end_time": "2025-07-05T21:27:08.352027Z",
     "start_time": "2025-07-05T21:27:08.347241Z"
    }
   },
   "cell_type": "code",
   "source": [
    "temp_pipeline_input_file = Path(temp_dir.name + \"/pipeline_input.ini\")\n",
    "\n",
    "with open(temp_pipeline_input_file, \"wb\") as f:\n",
    "    f.write(pipeline_input_file_content)"
   ],
   "id": "dc60215b8daf8027",
   "outputs": [],
   "execution_count": 21
  },
  {
   "metadata": {},
   "cell_type": "markdown",
   "source": "Similiar to before, we can load the .ini file into an instance of the dataclass 'PipelineInputData' using the method 'load_from_file(path: Path)' from the static class 'PipelineInputFileManager'.",
   "id": "22f6a5d6760053e7"
  },
  {
   "metadata": {
    "ExecuteTime": {
     "end_time": "2025-07-05T21:27:08.394521Z",
     "start_time": "2025-07-05T21:27:08.386439Z"
    }
   },
   "cell_type": "code",
   "source": [
    "pipeline_input_data: PipelineInputData = PipelineInputFileManager.load_from_file(temp_pipeline_input_file)\n",
    "\n",
    "print(pipeline_input_data)"
   ],
   "id": "8d8246a8bd932372",
   "outputs": [
    {
     "name": "stdout",
     "output_type": "stream",
     "text": [
      "PipelineInputData(name='\"TestPipeline\"', data_type='jax.numpy.float32', node_count='5', interpolation_interval='jax.numpy.array([-1, 1])', function_expression='\"x**2 + 1\"', piecewise_function_expression=None, sympy_function_expression_simplification='True', function_callable='lambda x: x**2 + 3', interpolation_values=None, additional_directly_injected_values={'secret_token': '\"abc123\"'}, additional_values={'piecewise_function_expressions': \"[((0,1), 'x'), ((1,2), 'x**2')]\", 'function_values': 'jax.numpy.array([0.0, 1.0, 4.0, 9.0, 16.0])', 'extra_value': '[1, 2, 3]'})\n"
     ]
    }
   ],
   "execution_count": 22
  },
  {
   "metadata": {},
   "cell_type": "markdown",
   "source": "We parse the 'pipeline_input_data' by initializing an instance of the class 'PipelineInput':",
   "id": "777918924e7388bf"
  },
  {
   "metadata": {
    "ExecuteTime": {
     "end_time": "2025-07-05T21:27:08.457055Z",
     "start_time": "2025-07-05T21:27:08.450434Z"
    }
   },
   "cell_type": "code",
   "source": [
    "pipeline_input: PipelineInput = PipelineInput(pipeline_input_data)\n",
    "\n",
    "print(pipeline_input)"
   ],
   "id": "2f2e7926d253b513",
   "outputs": [
    {
     "name": "stdout",
     "output_type": "stream",
     "text": [
      "PipelineInput(name='TestPipeline', data_type='<class 'jax.numpy.float32'>', node_count='5', interpolation_interval='[-1  1]', function_expression='x**2 + 1', piecewise_function_expressions='None', sympy_function_expression_simplification='True', function_callable='<function <lambda> at 0x000001E90D930B80>', interpolation_values='None', additional_directly_injected_values='{'secret_token': 'abc123'}', additional_values='{'piecewise_function_expressions': [((0, 1), 'x'), ((1, 2), 'x**2')], 'function_values': Array([ 0.,  1.,  4.,  9., 16.], dtype=float32), 'extra_value': [1, 2, 3]}')\n"
     ]
    }
   ],
   "execution_count": 23
  },
  {
   "metadata": {},
   "cell_type": "markdown",
   "source": [
    "#### Pipeline building\n",
    "Using the just created 'PipelineInput' and 'PipelineConfiguration' instances, we can assemble a pipeline:"
   ],
   "id": "2c4d9c0aa0828a6a"
  },
  {
   "metadata": {
    "ExecuteTime": {
     "end_time": "2025-07-05T21:27:08.515053Z",
     "start_time": "2025-07-05T21:27:08.510521Z"
    }
   },
   "cell_type": "code",
   "source": "pipeline: Pipeline = PipelineBuilder.build(pipeline_configuration, pipeline_input)",
   "id": "da2cc100f0e0567b",
   "outputs": [],
   "execution_count": 24
  },
  {
   "metadata": {},
   "cell_type": "markdown",
   "source": [
    "#### Pipeline execution\n",
    "Instances of the class 'PipelineManager' are responsible for the execution of pipelines.\n",
    "We start of by initializing a 'PipelineManager' with our pipeline."
   ],
   "id": "e7b39e6e75b5c7c"
  },
  {
   "metadata": {
    "ExecuteTime": {
     "end_time": "2025-07-05T21:27:08.546564Z",
     "start_time": "2025-07-05T21:27:08.541610Z"
    }
   },
   "cell_type": "code",
   "source": "pipeline_manager: PipelineManager = PipelineManager(pipeline)",
   "id": "a0c919805d911a50",
   "outputs": [],
   "execution_count": 25
  },
  {
   "metadata": {},
   "cell_type": "markdown",
   "source": "After the initialization, we can execute the complete pipeline by calling 'execute_all()'.",
   "id": "6750d130768ccff7"
  },
  {
   "metadata": {
    "ExecuteTime": {
     "end_time": "2025-07-05T21:29:37.759138Z",
     "start_time": "2025-07-05T21:29:37.751607Z"
    }
   },
   "cell_type": "code",
   "source": [
    "pipeline_manager.execute_all()\n",
    "\n",
    "for report in pipeline_manager._component_execution_reports_.values():\n",
    "    print(f\"###### Report from node {report.component_instantiation_info.component_name} ({report.component_instantiation_info.component.component_id}) ######\")\n",
    "    print(report)\n",
    "    print(\"\\n\\n\")"
   ],
   "id": "f9e2f0c6856259c5",
   "outputs": [
    {
     "name": "stdout",
     "output_type": "stream",
     "text": [
      "###### Report from node 0 (base input) ######\n",
      "PipelineComponentExecutionReport(component_instantiation_info=PipelineComponentInstantiationInfo(component_name='0', component=PipelineComponentInfo(component_id='base input', component_type=<class 'pipeline_entities.components.abstracts.input_pipeline_component.InputPipelineComponent'>, component_class=<class 'pipeline_entities.components.default_components.default_input_components.base_input_pipeline_component.BaseInputPipelineComponent'>, component_meta_info=ComponentMetaInfo(attributes_modifying={'node_count', 'data_type', 'interpolation_interval'}, dynamic_constraints=[], static_constraints=[], allow_additional_value_modifications_outside_specification=True)), component_specific_arguments={}), component_output=PipelineData(data_type=<class 'jax.numpy.float32'>, node_count=5, interpolation_interval=Array([-1,  1], dtype=int32), function_callable=None, interpolation_nodes=None, interpolation_values=None, interpolant=None, additional_values={'secret_token': 'abc123'}), component_init_time=4.400033503770828e-06, component_execution_time=7.100170478224754e-06)\n",
      "\n",
      "\n",
      "\n",
      "###### Report from node 1 (equidistant node generator) ######\n",
      "PipelineComponentExecutionReport(component_instantiation_info=PipelineComponentInstantiationInfo(component_name='1', component=PipelineComponentInfo(component_id='equidistant node generator', component_type=<class 'pipeline_entities.components.abstracts.node_generator.NodeGenerator'>, component_class=<class 'pipeline_entities.components.default_components.default_node_generators.equidistant_node_generator.EquidistantNodeGenerator'>, component_meta_info=ComponentMetaInfo(attributes_modifying={'interpolation_nodes'}, dynamic_constraints=[], static_constraints=[AttributRequiredConstraint<attribute_name='data_type'>, AttributRequiredConstraint<attribute_name='node_count'>, AttributRequiredConstraint<attribute_name='interpolation_interval'>, MinPredecessorsConstraint(min_amount='1'), MaxPredecessorsConstraint(max_amount='1')], allow_additional_value_modifications_outside_specification=False)), component_specific_arguments={}), component_output=PipelineData(data_type=<class 'jax.numpy.float32'>, node_count=5, interpolation_interval=Array([-1,  1], dtype=int32), function_callable=None, interpolation_nodes=Array([-1. , -0.5,  0. ,  0.5,  1. ], dtype=float32), interpolation_values=None, interpolant=None, additional_values={'secret_token': 'abc123'}), component_init_time=0.027731699869036674, component_execution_time=0.00025049992837011814)\n",
      "\n",
      "\n",
      "\n",
      "###### Report from node 2 (function expression input) ######\n",
      "PipelineComponentExecutionReport(component_instantiation_info=PipelineComponentInstantiationInfo(component_name='2', component=PipelineComponentInfo(component_id='function expression input', component_type=<class 'pipeline_entities.components.abstracts.input_pipeline_component.InputPipelineComponent'>, component_class=<class 'pipeline_entities.components.default_components.default_input_components.function_expression_input_component.FunctionExpressionInputComponent'>, component_meta_info=ComponentMetaInfo(attributes_modifying={'function_callable'}, dynamic_constraints=[<pipeline_entities.constraints.default_constraints.default_dynamic_constraints.input_key_required_constraint.InputKeyRequiredConstraint object at 0x000001E928301A70>, <pipeline_entities.constraints.default_constraints.default_dynamic_constraints.input_key_required_constraint.InputKeyRequiredConstraint object at 0x000001E9283256D0>], static_constraints=[MinPredecessorsConstraint(min_amount='1'), MaxPredecessorsConstraint(max_amount='1')], allow_additional_value_modifications_outside_specification=False)), component_specific_arguments={}), component_output=PipelineData(data_type=<class 'jax.numpy.float32'>, node_count=5, interpolation_interval=Array([-1,  1], dtype=int32), function_callable=<function _lambdifygenerated at 0x000001E92A8A4A40>, interpolation_nodes=Array([-1. , -0.5,  0. ,  0.5,  1. ], dtype=float32), interpolation_values=None, interpolant=None, additional_values={'secret_token': 'abc123'}), component_init_time=3.8000289350748062e-06, component_execution_time=0.0018396000377833843)\n",
      "\n",
      "\n",
      "\n",
      "###### Report from node 3 (Interpolation Values Evaluator) ######\n",
      "PipelineComponentExecutionReport(component_instantiation_info=PipelineComponentInstantiationInfo(component_name='3', component=PipelineComponentInfo(component_id='Interpolation Values Evaluator', component_type=<class 'pipeline_entities.components.abstracts.evaluator_component.EvaluatorComponent'>, component_class=<class 'pipeline_entities.components.default_components.default_evaluation_components.interpolation_values_evaluator.InterpolationValuesEvaluator'>, component_meta_info=ComponentMetaInfo(attributes_modifying={'interpolation_values'}, dynamic_constraints=[], static_constraints=[AttributRequiredConstraint<attribute_name='data_type'>, AttributRequiredConstraint<attribute_name='function_callable'>, AttributRequiredConstraint<attribute_name='interpolation_nodes'>, MinPredecessorsConstraint(min_amount='1'), MaxPredecessorsConstraint(max_amount='1')], allow_additional_value_modifications_outside_specification=False)), component_specific_arguments={}), component_output=PipelineData(data_type=<class 'jax.numpy.float32'>, node_count=5, interpolation_interval=Array([-1,  1], dtype=int32), function_callable=<function _lambdifygenerated at 0x000001E92A8A4A40>, interpolation_nodes=Array([-1. , -0.5,  0. ,  0.5,  1. ], dtype=float32), interpolation_values=Array([2.  , 1.25, 1.  , 1.25, 2.  ], dtype=float32), interpolant=None, additional_values={'secret_token': 'abc123'}), component_init_time=0.01285300008021295, component_execution_time=0.00018990016542375088)\n",
      "\n",
      "\n",
      "\n",
      "###### Report from node 4 (newton interpolation) ######\n",
      "PipelineComponentExecutionReport(component_instantiation_info=PipelineComponentInstantiationInfo(component_name='4', component=PipelineComponentInfo(component_id='newton interpolation', component_type=<class 'pipeline_entities.components.abstracts.interpolation_core.InterpolationCore'>, component_class=<class 'pipeline_entities.components.default_components.default_interpolation_cores.newton_interpolation_core.EquidistantNodeGenerator'>, component_meta_info=ComponentMetaInfo(attributes_modifying={'interpolant'}, dynamic_constraints=[], static_constraints=[AttributRequiredConstraint<attribute_name='interpolation_nodes'>, AttributRequiredConstraint<attribute_name='interpolation_values'>, MinPredecessorsConstraint(min_amount='1'), MaxPredecessorsConstraint(max_amount='1')], allow_additional_value_modifications_outside_specification=False)), component_specific_arguments={}), component_output=PipelineData(data_type=<class 'jax.numpy.float32'>, node_count=5, interpolation_interval=Array([-1,  1], dtype=int32), function_callable=<function _lambdifygenerated at 0x000001E92A8A4A40>, interpolation_nodes=Array([-1. , -0.5,  0. ,  0.5,  1. ], dtype=float32), interpolation_values=Array([2.  , 1.25, 1.  , 1.25, 2.  ], dtype=float32), interpolant=NewtonInterpolant(weights=[ 2.  -1.5  1.   0.   0. ], values=[2.   1.25 1.   1.25 2.  ], nodes=[-1.  -0.5  0.   0.5  1. ]), additional_values={'secret_token': 'abc123'}), component_init_time=0.06607650010846555, component_execution_time=0.000273499870672822)\n",
      "\n",
      "\n",
      "\n"
     ]
    }
   ],
   "execution_count": 29
  }
 ],
 "metadata": {
  "kernelspec": {
   "display_name": "Python 3",
   "language": "python",
   "name": "python3"
  },
  "language_info": {
   "codemirror_mode": {
    "name": "ipython",
    "version": 2
   },
   "file_extension": ".py",
   "mimetype": "text/x-python",
   "name": "python",
   "nbconvert_exporter": "python",
   "pygments_lexer": "ipython2",
   "version": "2.7.6"
  }
 },
 "nbformat": 4,
 "nbformat_minor": 5
}
