{
 "cells": [
  {
   "metadata": {},
   "cell_type": "markdown",
   "source": [
    "# Basic use demo\n",
    "This jupyter notebook shows the basic use of the internals."
   ],
   "id": "524d3143e71b367d"
  },
  {
   "metadata": {},
   "cell_type": "markdown",
   "source": "#### Imports",
   "id": "293826e6896cdcdd"
  },
  {
   "metadata": {
    "ExecuteTime": {
     "end_time": "2025-06-24T08:37:53.133158Z",
     "start_time": "2025-06-24T08:37:52.112093Z"
    }
   },
   "cell_type": "code",
   "source": [
    "import textwrap\n",
    "import tempfile\n",
    "\n",
    "from pathlib import Path\n",
    "\n",
    "from file_handling.pipeline_input_handling.pipeline_input_file_manager import PipelineInputFileManager\n",
    "from pipeline_entities.components.dynamic_management.component_registry import ComponentRegistry\n",
    "from pipeline_entities.pipeline_configuration.dataclasses.pipeline_configuration_data import PipelineConfigurationData\n",
    "from file_handling.pipeline_configuration_handling.pipeline_configuration_file_manager import \\\n",
    "    PipelineConfigurationFileManager\n",
    "from pipeline_entities.pipeline_configuration.dataclasses.pipeline_configuration import PipelineConfiguration\n",
    "from pipeline_entities.pipeline_input.pipeline_input import PipelineInput\n",
    "from pipeline_entities.pipeline_input.pipeline_input_data import PipelineInputData\n",
    "from pipeline_entities.pipeline.pipeline import Pipeline\n",
    "from pipeline_entities.pipeline_builder.pipeline_builder import PipelineBuilder\n",
    "from pipeline_entities.pipeline_manager.pipeline_manager import PipelineManager"
   ],
   "id": "11ed479a97f7c8dc",
   "outputs": [],
   "execution_count": 1
  },
  {
   "metadata": {},
   "cell_type": "markdown",
   "source": "#### Setup",
   "id": "d9de42f75f6a03ff"
  },
  {
   "metadata": {
    "ExecuteTime": {
     "end_time": "2025-06-24T08:37:54.087600Z",
     "start_time": "2025-06-24T08:37:53.153424Z"
    }
   },
   "cell_type": "code",
   "source": "ComponentRegistry.register_default_components()",
   "id": "c1313e204310d509",
   "outputs": [],
   "execution_count": 2
  },
  {
   "metadata": {},
   "cell_type": "markdown",
   "source": [
    "#### Pipeline configuration\n",
    "A pipeline configuration defines the structure of a pipeline. Pipeline configurations are loaded from .ini files.\n",
    "We are using a temporary file to make things easier for this demo.\n",
    "The .ini content must contain the keys 'supported_program_version' with a value of the type 'packaging.Version' and 'components' with a value of the type 'Tree[str]'.\n",
    "Values can be written over multiple lines by ending a line with the known '\\\\'.\n",
    "We are using the following .ini content:"
   ],
   "id": "62bef21ca10dd36f"
  },
  {
   "metadata": {
    "ExecuteTime": {
     "end_time": "2025-06-24T08:37:54.400355Z",
     "start_time": "2025-06-24T08:37:54.396392Z"
    }
   },
   "cell_type": "code",
   "source": [
    "pipeline_configuration_file_content: bytes = textwrap.dedent(\"\"\"\\\n",
    "    name=\"DemoPipeline\"\n",
    "    supported_program_version=Version(\\\"1.0.0\\\")\n",
    "    components=Tree(\\\"\\\"\\\"\\\\\n",
    "    BaseInput\\\\\n",
    "        dummy\\\\\n",
    "    \\\"\\\"\\\")\n",
    "    extra_value=True\n",
    "    \"\"\").encode(\"utf-8\")"
   ],
   "id": "47e6927a799f3dfc",
   "outputs": [],
   "execution_count": 3
  },
  {
   "metadata": {},
   "cell_type": "markdown",
   "source": [
    "The pipeline configure has the name 'DemoPipeline', supports the program version 1.0.0 and has an additional entry with the key 'extra_value'.\n",
    "It's most import entry are the components specified by the matching key named 'components'. Components are arranged in a tree.\n",
    "The tree structure defines the order of component execution later on.\n",
    "For easier use, the components are specified through their respective ids (e.g. the BaseInputPipelineComponent has the id 'BaseInput').\n",
    "\n",
    "\n",
    "After defining the .ini file content, we write the content into a temporary file:"
   ],
   "id": "9149acb680645319"
  },
  {
   "metadata": {
    "ExecuteTime": {
     "end_time": "2025-06-24T08:37:54.445372Z",
     "start_time": "2025-06-24T08:37:54.437987Z"
    }
   },
   "cell_type": "code",
   "source": [
    "temp_dir = tempfile.TemporaryDirectory()\n",
    "temp_pipeline_configuration_file = Path(temp_dir.name + \"/pipeline_configuration.ini\")\n",
    "\n",
    "with open(temp_pipeline_configuration_file, \"wb\") as f:\n",
    "    f.write(pipeline_configuration_file_content)\n",
    "\n",
    "print(temp_dir.name)"
   ],
   "id": "a3633b63351e8ac6",
   "outputs": [
    {
     "name": "stdout",
     "output_type": "stream",
     "text": [
      "C:\\Users\\janni\\AppData\\Local\\Temp\\tmpmwvip17i\n"
     ]
    }
   ],
   "execution_count": 4
  },
  {
   "metadata": {},
   "cell_type": "markdown",
   "source": [
    "With a .ini configuration file, we can start to read in the pipeline configuration into internal structures using the static class 'PipelineConfigurationManager'.\n",
    "The operation 'load_from_file(path: Path)' reads in a .ini file and parses the input into an instance of the dataclass 'PipelineConfigurationData'.\n",
    "Instances of this dataclass store the individual entries of a pipeline configuration .ini file as raw strings.\n",
    "In particular, the values of entries are not evaluated (i.e. 'supported_program_version=Version(\"1.0.0\")' will be stored the string \"Version(\"1.0.0\")\" and not as an instance of the type 'packaging.Version')."
   ],
   "id": "8b7bde80f9bb7574"
  },
  {
   "metadata": {
    "ExecuteTime": {
     "end_time": "2025-06-24T08:37:54.719472Z",
     "start_time": "2025-06-24T08:37:54.702356Z"
    }
   },
   "cell_type": "code",
   "source": [
    "pipeline_configuration_data: PipelineConfigurationData = PipelineConfigurationFileManager.load_from_file(temp_pipeline_configuration_file)\n",
    "\n",
    "print(pipeline_configuration_data)"
   ],
   "id": "aaebea9be69c797f",
   "outputs": [
    {
     "name": "stdout",
     "output_type": "stream",
     "text": [
      "PipelineConfigurationData(name='\"DemoPipeline\"', supported_program_version='Version(\"1.0.0\")', components='Tree(\"\"\"\\nBaseInput\\n    dummy\\n\"\"\")', additional_values={'extra_value': 'True'})\n"
     ]
    }
   ],
   "execution_count": 5
  },
  {
   "metadata": {},
   "cell_type": "markdown",
   "source": [
    "The last missing part is the parsing of the values. This can be conveniently done by simply instantiating an instance of the class 'PipelineConfiguration' using our pipeline_configuration_data.\n",
    "Furthermore, the class 'PipelineConfiguration' will automatically check the types of all values and throw exceptions if given an entry with a key of wrong type (e.g. name is an int instead of a str)."
   ],
   "id": "1210e168ac1c5746"
  },
  {
   "metadata": {
    "ExecuteTime": {
     "end_time": "2025-06-24T08:37:54.825477Z",
     "start_time": "2025-06-24T08:37:54.818973Z"
    }
   },
   "cell_type": "code",
   "source": [
    "pipeline_configuration: PipelineConfiguration = PipelineConfiguration(pipeline_configuration_data)\n",
    "\n",
    "print(pipeline_configuration)"
   ],
   "id": "eee6245731e67af6",
   "outputs": [
    {
     "name": "stdout",
     "output_type": "stream",
     "text": [
      "PipelineConfiguration(name='DemoPipeline', supported_program_version=<Version('1.0.0')>, components=Tree(root_node=TreeNode(value=PipelineComponentInfo(component_id='BaseInput', component_type=<class 'pipeline_entities.components.abstracts.input_pipeline_component.InputPipelineComponent'>, component_class=<class 'pipeline_entities.components.default_components.default_input_components.base_input_pipeline_component.BaseInputPipelineComponent'>, component_meta_info=ComponentMetaInfo(attributes_modifying={'node_count', 'data_type', 'interpolation_interval'}, dynamic_constraints=[], static_constraints=[], mixed_constraints=[])), child_nodes=[TreeNode(value=PipelineComponentInfo(component_id='dummy', component_type=<class 'pipeline_entities.components.abstracts.pipeline_component.PipelineComponent'>, component_class=<class 'pipeline_entities.components.default_components.default_test_components.dummy_pipeline_component.DummyPipelineComponent'>, component_meta_info=ComponentMetaInfo(attributes_modifying=set(), dynamic_constraints=[], static_constraints=[], mixed_constraints=[])), child_nodes=[])])), additional_values={'extra_value': True})\n"
     ]
    }
   ],
   "execution_count": 6
  },
  {
   "metadata": {},
   "cell_type": "markdown",
   "source": [
    "#### PipelineInput\n",
    "A pipeline input contains all the data used as input when executing the pipeline.\n",
    "The pipeline input works very similarly to the pipeline configuration.\n",
    "Required are the keys 'data_type' with a value of type 'type', 'node_count' with an int value and 'interpolation_interval' with a jax.numpy.ndarray of shape '(2,)' as the value."
   ],
   "id": "5e47c34c1c7580a6"
  },
  {
   "metadata": {
    "ExecuteTime": {
     "end_time": "2025-06-24T08:37:54.933097Z",
     "start_time": "2025-06-24T08:37:54.927851Z"
    }
   },
   "cell_type": "code",
   "source": [
    "pipeline_input_file_content: bytes = textwrap.dedent(\"\"\"\\\n",
    "    name=\"TestPipeline\"\n",
    "    data_type=jax.numpy.float32\n",
    "    node_count=5\n",
    "    interpolation_interval=jax.numpy.array([-1, 1])\n",
    "    single_function_expression=\"x**2 + 1\"\n",
    "    multiple_function_expressions=[((0,1), 'x'), ((1,2), 'x**2')]\n",
    "    sympy_function_expression_simplification=True\n",
    "    function_callable=lambda x: x**2 + 3\n",
    "    function_values=jax.numpy.array([0.0, 1.0, 4.0, 9.0, 16.0])\n",
    "    §secret_token=\"abc123\"\n",
    "    extra_value=[1, 2, 3]\n",
    "    \"\"\").encode(\"utf-8\")"
   ],
   "id": "228cf4db09d002c",
   "outputs": [],
   "execution_count": 7
  },
  {
   "metadata": {},
   "cell_type": "markdown",
   "source": "We write the content into a temporary file:",
   "id": "a6b244bb9eaade05"
  },
  {
   "metadata": {
    "ExecuteTime": {
     "end_time": "2025-06-24T08:37:54.996325Z",
     "start_time": "2025-06-24T08:37:54.987325Z"
    }
   },
   "cell_type": "code",
   "source": [
    "temp_pipeline_input_file = Path(temp_dir.name + \"/pipeline_input.ini\")\n",
    "\n",
    "with open(temp_pipeline_input_file, \"wb\") as f:\n",
    "    f.write(pipeline_input_file_content)"
   ],
   "id": "dc60215b8daf8027",
   "outputs": [],
   "execution_count": 8
  },
  {
   "metadata": {},
   "cell_type": "markdown",
   "source": "Similiar to before, we can load the .ini file into an instance of the dataclass 'PipelineInputData' using the method 'load_from_file(path: Path)' from the static class 'PipelineInputFileManager'.",
   "id": "22f6a5d6760053e7"
  },
  {
   "metadata": {
    "ExecuteTime": {
     "end_time": "2025-06-24T08:37:55.049523Z",
     "start_time": "2025-06-24T08:37:55.041539Z"
    }
   },
   "cell_type": "code",
   "source": [
    "pipeline_input_data: PipelineInputData = PipelineInputFileManager.load_from_file(temp_pipeline_input_file)\n",
    "\n",
    "print(pipeline_input_data)"
   ],
   "id": "8d8246a8bd932372",
   "outputs": [
    {
     "name": "stdout",
     "output_type": "stream",
     "text": [
      "PipelineInputData(name='\"TestPipeline\"', data_type='jax.numpy.float32', node_count='5', interpolation_interval='jax.numpy.array([-1, 1])', single_function_expression='\"x**2 + 1\"', multiple_function_expressions=\"[((0,1), 'x'), ((1,2), 'x**2')]\", sympy_function_expression_simplification='True', function_callable='lambda x: x**2 + 3', function_values='jax.numpy.array([0.0, 1.0, 4.0, 9.0, 16.0])', additional_directly_injected_values={'secret_token': '\"abc123\"'}, additional_values={'extra_value': '[1, 2, 3]'})\n"
     ]
    }
   ],
   "execution_count": 9
  },
  {
   "metadata": {},
   "cell_type": "markdown",
   "source": "We parse the 'pipeline_input_data' by initializing an instance of the class 'PipelineInput':",
   "id": "777918924e7388bf"
  },
  {
   "metadata": {
    "ExecuteTime": {
     "end_time": "2025-06-24T08:37:55.433522Z",
     "start_time": "2025-06-24T08:37:55.141200Z"
    }
   },
   "cell_type": "code",
   "source": [
    "pipeline_input: PipelineInput = PipelineInput(pipeline_input_data)\n",
    "\n",
    "print(pipeline_input)"
   ],
   "id": "2f2e7926d253b513",
   "outputs": [
    {
     "name": "stdout",
     "output_type": "stream",
     "text": [
      "PipelineInput(name='TestPipeline', data_type='<class 'jax.numpy.float32'>', node_count='5', interpolation_interval='[-1  1]', single_function_expression='x**2 + 1', multiple_function_expressions='[((0, 1), 'x'), ((1, 2), 'x**2')]', sympy_function_expression_simplification='True', function_callable='<function <lambda> at 0x00000260F7015800>', function_values='[ 0.  1.  4.  9. 16.]', additional_directly_injected_values='{'secret_token': 'abc123'}', additional_values='{'extra_value': [1, 2, 3]}')\n"
     ]
    }
   ],
   "execution_count": 10
  },
  {
   "metadata": {},
   "cell_type": "markdown",
   "source": [
    "#### Pipeline building\n",
    "Using the just created 'PipelineInput' and 'PipelineConfiguration' instances, we can assemble a pipeline:"
   ],
   "id": "2c4d9c0aa0828a6a"
  },
  {
   "metadata": {
    "ExecuteTime": {
     "end_time": "2025-06-24T08:37:55.459032Z",
     "start_time": "2025-06-24T08:37:55.454330Z"
    }
   },
   "cell_type": "code",
   "source": "pipeline: Pipeline = PipelineBuilder.build(pipeline_configuration, pipeline_input)",
   "id": "da2cc100f0e0567b",
   "outputs": [],
   "execution_count": 11
  },
  {
   "metadata": {},
   "cell_type": "markdown",
   "source": [
    "#### Pipeline execution\n",
    "Instances of the class 'PipelineManager' are responsible for the execution of pipelines.\n",
    "We start of by initializing a 'PipelineManager' with our pipeline."
   ],
   "id": "e7b39e6e75b5c7c"
  },
  {
   "metadata": {
    "ExecuteTime": {
     "end_time": "2025-06-24T08:37:55.497056Z",
     "start_time": "2025-06-24T08:37:55.492796Z"
    }
   },
   "cell_type": "code",
   "source": "pipeline_manager: PipelineManager = PipelineManager(pipeline)",
   "id": "a0c919805d911a50",
   "outputs": [],
   "execution_count": 12
  },
  {
   "metadata": {},
   "cell_type": "markdown",
   "source": "After the initialization, we can execute the complete pipeline by calling 'execute_all()'.",
   "id": "6750d130768ccff7"
  },
  {
   "metadata": {
    "ExecuteTime": {
     "end_time": "2025-06-24T08:37:55.572126Z",
     "start_time": "2025-06-24T08:37:55.548834Z"
    }
   },
   "cell_type": "code",
   "source": [
    "pipeline_manager.execute_all()\n",
    "\n",
    "# TODO: change\n",
    "print(pipeline_manager._pipeline_data_dict_[\"/0/\"])"
   ],
   "id": "b771c0537594d39c",
   "outputs": [
    {
     "name": "stdout",
     "output_type": "stream",
     "text": [
      "PipelineData(data_type=<class 'jax.numpy.float32'>, node_count=5, interpolation_interval=Array([-1,  1], dtype=int32), function_values=None, nodes=None, additional_values={'secret_token': 'abc123'})\n"
     ]
    }
   ],
   "execution_count": 13
  }
 ],
 "metadata": {
  "kernelspec": {
   "display_name": "Python 3",
   "language": "python",
   "name": "python3"
  },
  "language_info": {
   "codemirror_mode": {
    "name": "ipython",
    "version": 2
   },
   "file_extension": ".py",
   "mimetype": "text/x-python",
   "name": "python",
   "nbconvert_exporter": "python",
   "pygments_lexer": "ipython2",
   "version": "2.7.6"
  }
 },
 "nbformat": 4,
 "nbformat_minor": 5
}
