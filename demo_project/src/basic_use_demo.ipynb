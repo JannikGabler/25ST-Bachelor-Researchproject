{
 "cells": [
  {
   "metadata": {},
   "cell_type": "markdown",
   "source": [
    "# Basic use demo\n",
    "This jupyter notebook shows the basic use of the internals."
   ],
   "id": "524d3143e71b367d"
  },
  {
   "metadata": {},
   "cell_type": "markdown",
   "source": "#### Imports",
   "id": "293826e6896cdcdd"
  },
  {
   "metadata": {
    "ExecuteTime": {
     "end_time": "2025-07-06T14:30:49.039589Z",
     "start_time": "2025-07-06T14:30:48.399568Z"
    }
   },
   "cell_type": "code",
   "source": [
    "import textwrap\n",
    "import tempfile\n",
    "\n",
    "from pathlib import Path\n",
    "\n",
    "from file_handling.pipeline_input_handling.pipeline_input_file_manager import PipelineInputFileManager\n",
    "from pipeline_entities.pipeline_configuration.dataclasses.pipeline_configuration_data import PipelineConfigurationData\n",
    "from file_handling.pipeline_configuration_handling.pipeline_configuration_file_manager import \\\n",
    "    PipelineConfigurationFileManager\n",
    "from pipeline_entities.pipeline_configuration.dataclasses.pipeline_configuration import PipelineConfiguration\n",
    "from pipeline_entities.pipeline_input.pipeline_input import PipelineInput\n",
    "from pipeline_entities.pipeline_input.pipeline_input_data import PipelineInputData\n",
    "from pipeline_entities.pipeline.pipeline import Pipeline\n",
    "from pipeline_entities.pipeline_builder.pipeline_builder import PipelineBuilder\n",
    "from pipeline_entities.pipeline_manager.pipeline_manager import PipelineManager\n",
    "from setup_manager.internal_logic_setup_manager import InternalLogicSetupManager"
   ],
   "id": "11ed479a97f7c8dc",
   "outputs": [],
   "execution_count": 1
  },
  {
   "metadata": {},
   "cell_type": "markdown",
   "source": "#### Setup",
   "id": "d9de42f75f6a03ff"
  },
  {
   "metadata": {
    "ExecuteTime": {
     "end_time": "2025-07-06T14:30:49.822478Z",
     "start_time": "2025-07-06T14:30:49.039589Z"
    }
   },
   "cell_type": "code",
   "source": "InternalLogicSetupManager.setup()",
   "id": "c1313e204310d509",
   "outputs": [],
   "execution_count": 2
  },
  {
   "metadata": {},
   "cell_type": "markdown",
   "source": [
    "#### Pipeline configuration\n",
    "A pipeline configuration defines the structure of a pipeline. Pipeline configurations are loaded from .ini files.\n",
    "We are using a temporary file to make things easier for this demo.\n",
    "The .ini content must contain the keys 'supported_program_version' with a value of the type 'packaging.Version' and 'components' with a value of the type 'Tree[str]'.\n",
    "Values can be written over multiple lines by ending a line with the known '\\\\'.\n",
    "We are using the following .ini content:"
   ],
   "id": "62bef21ca10dd36f"
  },
  {
   "metadata": {
    "ExecuteTime": {
     "end_time": "2025-07-06T14:30:50.012985Z",
     "start_time": "2025-07-06T14:30:50.007286Z"
    }
   },
   "cell_type": "code",
   "source": [
    "pipeline_configuration_file_content: bytes = textwrap.dedent(\"\"\"\\\n",
    "    name=\"DemoPipeline\"\n",
    "    supported_program_version=Version(\\\"1.0.0\\\")\n",
    "    components=DirectionalAcyclicGraph(\\\"\\\"\\\"\n",
    "        0=Base Input\n",
    "        1=Equidistant Node Generator\n",
    "            predecessors=[\"0\"]\n",
    "        2=Function Expression Input\n",
    "            predecessors=[\"1\"]\n",
    "        3=Interpolation Values Evaluator\n",
    "            predecessors=[\"2\"]\n",
    "        4=Newton Interpolation\n",
    "            predecessors=[\"3\"]\n",
    "        5=Barycentric1 Interpolation\n",
    "            predecessors=[\"3\"]\n",
    "        6=Barycentric2 Interpolation\n",
    "            predecessors=[\"3\"]\n",
    "        7=Interpolant Plotter\n",
    "            predecessors=[\"4\",\"5\",\"6\"]\n",
    "        \\\"\\\"\\\")\n",
    "    extra_value=True\n",
    "    \"\"\").encode(\"utf-8\")"
   ],
   "id": "47e6927a799f3dfc",
   "outputs": [],
   "execution_count": 3
  },
  {
   "metadata": {},
   "cell_type": "markdown",
   "source": [
    "The pipeline configure has the name 'DemoPipeline', supports the program version 1.0.0 and has an additional entry with the key 'extra_value'.\n",
    "It's most import entry are the components specified by the matching key named 'components'. Components are arranged in a tree.\n",
    "The tree structure defines the order of component execution later on.\n",
    "For easier use, the components are specified through their respective ids (e.g. the BaseInputPipelineComponent has the id 'BaseInput').\n",
    "\n",
    "\n",
    "After defining the .ini file content, we write the content into a temporary file:"
   ],
   "id": "9149acb680645319"
  },
  {
   "metadata": {
    "ExecuteTime": {
     "end_time": "2025-07-06T14:30:50.032849Z",
     "start_time": "2025-07-06T14:30:50.025028Z"
    }
   },
   "cell_type": "code",
   "source": [
    "temp_dir = tempfile.TemporaryDirectory()\n",
    "temp_pipeline_configuration_file = Path(temp_dir.name + \"/pipeline_configuration.ini\")\n",
    "\n",
    "with open(temp_pipeline_configuration_file, \"wb\") as f:\n",
    "    f.write(pipeline_configuration_file_content)\n",
    "\n",
    "print(temp_dir.name)"
   ],
   "id": "a3633b63351e8ac6",
   "outputs": [
    {
     "name": "stdout",
     "output_type": "stream",
     "text": [
      "C:\\Users\\49157\\AppData\\Local\\Temp\\tmpqf_z4ww4\n"
     ]
    }
   ],
   "execution_count": 4
  },
  {
   "metadata": {},
   "cell_type": "markdown",
   "source": [
    "With a .ini configuration file, we can start to read in the pipeline configuration into internal structures using the static class 'PipelineConfigurationManager'.\n",
    "The operation 'load_from_file(path: Path)' reads in a .ini file and parses the input into an instance of the dataclass 'PipelineConfigurationData'.\n",
    "Instances of this dataclass store the individual entries of a pipeline configuration .ini file as raw strings.\n",
    "In particular, the values of entries are not evaluated (i.e. 'supported_program_version=Version(\"1.0.0\")' will be stored the string \"Version(\"1.0.0\")\" and not as an instance of the type 'packaging.Version')."
   ],
   "id": "8b7bde80f9bb7574"
  },
  {
   "metadata": {
    "ExecuteTime": {
     "end_time": "2025-07-06T14:30:50.048551Z",
     "start_time": "2025-07-06T14:30:50.040476Z"
    }
   },
   "cell_type": "code",
   "source": [
    "pipeline_configuration_data: PipelineConfigurationData = PipelineConfigurationFileManager.load_from_file(temp_pipeline_configuration_file)\n",
    "\n",
    "print(pipeline_configuration_data)"
   ],
   "id": "aaebea9be69c797f",
   "outputs": [
    {
     "name": "stdout",
     "output_type": "stream",
     "text": [
      "PipelineConfigurationData(name='\"DemoPipeline\"', supported_program_version='Version(\"1.0.0\")', components='DirectionalAcyclicGraph(\"\"\"\\n0=Base Input\\n1=Equidistant Node Generator\\n    predecessors=[\"0\"]\\n2=Function Expression Input\\n    predecessors=[\"1\"]\\n3=Interpolation Values Evaluator\\n    predecessors=[\"2\"]\\n4=Newton Interpolation\\n    predecessors=[\"3\"]\\n5=Barycentric1 Interpolation\\n    predecessors=[\"3\"]\\n6=Barycentric2 Interpolation\\n    predecessors=[\"3\"]\\n7=Interpolant Plotter\\n    predecessors=[\"4\",\"5\",\"6\"]\\n\"\"\")', additional_values={'extra_value': 'True'})\n"
     ]
    }
   ],
   "execution_count": 5
  },
  {
   "metadata": {},
   "cell_type": "markdown",
   "source": [
    "The last missing part is the parsing of the values. This can be conveniently done by simply instantiating an instance of the class 'PipelineConfiguration' using our pipeline_configuration_data.\n",
    "Furthermore, the class 'PipelineConfiguration' will automatically check the types of all values and throw exceptions if given an entry with a key of wrong type (e.g. name is an int instead of a str)."
   ],
   "id": "1210e168ac1c5746"
  },
  {
   "metadata": {
    "ExecuteTime": {
     "end_time": "2025-07-06T14:30:50.070399Z",
     "start_time": "2025-07-06T14:30:50.064235Z"
    }
   },
   "cell_type": "code",
   "source": [
    "pipeline_configuration: PipelineConfiguration = PipelineConfiguration(pipeline_configuration_data)\n",
    "\n",
    "print(pipeline_configuration)"
   ],
   "id": "eee6245731e67af6",
   "outputs": [
    {
     "name": "stdout",
     "output_type": "stream",
     "text": [
      "PipelineConfiguration(name='DemoPipeline', supported_program_version=<Version('1.0.0')>, components=<data_structures.directed_acyclic_graph.directional_acyclic_graph.DirectionalAcyclicGraph object at 0x000001EB0711F410>, additional_values={'extra_value': True})\n"
     ]
    }
   ],
   "execution_count": 6
  },
  {
   "metadata": {},
   "cell_type": "markdown",
   "source": [
    "#### PipelineInput\n",
    "A pipeline input contains all the data used as input when executing the pipeline.\n",
    "The pipeline input works very similarly to the pipeline configuration.\n",
    "Required are the keys 'data_type' with a value of type 'type', 'node_count' with an int value and 'interpolation_interval' with a jax.numpy.ndarray of shape '(2,)' as the value."
   ],
   "id": "5e47c34c1c7580a6"
  },
  {
   "metadata": {
    "ExecuteTime": {
     "end_time": "2025-07-06T14:30:50.079004Z",
     "start_time": "2025-07-06T14:30:50.074224Z"
    }
   },
   "cell_type": "code",
   "source": [
    "pipeline_input_file_content: bytes = textwrap.dedent(\"\"\"\\\n",
    "    name=\"TestPipeline\"\n",
    "    data_type=jax.numpy.float32\n",
    "    node_count=37\n",
    "    interpolation_interval=jax.numpy.array([-1, 1])\n",
    "    function_expression=\"sin(10*x)\"\n",
    "    piecewise_function_expressions=[((0,1), 'x'), ((1,2), 'x**2')]\n",
    "    sympy_function_expression_simplification=True\n",
    "    function_callable=lambda x: x**2 + 3\n",
    "    function_values=jax.numpy.array([0.0, 1.0, 4.0, 9.0, 16.0])\n",
    "    §secret_token=\"abc123\"\n",
    "    extra_value=[1, 2, 3]\n",
    "    \"\"\").encode(\"utf-8\")"
   ],
   "id": "228cf4db09d002c",
   "outputs": [],
   "execution_count": 7
  },
  {
   "metadata": {},
   "cell_type": "markdown",
   "source": "We write the content into a temporary file:",
   "id": "a6b244bb9eaade05"
  },
  {
   "metadata": {
    "ExecuteTime": {
     "end_time": "2025-07-06T14:30:50.099620Z",
     "start_time": "2025-07-06T14:30:50.092354Z"
    }
   },
   "cell_type": "code",
   "source": [
    "temp_pipeline_input_file = Path(temp_dir.name + \"/pipeline_input.ini\")\n",
    "\n",
    "with open(temp_pipeline_input_file, \"wb\") as f:\n",
    "    f.write(pipeline_input_file_content)"
   ],
   "id": "dc60215b8daf8027",
   "outputs": [],
   "execution_count": 8
  },
  {
   "metadata": {},
   "cell_type": "markdown",
   "source": "Similiar to before, we can load the .ini file into an instance of the dataclass 'PipelineInputData' using the method 'load_from_file(path: Path)' from the static class 'PipelineInputFileManager'.",
   "id": "22f6a5d6760053e7"
  },
  {
   "metadata": {
    "ExecuteTime": {
     "end_time": "2025-07-06T14:30:50.110159Z",
     "start_time": "2025-07-06T14:30:50.099620Z"
    }
   },
   "cell_type": "code",
   "source": [
    "pipeline_input_data: PipelineInputData = PipelineInputFileManager.load_from_file(temp_pipeline_input_file)\n",
    "\n",
    "print(pipeline_input_data)"
   ],
   "id": "8d8246a8bd932372",
   "outputs": [
    {
     "name": "stdout",
     "output_type": "stream",
     "text": [
      "PipelineInputData(name='\"TestPipeline\"', data_type='jax.numpy.float32', node_count='37', interpolation_interval='jax.numpy.array([-1, 1])', function_expression='\"sin(10*x)\"', piecewise_function_expression=None, sympy_function_expression_simplification='True', function_callable='lambda x: x**2 + 3', interpolation_values=None, additional_directly_injected_values={'secret_token': '\"abc123\"'}, additional_values={'piecewise_function_expressions': \"[((0,1), 'x'), ((1,2), 'x**2')]\", 'function_values': 'jax.numpy.array([0.0, 1.0, 4.0, 9.0, 16.0])', 'extra_value': '[1, 2, 3]'})\n"
     ]
    }
   ],
   "execution_count": 9
  },
  {
   "metadata": {},
   "cell_type": "markdown",
   "source": "We parse the 'pipeline_input_data' by initializing an instance of the class 'PipelineInput':",
   "id": "777918924e7388bf"
  },
  {
   "metadata": {
    "ExecuteTime": {
     "end_time": "2025-07-06T14:30:50.176019Z",
     "start_time": "2025-07-06T14:30:50.117440Z"
    }
   },
   "cell_type": "code",
   "source": [
    "pipeline_input: PipelineInput = PipelineInput(pipeline_input_data)\n",
    "\n",
    "print(pipeline_input)"
   ],
   "id": "2f2e7926d253b513",
   "outputs": [
    {
     "name": "stdout",
     "output_type": "stream",
     "text": [
      "PipelineInput(name='TestPipeline', data_type='<class 'jax.numpy.float32'>', node_count='37', interpolation_interval='[-1  1]', function_expression='sin(10*x)', piecewise_function_expressions='None', sympy_function_expression_simplification='True', function_callable='<function <lambda> at 0x000001EB07105300>', interpolation_values='None', additional_directly_injected_values='{'secret_token': 'abc123'}', additional_values='{'piecewise_function_expressions': [((0, 1), 'x'), ((1, 2), 'x**2')], 'function_values': Array([ 0.,  1.,  4.,  9., 16.], dtype=float32), 'extra_value': [1, 2, 3]}')\n"
     ]
    }
   ],
   "execution_count": 10
  },
  {
   "metadata": {},
   "cell_type": "markdown",
   "source": [
    "#### Pipeline building\n",
    "Using the just created 'PipelineInput' and 'PipelineConfiguration' instances, we can assemble a pipeline:"
   ],
   "id": "2c4d9c0aa0828a6a"
  },
  {
   "metadata": {
    "ExecuteTime": {
     "end_time": "2025-07-06T14:30:50.187400Z",
     "start_time": "2025-07-06T14:30:50.182672Z"
    }
   },
   "cell_type": "code",
   "source": "pipeline: Pipeline = PipelineBuilder.build(pipeline_configuration, pipeline_input)",
   "id": "da2cc100f0e0567b",
   "outputs": [],
   "execution_count": 11
  },
  {
   "metadata": {},
   "cell_type": "markdown",
   "source": [
    "#### Pipeline execution\n",
    "Instances of the class 'PipelineManager' are responsible for the execution of pipelines.\n",
    "We start of by initializing a 'PipelineManager' with our pipeline."
   ],
   "id": "e7b39e6e75b5c7c"
  },
  {
   "metadata": {
    "ExecuteTime": {
     "end_time": "2025-07-06T14:30:50.199635Z",
     "start_time": "2025-07-06T14:30:50.194565Z"
    }
   },
   "cell_type": "code",
   "source": "pipeline_manager: PipelineManager = PipelineManager(pipeline)",
   "id": "a0c919805d911a50",
   "outputs": [],
   "execution_count": 12
  },
  {
   "metadata": {},
   "cell_type": "markdown",
   "source": "After the initialization, we can execute the complete pipeline by calling 'execute_all()'.",
   "id": "6750d130768ccff7"
  },
  {
   "metadata": {
    "ExecuteTime": {
     "end_time": "2025-07-06T14:30:51.126094Z",
     "start_time": "2025-07-06T14:30:50.209110Z"
    }
   },
   "cell_type": "code",
   "source": [
    "pipeline_manager.execute_all()\n",
    "\n",
    "for report in pipeline_manager._component_execution_reports_.values():\n",
    "    print(f\"###### Report from node {report.component_instantiation_info.component_name} ({report.component_instantiation_info.component.component_id}) ######\")\n",
    "    print(report)\n",
    "    print(\"\\n\\n\")"
   ],
   "id": "f9e2f0c6856259c5",
   "outputs": [
    {
     "data": {
      "text/plain": [
       "<Figure size 1000x600 with 1 Axes>"
      ],
      "image/png": "[encoded data removed]"
     },
     "metadata": {},
     "output_type": "display_data"
    },
    {
     "name": "stdout",
     "output_type": "stream",
     "text": [
      "###### Report from node 0 (base input) ######\n",
      "PipelineComponentExecutionReport(component_instantiation_info=PipelineComponentInstantiationInfo(component_name='0', component=PipelineComponentInfo(component_id='base input', component_type=<class 'pipeline_entities.components.abstracts.input_pipeline_component.InputPipelineComponent'>, component_class=<class 'pipeline_entities.components.default_components.default_input_components.base_input_pipeline_component.BaseInputPipelineComponent'>, component_meta_info=ComponentMetaInfo(attributes_modifying={'interpolation_interval', 'node_count', 'data_type'}, dynamic_constraints=[], static_constraints=[], allow_additional_value_modifications_outside_specification=True)), component_specific_arguments={}), component_output=PipelineData(data_type=<class 'jax.numpy.float32'>, node_count=37, interpolation_interval=Array([-1,  1], dtype=int32), function_callable=None, interpolation_nodes=None, interpolation_values=None, interpolant=None, additional_values={'secret_token': 'abc123'}), component_init_time=2.300017513334751e-06, component_execution_time=4.299916326999664e-06)\n",
      "\n",
      "\n",
      "\n",
      "###### Report from node 1 (equidistant node generator) ######\n",
      "PipelineComponentExecutionReport(component_instantiation_info=PipelineComponentInstantiationInfo(component_name='1', component=PipelineComponentInfo(component_id='equidistant node generator', component_type=<class 'pipeline_entities.components.abstracts.node_generator.NodeGenerator'>, component_class=<class 'pipeline_entities.components.default_components.default_node_generators.equidistant_node_generator.EquidistantNodeGenerator'>, component_meta_info=ComponentMetaInfo(attributes_modifying={'interpolation_nodes'}, dynamic_constraints=[], static_constraints=[AttributRequiredConstraint<attribute_name='data_type'>, AttributRequiredConstraint<attribute_name='node_count'>, AttributRequiredConstraint<attribute_name='interpolation_interval'>, MinPredecessorsConstraint(min_amount='1'), MaxPredecessorsConstraint(max_amount='1')], allow_additional_value_modifications_outside_specification=False)), component_specific_arguments={}), component_output=PipelineData(data_type=<class 'jax.numpy.float32'>, node_count=37, interpolation_interval=Array([-1,  1], dtype=int32), function_callable=None, interpolation_nodes=Array([-1.        , -0.9444444 , -0.88888884, -0.8333334 , -0.7777778 ,\n",
      "       -0.7222222 , -0.6666666 , -0.61111116, -0.5555556 , -0.5       ,\n",
      "       -0.44444442, -0.38888887, -0.33333328, -0.2777778 , -0.22222221,\n",
      "       -0.16666672, -0.11111113, -0.05555555,  0.        ,  0.05555558,\n",
      "        0.11111116,  0.16666663,  0.22222221,  0.2777778 ,  0.33333337,\n",
      "        0.38888896,  0.44444442,  0.5       ,  0.5555556 ,  0.61111116,\n",
      "        0.6666666 ,  0.7222222 ,  0.7777778 ,  0.8333334 ,  0.88888896,\n",
      "        0.9444444 ,  1.        ], dtype=float32), interpolation_values=None, interpolant=None, additional_values={'secret_token': 'abc123'}), component_init_time=0.029460599995218217, component_execution_time=0.0001772999530658126)\n",
      "\n",
      "\n",
      "\n",
      "###### Report from node 2 (function expression input) ######\n",
      "PipelineComponentExecutionReport(component_instantiation_info=PipelineComponentInstantiationInfo(component_name='2', component=PipelineComponentInfo(component_id='function expression input', component_type=<class 'pipeline_entities.components.abstracts.input_pipeline_component.InputPipelineComponent'>, component_class=<class 'pipeline_entities.components.default_components.default_input_components.function_expression_input_component.FunctionExpressionInputComponent'>, component_meta_info=ComponentMetaInfo(attributes_modifying={'function_callable'}, dynamic_constraints=[<pipeline_entities.constraints.default_constraints.default_dynamic_constraints.input_key_required_constraint.InputKeyRequiredConstraint object at 0x000001EB05189A90>, <pipeline_entities.constraints.default_constraints.default_dynamic_constraints.input_key_required_constraint.InputKeyRequiredConstraint object at 0x000001EB05189AD0>], static_constraints=[MinPredecessorsConstraint(min_amount='1'), MaxPredecessorsConstraint(max_amount='1')], allow_additional_value_modifications_outside_specification=False)), component_specific_arguments={}), component_output=PipelineData(data_type=<class 'jax.numpy.float32'>, node_count=37, interpolation_interval=Array([-1,  1], dtype=int32), function_callable=<function _lambdifygenerated at 0x000001EB0757A480>, interpolation_nodes=Array([-1.        , -0.9444444 , -0.88888884, -0.8333334 , -0.7777778 ,\n",
      "       -0.7222222 , -0.6666666 , -0.61111116, -0.5555556 , -0.5       ,\n",
      "       -0.44444442, -0.38888887, -0.33333328, -0.2777778 , -0.22222221,\n",
      "       -0.16666672, -0.11111113, -0.05555555,  0.        ,  0.05555558,\n",
      "        0.11111116,  0.16666663,  0.22222221,  0.2777778 ,  0.33333337,\n",
      "        0.38888896,  0.44444442,  0.5       ,  0.5555556 ,  0.61111116,\n",
      "        0.6666666 ,  0.7222222 ,  0.7777778 ,  0.8333334 ,  0.88888896,\n",
      "        0.9444444 ,  1.        ], dtype=float32), interpolation_values=None, interpolant=None, additional_values={'secret_token': 'abc123'}), component_init_time=2.400018274784088e-06, component_execution_time=0.010841500014066696)\n",
      "\n",
      "\n",
      "\n",
      "###### Report from node 3 (Interpolation Values Evaluator) ######\n",
      "PipelineComponentExecutionReport(component_instantiation_info=PipelineComponentInstantiationInfo(component_name='3', component=PipelineComponentInfo(component_id='Interpolation Values Evaluator', component_type=<class 'pipeline_entities.components.abstracts.evaluator_component.EvaluatorComponent'>, component_class=<class 'pipeline_entities.components.default_components.default_evaluation_components.interpolation_values_evaluator.InterpolationValuesEvaluator'>, component_meta_info=ComponentMetaInfo(attributes_modifying={'interpolation_values'}, dynamic_constraints=[], static_constraints=[AttributRequiredConstraint<attribute_name='data_type'>, AttributRequiredConstraint<attribute_name='function_callable'>, AttributRequiredConstraint<attribute_name='interpolation_nodes'>, MinPredecessorsConstraint(min_amount='1'), MaxPredecessorsConstraint(max_amount='1')], allow_additional_value_modifications_outside_specification=False)), component_specific_arguments={}), component_output=PipelineData(data_type=<class 'jax.numpy.float32'>, node_count=37, interpolation_interval=Array([-1,  1], dtype=int32), function_callable=<function _lambdifygenerated at 0x000001EB0757A480>, interpolation_nodes=Array([-1.        , -0.9444444 , -0.88888884, -0.8333334 , -0.7777778 ,\n",
      "       -0.7222222 , -0.6666666 , -0.61111116, -0.5555556 , -0.5       ,\n",
      "       -0.44444442, -0.38888887, -0.33333328, -0.2777778 , -0.22222221,\n",
      "       -0.16666672, -0.11111113, -0.05555555,  0.        ,  0.05555558,\n",
      "        0.11111116,  0.16666663,  0.22222221,  0.2777778 ,  0.33333337,\n",
      "        0.38888896,  0.44444442,  0.5       ,  0.5555556 ,  0.61111116,\n",
      "        0.6666666 ,  0.7222222 ,  0.7777778 ,  0.8333334 ,  0.88888896,\n",
      "        0.9444444 ,  1.        ], dtype=float32), interpolation_values=Array([ 0.5440211 ,  0.01966543, -0.5106061 , -0.8872938 , -0.9970979 ,\n",
      "       -0.8069898 , -0.37415063,  0.17122576,  0.6651013 ,  0.9589243 ,\n",
      "        0.964317  ,  0.67965776,  0.19056742, -0.35584188, -0.79522014,\n",
      "       -0.9954079 , -0.8961923 , -0.52741534,  0.        ,  0.52741563,\n",
      "        0.89619243,  0.995408  ,  0.79522014,  0.35584188, -0.19056836,\n",
      "       -0.6796584 , -0.964317  , -0.9589243 , -0.6651013 , -0.17122576,\n",
      "        0.37415063,  0.8069898 ,  0.9970979 ,  0.8872938 ,  0.51060534,\n",
      "       -0.01966543, -0.5440211 ], dtype=float32), interpolant=None, additional_values={'secret_token': 'abc123'}), component_init_time=0.010358400060795248, component_execution_time=0.0001601999392732978)\n",
      "\n",
      "\n",
      "\n",
      "###### Report from node 6 (barycentric2 interpolation) ######\n",
      "PipelineComponentExecutionReport(component_instantiation_info=PipelineComponentInstantiationInfo(component_name='6', component=PipelineComponentInfo(component_id='barycentric2 interpolation', component_type=<class 'pipeline_entities.components.abstracts.interpolation_core.InterpolationCore'>, component_class=<class 'pipeline_entities.components.default_components.default_interpolation_cores.barycentric_second_interpolation_core.BarycentricSecondInterpolationCore'>, component_meta_info=ComponentMetaInfo(attributes_modifying={'interpolant'}, dynamic_constraints=[], static_constraints=[AttributRequiredConstraint<attribute_name='interpolation_nodes'>, AttributRequiredConstraint<attribute_name='interpolation_values'>, MinPredecessorsConstraint(min_amount='1'), MaxPredecessorsConstraint(max_amount='1')], allow_additional_value_modifications_outside_specification=False)), component_specific_arguments={}), component_output=PipelineData(data_type=<class 'jax.numpy.float32'>, node_count=37, interpolation_interval=Array([-1,  1], dtype=int32), function_callable=<function _lambdifygenerated at 0x000001EB0757A480>, interpolation_nodes=Array([-1.        , -0.9444444 , -0.88888884, -0.8333334 , -0.7777778 ,\n",
      "       -0.7222222 , -0.6666666 , -0.61111116, -0.5555556 , -0.5       ,\n",
      "       -0.44444442, -0.38888887, -0.33333328, -0.2777778 , -0.22222221,\n",
      "       -0.16666672, -0.11111113, -0.05555555,  0.        ,  0.05555558,\n",
      "        0.11111116,  0.16666663,  0.22222221,  0.2777778 ,  0.33333337,\n",
      "        0.38888896,  0.44444442,  0.5       ,  0.5555556 ,  0.61111116,\n",
      "        0.6666666 ,  0.7222222 ,  0.7777778 ,  0.8333334 ,  0.88888896,\n",
      "        0.9444444 ,  1.        ], dtype=float32), interpolation_values=Array([ 0.5440211 ,  0.01966543, -0.5106061 , -0.8872938 , -0.9970979 ,\n",
      "       -0.8069898 , -0.37415063,  0.17122576,  0.6651013 ,  0.9589243 ,\n",
      "        0.964317  ,  0.67965776,  0.19056742, -0.35584188, -0.79522014,\n",
      "       -0.9954079 , -0.8961923 , -0.52741534,  0.        ,  0.52741563,\n",
      "        0.89619243,  0.995408  ,  0.79522014,  0.35584188, -0.19056836,\n",
      "       -0.6796584 , -0.964317  , -0.9589243 , -0.6651013 , -0.17122576,\n",
      "        0.37415063,  0.8069898 ,  0.9970979 ,  0.8872938 ,  0.51060534,\n",
      "       -0.01966543, -0.5440211 ], dtype=float32), interpolant=BarycentricSecondInterpolant(weights=[ 4.16173730e+03 -1.49822766e+05  2.62190575e+06 -2.97148140e+07\n",
      "  2.45147120e+08 -1.56894310e+09  8.10622208e+09 -3.47408712e+10\n",
      "  1.25935444e+11 -3.91799243e+11  1.05785898e+12 -2.50039711e+12\n",
      "  5.20916566e+12 -9.61691727e+12  1.57992249e+13 -2.31721602e+13\n",
      "  3.04134289e+13 -3.57805085e+13  3.77683192e+13 -3.57805169e+13\n",
      "  3.04134813e+13 -2.31721916e+13  1.57991892e+13 -9.61689315e+12\n",
      "  5.20915150e+12 -2.50039658e+12  1.05786166e+12 -3.91799767e+11\n",
      "  1.25935518e+11 -3.47408835e+10  8.10622310e+09 -1.56894234e+09\n",
      "  2.45146960e+08 -2.97147620e+07  2.62189250e+06 -1.49823203e+05\n",
      "  4.16174316e+03], values=[ 0.5440211   0.01966543 -0.5106061  -0.8872938  -0.9970979  -0.8069898\n",
      " -0.37415063  0.17122576  0.6651013   0.9589243   0.964317    0.67965776\n",
      "  0.19056742 -0.35584188 -0.79522014 -0.9954079  -0.8961923  -0.52741534\n",
      "  0.          0.52741563  0.89619243  0.995408    0.79522014  0.35584188\n",
      " -0.19056836 -0.6796584  -0.964317   -0.9589243  -0.6651013  -0.17122576\n",
      "  0.37415063  0.8069898   0.9970979   0.8872938   0.51060534 -0.01966543\n",
      " -0.5440211 ], nodes=[-1.         -0.9444444  -0.88888884 -0.8333334  -0.7777778  -0.7222222\n",
      " -0.6666666  -0.61111116 -0.5555556  -0.5        -0.44444442 -0.38888887\n",
      " -0.33333328 -0.2777778  -0.22222221 -0.16666672 -0.11111113 -0.05555555\n",
      "  0.          0.05555558  0.11111116  0.16666663  0.22222221  0.2777778\n",
      "  0.33333337  0.38888896  0.44444442  0.5         0.5555556   0.61111116\n",
      "  0.6666666   0.7222222   0.7777778   0.8333334   0.88888896  0.9444444\n",
      "  1.        ]), additional_values={'secret_token': 'abc123'}), component_init_time=0.050150200026109815, component_execution_time=0.00019159994553774595)\n",
      "\n",
      "\n",
      "\n",
      "###### Report from node 5 (barycentric1 interpolation) ######\n",
      "PipelineComponentExecutionReport(component_instantiation_info=PipelineComponentInstantiationInfo(component_name='5', component=PipelineComponentInfo(component_id='barycentric1 interpolation', component_type=<class 'pipeline_entities.components.abstracts.interpolation_core.InterpolationCore'>, component_class=<class 'pipeline_entities.components.default_components.default_interpolation_cores.barycentric_first_interpolation_core.BarycentricFirstInterpolationCore'>, component_meta_info=ComponentMetaInfo(attributes_modifying={'interpolant'}, dynamic_constraints=[], static_constraints=[AttributRequiredConstraint<attribute_name='interpolation_nodes'>, AttributRequiredConstraint<attribute_name='interpolation_values'>, MinPredecessorsConstraint(min_amount='1'), MaxPredecessorsConstraint(max_amount='1')], allow_additional_value_modifications_outside_specification=False)), component_specific_arguments={}), component_output=PipelineData(data_type=<class 'jax.numpy.float32'>, node_count=37, interpolation_interval=Array([-1,  1], dtype=int32), function_callable=<function _lambdifygenerated at 0x000001EB0757A480>, interpolation_nodes=Array([-1.        , -0.9444444 , -0.88888884, -0.8333334 , -0.7777778 ,\n",
      "       -0.7222222 , -0.6666666 , -0.61111116, -0.5555556 , -0.5       ,\n",
      "       -0.44444442, -0.38888887, -0.33333328, -0.2777778 , -0.22222221,\n",
      "       -0.16666672, -0.11111113, -0.05555555,  0.        ,  0.05555558,\n",
      "        0.11111116,  0.16666663,  0.22222221,  0.2777778 ,  0.33333337,\n",
      "        0.38888896,  0.44444442,  0.5       ,  0.5555556 ,  0.61111116,\n",
      "        0.6666666 ,  0.7222222 ,  0.7777778 ,  0.8333334 ,  0.88888896,\n",
      "        0.9444444 ,  1.        ], dtype=float32), interpolation_values=Array([ 0.5440211 ,  0.01966543, -0.5106061 , -0.8872938 , -0.9970979 ,\n",
      "       -0.8069898 , -0.37415063,  0.17122576,  0.6651013 ,  0.9589243 ,\n",
      "        0.964317  ,  0.67965776,  0.19056742, -0.35584188, -0.79522014,\n",
      "       -0.9954079 , -0.8961923 , -0.52741534,  0.        ,  0.52741563,\n",
      "        0.89619243,  0.995408  ,  0.79522014,  0.35584188, -0.19056836,\n",
      "       -0.6796584 , -0.964317  , -0.9589243 , -0.6651013 , -0.17122576,\n",
      "        0.37415063,  0.8069898 ,  0.9970979 ,  0.8872938 ,  0.51060534,\n",
      "       -0.01966543, -0.5440211 ], dtype=float32), interpolant=BarycentricFirstInterpolant(weights=[ 4.16173730e+03 -1.49822766e+05  2.62190575e+06 -2.97148140e+07\n",
      "  2.45147120e+08 -1.56894310e+09  8.10622208e+09 -3.47408712e+10\n",
      "  1.25935444e+11 -3.91799243e+11  1.05785898e+12 -2.50039711e+12\n",
      "  5.20916566e+12 -9.61691727e+12  1.57992249e+13 -2.31721602e+13\n",
      "  3.04134289e+13 -3.57805085e+13  3.77683192e+13 -3.57805169e+13\n",
      "  3.04134813e+13 -2.31721916e+13  1.57991892e+13 -9.61689315e+12\n",
      "  5.20915150e+12 -2.50039658e+12  1.05786166e+12 -3.91799767e+11\n",
      "  1.25935518e+11 -3.47408835e+10  8.10622310e+09 -1.56894234e+09\n",
      "  2.45146960e+08 -2.97147620e+07  2.62189250e+06 -1.49823203e+05\n",
      "  4.16174316e+03], values=[ 0.5440211   0.01966543 -0.5106061  -0.8872938  -0.9970979  -0.8069898\n",
      " -0.37415063  0.17122576  0.6651013   0.9589243   0.964317    0.67965776\n",
      "  0.19056742 -0.35584188 -0.79522014 -0.9954079  -0.8961923  -0.52741534\n",
      "  0.          0.52741563  0.89619243  0.995408    0.79522014  0.35584188\n",
      " -0.19056836 -0.6796584  -0.964317   -0.9589243  -0.6651013  -0.17122576\n",
      "  0.37415063  0.8069898   0.9970979   0.8872938   0.51060534 -0.01966543\n",
      " -0.5440211 ], nodes=[-1.         -0.9444444  -0.88888884 -0.8333334  -0.7777778  -0.7222222\n",
      " -0.6666666  -0.61111116 -0.5555556  -0.5        -0.44444442 -0.38888887\n",
      " -0.33333328 -0.2777778  -0.22222221 -0.16666672 -0.11111113 -0.05555555\n",
      "  0.          0.05555558  0.11111116  0.16666663  0.22222221  0.2777778\n",
      "  0.33333337  0.38888896  0.44444442  0.5         0.5555556   0.61111116\n",
      "  0.6666666   0.7222222   0.7777778   0.8333334   0.88888896  0.9444444\n",
      "  1.        ]), additional_values={'secret_token': 'abc123'}), component_init_time=0.0446525999577716, component_execution_time=0.0002460000105202198)\n",
      "\n",
      "\n",
      "\n",
      "###### Report from node 4 (newton interpolation) ######\n",
      "PipelineComponentExecutionReport(component_instantiation_info=PipelineComponentInstantiationInfo(component_name='4', component=PipelineComponentInfo(component_id='newton interpolation', component_type=<class 'pipeline_entities.components.abstracts.interpolation_core.InterpolationCore'>, component_class=<class 'pipeline_entities.components.default_components.default_interpolation_cores.newton_interpolation_core.NewtonInterpolationCore'>, component_meta_info=ComponentMetaInfo(attributes_modifying={'interpolant'}, dynamic_constraints=[], static_constraints=[AttributRequiredConstraint<attribute_name='interpolation_nodes'>, AttributRequiredConstraint<attribute_name='interpolation_values'>, MinPredecessorsConstraint(min_amount='1'), MaxPredecessorsConstraint(max_amount='1')], allow_additional_value_modifications_outside_specification=False)), component_specific_arguments={}), component_output=PipelineData(data_type=<class 'jax.numpy.float32'>, node_count=37, interpolation_interval=Array([-1,  1], dtype=int32), function_callable=<function _lambdifygenerated at 0x000001EB0757A480>, interpolation_nodes=Array([-1.        , -0.9444444 , -0.88888884, -0.8333334 , -0.7777778 ,\n",
      "       -0.7222222 , -0.6666666 , -0.61111116, -0.5555556 , -0.5       ,\n",
      "       -0.44444442, -0.38888887, -0.33333328, -0.2777778 , -0.22222221,\n",
      "       -0.16666672, -0.11111113, -0.05555555,  0.        ,  0.05555558,\n",
      "        0.11111116,  0.16666663,  0.22222221,  0.2777778 ,  0.33333337,\n",
      "        0.38888896,  0.44444442,  0.5       ,  0.5555556 ,  0.61111116,\n",
      "        0.6666666 ,  0.7222222 ,  0.7777778 ,  0.8333334 ,  0.88888896,\n",
      "        0.9444444 ,  1.        ], dtype=float32), interpolation_values=Array([ 0.5440211 ,  0.01966543, -0.5106061 , -0.8872938 , -0.9970979 ,\n",
      "       -0.8069898 , -0.37415063,  0.17122576,  0.6651013 ,  0.9589243 ,\n",
      "        0.964317  ,  0.67965776,  0.19056742, -0.35584188, -0.79522014,\n",
      "       -0.9954079 , -0.8961923 , -0.52741534,  0.        ,  0.52741563,\n",
      "        0.89619243,  0.995408  ,  0.79522014,  0.35584188, -0.19056836,\n",
      "       -0.6796584 , -0.964317  , -0.9589243 , -0.6651013 , -0.17122576,\n",
      "        0.37415063,  0.8069898 ,  0.9970979 ,  0.8872938 ,  0.51060534,\n",
      "       -0.01966543, -0.5440211 ], dtype=float32), interpolant=NewtonInterpolant(weights=[ 5.44021130e-01 -9.43839836e+00 -9.58359241e-01  1.55032898e+02\n",
      " -2.02067596e+02 -5.36581909e+02  1.14043701e+03  3.63248535e+02\n",
      " -2.22935718e+03  8.37835938e+02  2.01777795e+03 -1.94231555e+03\n",
      " -1.25372295e+01 -2.49192505e+02  3.19209521e+03 -6.71435400e+03\n",
      "  1.01456045e+04 -1.37927949e+04  1.66312324e+04 -1.59566367e+04\n",
      "  8.07732568e+03  1.16066309e+04 -4.90023203e+04  1.11565562e+05\n",
      " -2.08079766e+05  3.47731531e+05 -5.38285500e+05  7.83502812e+05\n",
      " -1.08040888e+06  1.41728338e+06 -1.77320650e+06  2.11966425e+06\n",
      " -2.42420450e+06  2.65554325e+06 -2.78903775e+06  2.81120150e+06\n",
      " -2.72212550e+06], nodes=[-1.         -0.9444444  -0.88888884 -0.8333334  -0.7777778  -0.7222222\n",
      " -0.6666666  -0.61111116 -0.5555556  -0.5        -0.44444442 -0.38888887\n",
      " -0.33333328 -0.2777778  -0.22222221 -0.16666672 -0.11111113 -0.05555555\n",
      "  0.          0.05555558  0.11111116  0.16666663  0.22222221  0.2777778\n",
      "  0.33333337  0.38888896  0.44444442  0.5         0.5555556   0.61111116\n",
      "  0.6666666   0.7222222   0.7777778   0.8333334   0.88888896  0.9444444\n",
      "  1.        ]), additional_values={'secret_token': 'abc123'}), component_init_time=0.05324529996141791, component_execution_time=0.00017809995915740728)\n",
      "\n",
      "\n",
      "\n",
      "###### Report from node 7 (interpolant plotter) ######\n",
      "PipelineComponentExecutionReport(component_instantiation_info=PipelineComponentInstantiationInfo(component_name='7', component=PipelineComponentInfo(component_id='interpolant plotter', component_type=<class 'pipeline_entities.components.abstracts.interpolation_core.InterpolationCore'>, component_class=<class 'pipeline_entities.components.default_components.default_plotting_components.plot_component.InterpolantPlotComponent'>, component_meta_info=ComponentMetaInfo(attributes_modifying=set(), dynamic_constraints=[], static_constraints=[AttributRequiredConstraint<attribute_name='interpolation_interval'>, AttributRequiredConstraint<attribute_name='function_callable'>, AttributRequiredConstraint<attribute_name='interpolation_nodes'>, AttributRequiredConstraint<attribute_name='interpolant'>], allow_additional_value_modifications_outside_specification=False)), component_specific_arguments={}), component_output=PipelineData(data_type=<class 'jax.numpy.float32'>, node_count=37, interpolation_interval=Array([-1,  1], dtype=int32), function_callable=<function _lambdifygenerated at 0x000001EB0757A480>, interpolation_nodes=Array([-1.        , -0.9444444 , -0.88888884, -0.8333334 , -0.7777778 ,\n",
      "       -0.7222222 , -0.6666666 , -0.61111116, -0.5555556 , -0.5       ,\n",
      "       -0.44444442, -0.38888887, -0.33333328, -0.2777778 , -0.22222221,\n",
      "       -0.16666672, -0.11111113, -0.05555555,  0.        ,  0.05555558,\n",
      "        0.11111116,  0.16666663,  0.22222221,  0.2777778 ,  0.33333337,\n",
      "        0.38888896,  0.44444442,  0.5       ,  0.5555556 ,  0.61111116,\n",
      "        0.6666666 ,  0.7222222 ,  0.7777778 ,  0.8333334 ,  0.88888896,\n",
      "        0.9444444 ,  1.        ], dtype=float32), interpolation_values=Array([ 0.5440211 ,  0.01966543, -0.5106061 , -0.8872938 , -0.9970979 ,\n",
      "       -0.8069898 , -0.37415063,  0.17122576,  0.6651013 ,  0.9589243 ,\n",
      "        0.964317  ,  0.67965776,  0.19056742, -0.35584188, -0.79522014,\n",
      "       -0.9954079 , -0.8961923 , -0.52741534,  0.        ,  0.52741563,\n",
      "        0.89619243,  0.995408  ,  0.79522014,  0.35584188, -0.19056836,\n",
      "       -0.6796584 , -0.964317  , -0.9589243 , -0.6651013 , -0.17122576,\n",
      "        0.37415063,  0.8069898 ,  0.9970979 ,  0.8872938 ,  0.51060534,\n",
      "       -0.01966543, -0.5440211 ], dtype=float32), interpolant=NewtonInterpolant(weights=[ 5.44021130e-01 -9.43839836e+00 -9.58359241e-01  1.55032898e+02\n",
      " -2.02067596e+02 -5.36581909e+02  1.14043701e+03  3.63248535e+02\n",
      " -2.22935718e+03  8.37835938e+02  2.01777795e+03 -1.94231555e+03\n",
      " -1.25372295e+01 -2.49192505e+02  3.19209521e+03 -6.71435400e+03\n",
      "  1.01456045e+04 -1.37927949e+04  1.66312324e+04 -1.59566367e+04\n",
      "  8.07732568e+03  1.16066309e+04 -4.90023203e+04  1.11565562e+05\n",
      " -2.08079766e+05  3.47731531e+05 -5.38285500e+05  7.83502812e+05\n",
      " -1.08040888e+06  1.41728338e+06 -1.77320650e+06  2.11966425e+06\n",
      " -2.42420450e+06  2.65554325e+06 -2.78903775e+06  2.81120150e+06\n",
      " -2.72212550e+06], nodes=[-1.         -0.9444444  -0.88888884 -0.8333334  -0.7777778  -0.7222222\n",
      " -0.6666666  -0.61111116 -0.5555556  -0.5        -0.44444442 -0.38888887\n",
      " -0.33333328 -0.2777778  -0.22222221 -0.16666672 -0.11111113 -0.05555555\n",
      "  0.          0.05555558  0.11111116  0.16666663  0.22222221  0.2777778\n",
      "  0.33333337  0.38888896  0.44444442  0.5         0.5555556   0.61111116\n",
      "  0.6666666   0.7222222   0.7777778   0.8333334   0.88888896  0.9444444\n",
      "  1.        ]), additional_values={'secret_token': 'abc123'}), component_init_time=2.900022082030773e-06, component_execution_time=0.5836666999384761)\n",
      "\n",
      "\n",
      "\n"
     ]
    }
   ],
   "execution_count": 13
  }
 ],
 "metadata": {
  "kernelspec": {
   "display_name": "Python 3",
   "language": "python",
   "name": "python3"
  },
  "language_info": {
   "codemirror_mode": {
    "name": "ipython",
    "version": 2
   },
   "file_extension": ".py",
   "mimetype": "text/x-python",
   "name": "python",
   "nbconvert_exporter": "python",
   "pygments_lexer": "ipython2",
   "version": "2.7.6"
  }
 },
 "nbformat": 4,
 "nbformat_minor": 5
}
