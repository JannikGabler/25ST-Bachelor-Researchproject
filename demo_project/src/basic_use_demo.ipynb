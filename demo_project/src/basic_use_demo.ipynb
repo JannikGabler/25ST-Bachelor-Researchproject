{
 "cells": [
  {
   "metadata": {},
   "cell_type": "markdown",
   "source": [
    "# Basic use demo\n",
    "This jupyter notebook shows the basic use of the internals."
   ],
   "id": "524d3143e71b367d"
  },
  {
   "metadata": {},
   "cell_type": "markdown",
   "source": "#### Imports",
   "id": "293826e6896cdcdd"
  },
  {
   "metadata": {
    "ExecuteTime": {
     "end_time": "2025-08-20T12:21:34.043781Z",
     "start_time": "2025-08-20T12:21:33.316092Z"
    }
   },
   "cell_type": "code",
   "source": [
    "import textwrap\n",
    "import tempfile\n",
    "\n",
    "from pathlib import Path\n",
    "\n",
    "from file_handling.pipeline_input_handling.pipeline_input_file_manager import PipelineInputFileManager\n",
    "\n",
    "from file_handling.pipeline_configuration_handling.pipeline_configuration_file_manager import \\\n",
    "    PipelineConfigurationFileManager\n",
    "\n",
    "from pipeline_entities.large_data_classes.pipeline_configuration.pipeline_configuration_data import PipelineConfigurationData\n",
    "from pipeline_entities.large_data_classes.pipeline_configuration.pipeline_configuration import PipelineConfiguration\n",
    "\n",
    "from pipeline_entities.large_data_classes.pipeline_input.pipeline_input_data import PipelineInputData\n",
    "from pipeline_entities.large_data_classes.pipeline_input.pipeline_input import PipelineInput\n",
    "\n",
    "from pipeline_entities.pipeline.pipeline import Pipeline\n",
    "from pipeline_entities.pipeline.pipeline_builder.pipeline_builder import PipelineBuilder\n",
    "from pipeline_entities.pipeline_execution.output.pipeline_component_execution_report import \\\n",
    "    PipelineComponentExecutionReport\n",
    "\n",
    "from pipeline_entities.pipeline_execution.pipeline_manager.pipeline_manager import PipelineManager\n",
    "\n",
    "from setup_manager.internal_logic_setup_manager import InternalLogicSetupManager"
   ],
   "id": "11ed479a97f7c8dc",
   "outputs": [],
   "execution_count": 1
  },
  {
   "metadata": {},
   "cell_type": "markdown",
   "source": "#### Setup",
   "id": "d9de42f75f6a03ff"
  },
  {
   "metadata": {
    "ExecuteTime": {
     "end_time": "2025-08-20T12:21:35.273908Z",
     "start_time": "2025-08-20T12:21:34.061162Z"
    }
   },
   "cell_type": "code",
   "source": "InternalLogicSetupManager.setup()",
   "id": "c1313e204310d509",
   "outputs": [],
   "execution_count": 2
  },
  {
   "metadata": {},
   "cell_type": "markdown",
   "source": [
    "#### Pipeline configuration\n",
    "A pipeline configuration defines the structure of a pipeline. Pipeline configurations are loaded from .ini files.\n",
    "We are using a temporary file to make things easier for this demo.\n",
    "The .ini content must contain the keys 'supported_program_version' with a value of the type 'packaging.Version' and 'components' with a value of the type 'Tree[str]'.\n",
    "Values can be written over multiple lines by ending a line with the known '\\\\'.\n",
    "We are using the following .ini content:"
   ],
   "id": "62bef21ca10dd36f"
  },
  {
   "metadata": {
    "ExecuteTime": {
     "end_time": "2025-08-20T12:21:35.911429Z",
     "start_time": "2025-08-20T12:21:35.907671Z"
    }
   },
   "cell_type": "code",
   "source": [
    "pipeline_configuration_file_content: bytes = textwrap.dedent(\"\"\"\\\n",
    "    name=\"DemoPipeline\"\n",
    "    supported_program_version=Version(\\\"1.0.0\\\")\n",
    "    components=DirectionalAcyclicGraph(\\\"\\\"\\\"\n",
    "        0=Base Input\n",
    "        1=Chebyshev2 Node Generator\n",
    "            predecessors=[\"0\"]\n",
    "        2=Function Expression Input\n",
    "            predecessors=[\"1\"]\n",
    "        3=Interpolation Values Evaluator\n",
    "            predecessors=[\"2\"]\n",
    "        4=Aitken Neville Interpolation\n",
    "           predecessors=[\"3\"]\n",
    "        5=Newton Interpolation\n",
    "            predecessors=[\"3\"]\n",
    "        6=Barycentric1 Interpolation\n",
    "            predecessors=[\"3\"]\n",
    "        7=Barycentric2 Interpolation\n",
    "            predecessors=[\"3\"]\n",
    "        8=Barycentric2 Chebyshev Interpolation\n",
    "            predecessors=[\"3\"]\n",
    "        9=Interpolant plotter\n",
    "            predecessors=[\"4\", \"5\", \"6\", \"7\", \"8\"]\n",
    "        10=Error Plotter\n",
    "            predecessors=[\"4\", \"5\", \"6\", \"7\", \"8\"]\n",
    "            y_log_scale = False\n",
    "        \\\"\\\"\\\")\n",
    "    extra_value=True\n",
    "    \"\"\").encode(\"utf-8\")"
   ],
   "id": "12823fb453903694",
   "outputs": [],
   "execution_count": 3
  },
  {
   "metadata": {},
   "cell_type": "markdown",
   "source": [
    "The pipeline configure has the name 'DemoPipeline', supports the program version 1.0.0 and has an additional entry with the key 'extra_value'.\n",
    "It's most import entry are the components specified by the matching key named 'components'. Components are arranged in a tree.\n",
    "The tree structure defines the order of component execution later on.\n",
    "For easier use, the components are specified through their respective ids (e.g. the BaseInputPipelineComponent has the id 'BaseInput').\n",
    "\n",
    "\n",
    "After defining the .ini file content, we write the content into a temporary file:"
   ],
   "id": "9149acb680645319"
  },
  {
   "metadata": {
    "ExecuteTime": {
     "end_time": "2025-08-20T12:21:35.982430Z",
     "start_time": "2025-08-20T12:21:35.975376Z"
    }
   },
   "cell_type": "code",
   "source": [
    "temp_dir = tempfile.TemporaryDirectory()\n",
    "temp_pipeline_configuration_file = Path(temp_dir.name + \"/pipeline_configuration.ini\")\n",
    "\n",
    "with open(temp_pipeline_configuration_file, \"wb\") as f:\n",
    "    f.write(pipeline_configuration_file_content)\n",
    "\n",
    "print(temp_dir.name)"
   ],
   "id": "a3633b63351e8ac6",
   "outputs": [
    {
     "name": "stdout",
     "output_type": "stream",
     "text": [
      "C:\\Users\\janni\\AppData\\Local\\Temp\\tmp62vnv31f\n"
     ]
    }
   ],
   "execution_count": 4
  },
  {
   "metadata": {},
   "cell_type": "markdown",
   "source": [
    "With a .ini configuration file, we can start to read in the pipeline configuration into internal structures using the static class 'PipelineConfigurationManager'.\n",
    "The operation 'load_from_file(path: Path)' reads in a .ini file and parses the input into an instance of the dataclass 'PipelineConfigurationData'.\n",
    "Instances of this dataclass store the individual entries of a pipeline configuration .ini file as raw strings.\n",
    "In particular, the values of entries are not evaluated (i.e. 'supported_program_version=Version(\"1.0.0\")' will be stored the string \"Version(\"1.0.0\")\" and not as an instance of the type 'packaging.Version')."
   ],
   "id": "8b7bde80f9bb7574"
  },
  {
   "metadata": {
    "ExecuteTime": {
     "end_time": "2025-08-20T12:21:36.131152Z",
     "start_time": "2025-08-20T12:21:36.114301Z"
    }
   },
   "cell_type": "code",
   "source": [
    "pipeline_configuration_data: PipelineConfigurationData = PipelineConfigurationFileManager.load_from_file(temp_pipeline_configuration_file)\n",
    "\n",
    "print(pipeline_configuration_data)"
   ],
   "id": "aaebea9be69c797f",
   "outputs": [
    {
     "name": "stdout",
     "output_type": "stream",
     "text": [
      "PipelineConfigurationData(name='\"DemoPipeline\"', supported_program_version='Version(\"1.0.0\")', components='DirectionalAcyclicGraph(\"\"\"\\n0=Base Input\\n1=Chebyshev2 Node Generator\\n    predecessors=[\"0\"]\\n2=Function Expression Input\\n    predecessors=[\"1\"]\\n3=Interpolation Values Evaluator\\n    predecessors=[\"2\"]\\n4=Aitken Neville Interpolation\\n   predecessors=[\"3\"]\\n5=Newton Interpolation\\n    predecessors=[\"3\"]\\n6=Barycentric1 Interpolation\\n    predecessors=[\"3\"]\\n7=Barycentric2 Interpolation\\n    predecessors=[\"3\"]\\n8=Barycentric2 Chebyshev Interpolation\\n    predecessors=[\"3\"]\\n9=Interpolant plotter\\n    predecessors=[\"4\", \"5\", \"6\", \"7\", \"8\"]\\n10=Error Plotter\\n    predecessors=[\"4\", \"5\", \"6\", \"7\", \"8\"]\\n    y_log_scale = False\\n\"\"\")', additional_values={'extra_value': 'True'})\n"
     ]
    }
   ],
   "execution_count": 5
  },
  {
   "metadata": {},
   "cell_type": "markdown",
   "source": [
    "The last missing part is the parsing of the values. This can be conveniently done by simply instantiating an instance of the class 'PipelineConfiguration' using our pipeline_configuration_data.\n",
    "Furthermore, the class 'PipelineConfiguration' will automatically check the types of all values and throw exceptions if given an entry with a key of wrong type (e.g. name is an int instead of a str)."
   ],
   "id": "1210e168ac1c5746"
  },
  {
   "metadata": {
    "ExecuteTime": {
     "end_time": "2025-08-20T12:21:36.244360Z",
     "start_time": "2025-08-20T12:21:36.237633Z"
    }
   },
   "cell_type": "code",
   "source": [
    "pipeline_configuration: PipelineConfiguration = PipelineConfiguration(pipeline_configuration_data)\n",
    "\n",
    "print(pipeline_configuration)"
   ],
   "id": "eee6245731e67af6",
   "outputs": [
    {
     "name": "stdout",
     "output_type": "stream",
     "text": [
      "PipelineConfiguration(name='DemoPipeline', supported_program_version=<Version('1.0.0')>, components=<general_data_structures.directional_acyclic_graph.directional_acyclic_graph.DirectionalAcyclicGraph object at 0x0000025F96E6DA90>, additional_values={'extra_value': True})\n"
     ]
    }
   ],
   "execution_count": 6
  },
  {
   "metadata": {},
   "cell_type": "markdown",
   "source": [
    "#### PipelineInput\n",
    "A pipeline input contains all the data used as input when executing the pipeline.\n",
    "The pipeline input works very similarly to the pipeline configuration.\n",
    "Required are the keys 'data_type' with a value of type 'type', 'node_count' with an int value and 'interpolation_interval' with a jax.numpy.ndarray of shape '(2,)' as the value."
   ],
   "id": "5e47c34c1c7580a6"
  },
  {
   "metadata": {
    "ExecuteTime": {
     "end_time": "2025-08-20T12:21:36.320884Z",
     "start_time": "2025-08-20T12:21:36.316851Z"
    }
   },
   "cell_type": "code",
   "source": [
    "pipeline_input_file_content: bytes = textwrap.dedent(\"\"\"\\\n",
    "    name=\"TestPipeline\"\n",
    "    data_type=jax.numpy.float32\n",
    "    node_count=40\n",
    "    interpolation_interval=jax.numpy.array([-1, 1])\n",
    "    interpolant_evaluation_points=jax.numpy.array([-1, 0, 1])\n",
    "    function_expression=\"sin(10*x)\"\n",
    "\n",
    "    piecewise_function_expressions=[((0,1), 'x'), ((1,2), 'x**2')]\n",
    "    sympy_function_expression_simplification=True\n",
    "    function_callable=lambda x: x**2 + 3\n",
    "    function_values=jax.numpy.array([0.0, 1.0, 4.0, 9.0, 16.0])\n",
    "    §secret_token=\"abc123\"\n",
    "    extra_value=[1, 2, 3]\n",
    "    \"\"\").encode(\"utf-8\")"
   ],
   "id": "a3368ec67281374a",
   "outputs": [],
   "execution_count": 7
  },
  {
   "metadata": {},
   "cell_type": "markdown",
   "source": "We write the content into a temporary file:",
   "id": "a6b244bb9eaade05"
  },
  {
   "metadata": {
    "ExecuteTime": {
     "end_time": "2025-08-20T12:21:36.374907Z",
     "start_time": "2025-08-20T12:21:36.369957Z"
    }
   },
   "cell_type": "code",
   "source": [
    "temp_pipeline_input_file = Path(temp_dir.name + \"/pipeline_input.ini\")\n",
    "\n",
    "with open(temp_pipeline_input_file, \"wb\") as f:\n",
    "    f.write(pipeline_input_file_content)"
   ],
   "id": "dc60215b8daf8027",
   "outputs": [],
   "execution_count": 8
  },
  {
   "metadata": {},
   "cell_type": "markdown",
   "source": "Similiar to before, we can load the .ini file into an instance of the dataclass 'PipelineInputData' using the method 'load_from_file(path: Path)' from the static class 'PipelineInputFileManager'.",
   "id": "22f6a5d6760053e7"
  },
  {
   "metadata": {
    "ExecuteTime": {
     "end_time": "2025-08-20T12:21:36.422389Z",
     "start_time": "2025-08-20T12:21:36.405401Z"
    }
   },
   "cell_type": "code",
   "source": [
    "pipeline_input_data: PipelineInputData = PipelineInputFileManager.load_from_file(temp_pipeline_input_file)\n",
    "\n",
    "print(pipeline_input_data)"
   ],
   "id": "8d8246a8bd932372",
   "outputs": [
    {
     "name": "stdout",
     "output_type": "stream",
     "text": [
      "PipelineInputData(name='\"TestPipeline\"', data_type='jax.numpy.float32', node_count='40', interpolation_interval='jax.numpy.array([-1, 1])', function_expression='\"sin(10*x)\"', piecewise_function_expression=None, sympy_function_expression_simplification='True', function_callable='lambda x: x**2 + 3', interpolation_values=None, interpolant_evaluation_points='jax.numpy.array([-1, 0, 1])', additional_directly_injected_values={'secret_token': '\"abc123\"'}, additional_values={'piecewise_function_expressions': \"[((0,1), 'x'), ((1,2), 'x**2')]\", 'function_values': 'jax.numpy.array([0.0, 1.0, 4.0, 9.0, 16.0])', 'extra_value': '[1, 2, 3]'})\n"
     ]
    }
   ],
   "execution_count": 9
  },
  {
   "metadata": {},
   "cell_type": "markdown",
   "source": "We parse the 'pipeline_input_data' by initializing an instance of the class 'PipelineInput':",
   "id": "777918924e7388bf"
  },
  {
   "metadata": {
    "ExecuteTime": {
     "end_time": "2025-08-20T12:21:36.596420Z",
     "start_time": "2025-08-20T12:21:36.477774Z"
    }
   },
   "cell_type": "code",
   "source": [
    "pipeline_input: PipelineInput = PipelineInput(pipeline_input_data)\n",
    "\n",
    "print(pipeline_input)"
   ],
   "id": "2f2e7926d253b513",
   "outputs": [
    {
     "name": "stdout",
     "output_type": "stream",
     "text": [
      "PipelineInput(name='TestPipeline'', data_type='<class 'jax.numpy.float32'>', node_count=40, interpolation_interval=Array([-1,  1], dtype=int32), function_expression='sin(10*x)', piecewise_function_expressions=None, sympy_function_expression_simplification='True', function_callable=<function <lambda> at 0x0000025F973CCC20>, interpolation_values=None', interpolant_evaluation_points=Array([-1,  0,  1], dtype=int32), additional_directly_injected_values={'secret_token': 'abc123'}, additional_values={'piecewise_function_expressions': [((0, 1), 'x'), ((1, 2), 'x**2')], 'function_values': Array([ 0.,  1.,  4.,  9., 16.], dtype=float32), 'extra_value': [1, 2, 3]}')\n"
     ]
    }
   ],
   "execution_count": 10
  },
  {
   "metadata": {},
   "cell_type": "markdown",
   "source": [
    "#### Pipeline building\n",
    "Using the just created 'PipelineInput' and 'PipelineConfiguration' instances, we can assemble a pipeline:"
   ],
   "id": "2c4d9c0aa0828a6a"
  },
  {
   "metadata": {
    "ExecuteTime": {
     "end_time": "2025-08-20T12:21:36.616509Z",
     "start_time": "2025-08-20T12:21:36.612175Z"
    }
   },
   "cell_type": "code",
   "source": "pipeline: Pipeline = PipelineBuilder.build(pipeline_configuration, pipeline_input)",
   "id": "da2cc100f0e0567b",
   "outputs": [],
   "execution_count": 11
  },
  {
   "metadata": {},
   "cell_type": "markdown",
   "source": [
    "#### Pipeline execution\n",
    "Instances of the class 'PipelineManager' are responsible for the execution of pipelines.\n",
    "We start of by initializing a 'PipelineManager' with our pipeline."
   ],
   "id": "e7b39e6e75b5c7c"
  },
  {
   "metadata": {
    "ExecuteTime": {
     "end_time": "2025-08-20T12:21:41.880803Z",
     "start_time": "2025-08-20T12:21:41.830337Z"
    }
   },
   "cell_type": "code",
   "source": "pipeline_manager: PipelineManager = PipelineManager(pipeline)",
   "id": "a0c919805d911a50",
   "outputs": [],
   "execution_count": 12
  },
  {
   "metadata": {},
   "cell_type": "markdown",
   "source": "After the initialization, we can execute the complete pipeline by calling 'execute_all()'.",
   "id": "6750d130768ccff7"
  },
  {
   "metadata": {
    "ExecuteTime": {
     "end_time": "2025-08-20T12:23:21.303282Z",
     "start_time": "2025-08-20T12:22:55.133910Z"
    }
   },
   "cell_type": "code",
   "source": "pipeline_manager.execute_all()",
   "id": "f9e2f0c6856259c5",
   "outputs": [
    {
     "ename": "KeyboardInterrupt",
     "evalue": "",
     "output_type": "error",
     "traceback": [
      "\u001B[31m---------------------------------------------------------------------------\u001B[39m",
      "\u001B[31mKeyboardInterrupt\u001B[39m                         Traceback (most recent call last)",
      "\u001B[36mCell\u001B[39m\u001B[36m \u001B[39m\u001B[32mIn[17]\u001B[39m\u001B[32m, line 1\u001B[39m\n\u001B[32m----> \u001B[39m\u001B[32m1\u001B[39m \u001B[43mpipeline_manager\u001B[49m\u001B[43m.\u001B[49m\u001B[43mexecute_all\u001B[49m\u001B[43m(\u001B[49m\u001B[43m)\u001B[49m\n",
      "\u001B[36mFile \u001B[39m\u001B[32m~\\DEV\\Projects\\University\\6. Semester\\25ST-Bachelor-Researchproject\\internal_project\\src\\pipeline_entities\\pipeline_execution\\pipeline_manager\\pipeline_manager.py:49\u001B[39m, in \u001B[36mPipelineManager.execute_all\u001B[39m\u001B[34m(self)\u001B[39m\n\u001B[32m     47\u001B[39m \u001B[38;5;28;01mdef\u001B[39;00m\u001B[38;5;250m \u001B[39m\u001B[34mexecute_all\u001B[39m(\u001B[38;5;28mself\u001B[39m) -> \u001B[38;5;28;01mNone\u001B[39;00m:\n\u001B[32m     48\u001B[39m     \u001B[38;5;28;01mwhile\u001B[39;00m \u001B[38;5;129;01mnot\u001B[39;00m \u001B[38;5;28mself\u001B[39m.is_completely_executed:\n\u001B[32m---> \u001B[39m\u001B[32m49\u001B[39m         \u001B[38;5;28;43mself\u001B[39;49m\u001B[43m.\u001B[49m\u001B[43mexecute_next_component\u001B[49m\u001B[43m(\u001B[49m\u001B[43m)\u001B[49m\n",
      "\u001B[36mFile \u001B[39m\u001B[32m~\\DEV\\Projects\\University\\6. Semester\\25ST-Bachelor-Researchproject\\internal_project\\src\\pipeline_entities\\pipeline_execution\\pipeline_manager\\pipeline_manager.py:55\u001B[39m, in \u001B[36mPipelineManager.execute_next_component\u001B[39m\u001B[34m(self)\u001B[39m\n\u001B[32m     53\u001B[39m \u001B[38;5;28;01mdef\u001B[39;00m\u001B[38;5;250m \u001B[39m\u001B[34mexecute_next_component\u001B[39m(\u001B[38;5;28mself\u001B[39m) -> PipelineComponentExecutionReport:\n\u001B[32m     54\u001B[39m     node_in_own_dag: DirectionalAcyclicGraphNode[PipelineComponentInstantiationInfo] = \u001B[38;5;28mself\u001B[39m._execution_stack_.popleft()\n\u001B[32m---> \u001B[39m\u001B[32m55\u001B[39m     pipeline_data, additional_execution_data, old_attributes = \u001B[38;5;28;43mself\u001B[39;49m\u001B[43m.\u001B[49m\u001B[43m_setup_node_execution_\u001B[49m\u001B[43m(\u001B[49m\u001B[43mnode_in_own_dag\u001B[49m\u001B[43m)\u001B[49m\n\u001B[32m     56\u001B[39m     pipeline_component: PipelineComponent = \u001B[38;5;28mself\u001B[39m._init_node_component_(node_in_own_dag, pipeline_data, additional_execution_data)\n\u001B[32m     57\u001B[39m     result_data: PipelineData = \u001B[38;5;28mself\u001B[39m._execute_node_component_(pipeline_component, node_in_own_dag)\n",
      "\u001B[36mFile \u001B[39m\u001B[32m~\\DEV\\Projects\\University\\6. Semester\\25ST-Bachelor-Researchproject\\internal_project\\src\\pipeline_entities\\pipeline_execution\\pipeline_manager\\pipeline_manager.py:166\u001B[39m, in \u001B[36mPipelineManager._setup_node_execution_\u001B[39m\u001B[34m(self, node_in_own_dag)\u001B[39m\n\u001B[32m    162\u001B[39m \u001B[38;5;28mself\u001B[39m._init_component_execution_record_(node_in_own_dag)\n\u001B[32m    163\u001B[39m pipeline_data, additional_info, old_attributes = PipelineManagerUtils.create_input_for_node(\n\u001B[32m    164\u001B[39m     node_in_own_dag, \u001B[38;5;28mself\u001B[39m._pipeline_, \u001B[38;5;28mself\u001B[39m._component_execution_reports_)\n\u001B[32m--> \u001B[39m\u001B[32m166\u001B[39m \u001B[43mPipelineComponentExecutionValidationUtils\u001B[49m\u001B[43m.\u001B[49m\u001B[43mvalidate_before_node_execution\u001B[49m\u001B[43m(\u001B[49m\u001B[43mnode_in_own_dag\u001B[49m\u001B[43m,\u001B[49m\u001B[43m \u001B[49m\u001B[38;5;28;43mself\u001B[39;49m\u001B[43m.\u001B[49m\u001B[43m_pipeline_\u001B[49m\u001B[43m,\u001B[49m\u001B[43m \u001B[49m\u001B[38;5;28;43mself\u001B[39;49m\u001B[43m.\u001B[49m\u001B[43m_component_execution_reports_\u001B[49m\u001B[43m)\u001B[49m\n\u001B[32m    168\u001B[39m \u001B[38;5;28;01mreturn\u001B[39;00m pipeline_data, additional_info, old_attributes\n",
      "\u001B[36mFile \u001B[39m\u001B[32m~\\DEV\\Projects\\University\\6. Semester\\25ST-Bachelor-Researchproject\\internal_project\\src\\utils\\pipeline_component_execution_validation_utils.py:41\u001B[39m, in \u001B[36mPipelineComponentExecutionValidationUtils.validate_before_node_execution\u001B[39m\u001B[34m(cls, node, pipeline, reports)\u001B[39m\n\u001B[32m     37\u001B[39m \u001B[38;5;129m@classmethod\u001B[39m\n\u001B[32m     38\u001B[39m \u001B[38;5;28;01mdef\u001B[39;00m\u001B[38;5;250m \u001B[39m\u001B[34mvalidate_before_node_execution\u001B[39m(\u001B[38;5;28mcls\u001B[39m, node: DirectionalAcyclicGraphNode[PipelineComponentInstantiationInfo],\n\u001B[32m     39\u001B[39m                                    pipeline: Pipeline, reports: \u001B[38;5;28mdict\u001B[39m[\u001B[38;5;28mint\u001B[39m, PipelineComponentExecutionReport]) -> \u001B[38;5;28;01mNone\u001B[39;00m:\n\u001B[32m---> \u001B[39m\u001B[32m41\u001B[39m     \u001B[38;5;28;43mcls\u001B[39;49m\u001B[43m.\u001B[49m\u001B[43m_validate_dynamic_node_component_pre_constraints_\u001B[49m\u001B[43m(\u001B[49m\u001B[43mnode\u001B[49m\u001B[43m,\u001B[49m\u001B[43m \u001B[49m\u001B[43mpipeline\u001B[49m\u001B[43m,\u001B[49m\u001B[43m \u001B[49m\u001B[43mreports\u001B[49m\u001B[43m)\u001B[49m\n",
      "\u001B[36mFile \u001B[39m\u001B[32m~\\DEV\\Projects\\University\\6. Semester\\25ST-Bachelor-Researchproject\\internal_project\\src\\utils\\pipeline_component_execution_validation_utils.py:66\u001B[39m, in \u001B[36mPipelineComponentExecutionValidationUtils._validate_dynamic_node_component_pre_constraints_\u001B[39m\u001B[34m(cls, node, pipeline, reports)\u001B[39m\n\u001B[32m     61\u001B[39m \u001B[38;5;129m@classmethod\u001B[39m\n\u001B[32m     62\u001B[39m \u001B[38;5;28;01mdef\u001B[39;00m\u001B[38;5;250m \u001B[39m\u001B[34m_validate_dynamic_node_component_pre_constraints_\u001B[39m(\u001B[38;5;28mcls\u001B[39m, node: DirectionalAcyclicGraphNode[PipelineComponentInstantiationInfo],\n\u001B[32m     63\u001B[39m                   pipeline: Pipeline, reports: \u001B[38;5;28mdict\u001B[39m[\u001B[38;5;28mint\u001B[39m, PipelineComponentExecutionReport]) -> \u001B[38;5;28;01mNone\u001B[39;00m:\n\u001B[32m     65\u001B[39m     pre_dynamic_constraints: \u001B[38;5;28mlist\u001B[39m[PreDynamicConstraint] = node.value.component.component_meta_info.pre_dynamic_constraints\n\u001B[32m---> \u001B[39m\u001B[32m66\u001B[39m     input_data = \u001B[43mPipelineManagerUtils\u001B[49m\u001B[43m.\u001B[49m\u001B[43mcreate_input_for_node\u001B[49m\u001B[43m(\u001B[49m\u001B[43mnode\u001B[49m\u001B[43m,\u001B[49m\u001B[43m \u001B[49m\u001B[43mpipeline\u001B[49m\u001B[43m,\u001B[49m\u001B[43m \u001B[49m\u001B[43mreports\u001B[49m\u001B[43m)\u001B[49m\n\u001B[32m     68\u001B[39m     \u001B[38;5;28;01mfor\u001B[39;00m constraint \u001B[38;5;129;01min\u001B[39;00m pre_dynamic_constraints:\n\u001B[32m     69\u001B[39m         \u001B[38;5;28;01mif\u001B[39;00m \u001B[38;5;129;01mnot\u001B[39;00m constraint.evaluate(input_data[\u001B[32m0\u001B[39m], input_data[\u001B[32m1\u001B[39m]):\n",
      "\u001B[36mFile \u001B[39m\u001B[32m~\\DEV\\Projects\\University\\6. Semester\\25ST-Bachelor-Researchproject\\internal_project\\src\\utils\\pipeline_manager_utils.py:45\u001B[39m, in \u001B[36mPipelineManagerUtils.create_input_for_node\u001B[39m\u001B[34m(cls, node, pipeline, reports)\u001B[39m\n\u001B[32m     43\u001B[39m     data, additional_data = \u001B[38;5;28mcls\u001B[39m._create_new_input_for_entry_node_(node, pipeline)\n\u001B[32m     44\u001B[39m \u001B[38;5;28;01melse\u001B[39;00m:\n\u001B[32m---> \u001B[39m\u001B[32m45\u001B[39m     data, additional_data = \u001B[38;5;28;43mcls\u001B[39;49m\u001B[43m.\u001B[49m\u001B[43m_create_input_for_non_entry_node_\u001B[49m\u001B[43m(\u001B[49m\u001B[43mnode\u001B[49m\u001B[43m,\u001B[49m\u001B[43m \u001B[49m\u001B[43mpipeline\u001B[49m\u001B[43m,\u001B[49m\u001B[43m \u001B[49m\u001B[43mreports\u001B[49m\u001B[43m)\u001B[49m\n\u001B[32m     47\u001B[39m old_attributes: \u001B[38;5;28mdict\u001B[39m[\u001B[38;5;28mstr\u001B[39m, \u001B[38;5;28mobject\u001B[39m] = \u001B[38;5;28mcls\u001B[39m._insert_overridden_attributes_(node, data, additional_data)\n\u001B[32m     48\u001B[39m \u001B[38;5;28;01mreturn\u001B[39;00m data, additional_data, old_attributes\n",
      "\u001B[36mFile \u001B[39m\u001B[32m~\\DEV\\Projects\\University\\6. Semester\\25ST-Bachelor-Researchproject\\internal_project\\src\\utils\\pipeline_manager_utils.py:104\u001B[39m, in \u001B[36mPipelineManagerUtils._create_input_for_non_entry_node_\u001B[39m\u001B[34m(cls, node, pipeline, reports)\u001B[39m\n\u001B[32m    102\u001B[39m     report: PipelineComponentExecutionReport = reports[\u001B[38;5;28mid\u001B[39m(old_predecessor)]\n\u001B[32m    103\u001B[39m     new_predecessor: DirectionalAcyclicGraphNode[PipelineComponentInstantiationInfo] = node_mapping[\u001B[38;5;28mid\u001B[39m(old_predecessor)]\n\u001B[32m--> \u001B[39m\u001B[32m104\u001B[39m     new_reports[\u001B[38;5;28mid\u001B[39m(new_predecessor)] = \u001B[43mdeepcopy\u001B[49m\u001B[43m(\u001B[49m\u001B[43mreport\u001B[49m\u001B[43m)\u001B[49m\n\u001B[32m    106\u001B[39m pipeline_data_list: \u001B[38;5;28mlist\u001B[39m[PipelineData] = [new_reports[\u001B[38;5;28mid\u001B[39m(pre)].component_output \u001B[38;5;28;01mfor\u001B[39;00m pre \u001B[38;5;129;01min\u001B[39;00m new_own_node.predecessors]\n\u001B[32m    107\u001B[39m \u001B[38;5;28;01mreturn\u001B[39;00m pipeline_data_list, AdditionalComponentExecutionData({}, new_configuration, new_input, new_own_node, new_reports)\n",
      "\u001B[36mFile \u001B[39m\u001B[32mC:\\Program Files\\Python313\\Lib\\copy.py:163\u001B[39m, in \u001B[36mdeepcopy\u001B[39m\u001B[34m(x, memo, _nil)\u001B[39m\n\u001B[32m    161\u001B[39m                 y = x\n\u001B[32m    162\u001B[39m             \u001B[38;5;28;01melse\u001B[39;00m:\n\u001B[32m--> \u001B[39m\u001B[32m163\u001B[39m                 y = \u001B[43m_reconstruct\u001B[49m\u001B[43m(\u001B[49m\u001B[43mx\u001B[49m\u001B[43m,\u001B[49m\u001B[43m \u001B[49m\u001B[43mmemo\u001B[49m\u001B[43m,\u001B[49m\u001B[43m \u001B[49m\u001B[43m*\u001B[49m\u001B[43mrv\u001B[49m\u001B[43m)\u001B[49m\n\u001B[32m    165\u001B[39m \u001B[38;5;66;03m# If is its own copy, don't memoize.\u001B[39;00m\n\u001B[32m    166\u001B[39m \u001B[38;5;28;01mif\u001B[39;00m y \u001B[38;5;129;01mis\u001B[39;00m \u001B[38;5;129;01mnot\u001B[39;00m x:\n",
      "\u001B[36mFile \u001B[39m\u001B[32mC:\\Program Files\\Python313\\Lib\\copy.py:260\u001B[39m, in \u001B[36m_reconstruct\u001B[39m\u001B[34m(x, memo, func, args, state, listiter, dictiter, deepcopy)\u001B[39m\n\u001B[32m    258\u001B[39m \u001B[38;5;28;01mif\u001B[39;00m state \u001B[38;5;129;01mis\u001B[39;00m \u001B[38;5;129;01mnot\u001B[39;00m \u001B[38;5;28;01mNone\u001B[39;00m:\n\u001B[32m    259\u001B[39m     \u001B[38;5;28;01mif\u001B[39;00m deep:\n\u001B[32m--> \u001B[39m\u001B[32m260\u001B[39m         state = \u001B[43mdeepcopy\u001B[49m\u001B[43m(\u001B[49m\u001B[43mstate\u001B[49m\u001B[43m,\u001B[49m\u001B[43m \u001B[49m\u001B[43mmemo\u001B[49m\u001B[43m)\u001B[49m\n\u001B[32m    261\u001B[39m     \u001B[38;5;28;01mif\u001B[39;00m \u001B[38;5;28mhasattr\u001B[39m(y, \u001B[33m'\u001B[39m\u001B[33m__setstate__\u001B[39m\u001B[33m'\u001B[39m):\n\u001B[32m    262\u001B[39m         y.__setstate__(state)\n",
      "\u001B[36mFile \u001B[39m\u001B[32mC:\\Program Files\\Python313\\Lib\\copy.py:137\u001B[39m, in \u001B[36mdeepcopy\u001B[39m\u001B[34m(x, memo, _nil)\u001B[39m\n\u001B[32m    135\u001B[39m copier = _deepcopy_dispatch.get(\u001B[38;5;28mcls\u001B[39m)\n\u001B[32m    136\u001B[39m \u001B[38;5;28;01mif\u001B[39;00m copier \u001B[38;5;129;01mis\u001B[39;00m \u001B[38;5;129;01mnot\u001B[39;00m \u001B[38;5;28;01mNone\u001B[39;00m:\n\u001B[32m--> \u001B[39m\u001B[32m137\u001B[39m     y = \u001B[43mcopier\u001B[49m\u001B[43m(\u001B[49m\u001B[43mx\u001B[49m\u001B[43m,\u001B[49m\u001B[43m \u001B[49m\u001B[43mmemo\u001B[49m\u001B[43m)\u001B[49m\n\u001B[32m    138\u001B[39m \u001B[38;5;28;01melse\u001B[39;00m:\n\u001B[32m    139\u001B[39m     \u001B[38;5;28;01mif\u001B[39;00m \u001B[38;5;28missubclass\u001B[39m(\u001B[38;5;28mcls\u001B[39m, \u001B[38;5;28mtype\u001B[39m):\n",
      "\u001B[36mFile \u001B[39m\u001B[32mC:\\Program Files\\Python313\\Lib\\copy.py:222\u001B[39m, in \u001B[36m_deepcopy_dict\u001B[39m\u001B[34m(x, memo, deepcopy)\u001B[39m\n\u001B[32m    220\u001B[39m memo[\u001B[38;5;28mid\u001B[39m(x)] = y\n\u001B[32m    221\u001B[39m \u001B[38;5;28;01mfor\u001B[39;00m key, value \u001B[38;5;129;01min\u001B[39;00m x.items():\n\u001B[32m--> \u001B[39m\u001B[32m222\u001B[39m     y[deepcopy(key, memo)] = \u001B[43mdeepcopy\u001B[49m\u001B[43m(\u001B[49m\u001B[43mvalue\u001B[49m\u001B[43m,\u001B[49m\u001B[43m \u001B[49m\u001B[43mmemo\u001B[49m\u001B[43m)\u001B[49m\n\u001B[32m    223\u001B[39m \u001B[38;5;28;01mreturn\u001B[39;00m y\n",
      "\u001B[36mFile \u001B[39m\u001B[32mC:\\Program Files\\Python313\\Lib\\copy.py:163\u001B[39m, in \u001B[36mdeepcopy\u001B[39m\u001B[34m(x, memo, _nil)\u001B[39m\n\u001B[32m    161\u001B[39m                 y = x\n\u001B[32m    162\u001B[39m             \u001B[38;5;28;01melse\u001B[39;00m:\n\u001B[32m--> \u001B[39m\u001B[32m163\u001B[39m                 y = \u001B[43m_reconstruct\u001B[49m\u001B[43m(\u001B[49m\u001B[43mx\u001B[49m\u001B[43m,\u001B[49m\u001B[43m \u001B[49m\u001B[43mmemo\u001B[49m\u001B[43m,\u001B[49m\u001B[43m \u001B[49m\u001B[43m*\u001B[49m\u001B[43mrv\u001B[49m\u001B[43m)\u001B[49m\n\u001B[32m    165\u001B[39m \u001B[38;5;66;03m# If is its own copy, don't memoize.\u001B[39;00m\n\u001B[32m    166\u001B[39m \u001B[38;5;28;01mif\u001B[39;00m y \u001B[38;5;129;01mis\u001B[39;00m \u001B[38;5;129;01mnot\u001B[39;00m x:\n",
      "\u001B[36mFile \u001B[39m\u001B[32mC:\\Program Files\\Python313\\Lib\\copy.py:260\u001B[39m, in \u001B[36m_reconstruct\u001B[39m\u001B[34m(x, memo, func, args, state, listiter, dictiter, deepcopy)\u001B[39m\n\u001B[32m    258\u001B[39m \u001B[38;5;28;01mif\u001B[39;00m state \u001B[38;5;129;01mis\u001B[39;00m \u001B[38;5;129;01mnot\u001B[39;00m \u001B[38;5;28;01mNone\u001B[39;00m:\n\u001B[32m    259\u001B[39m     \u001B[38;5;28;01mif\u001B[39;00m deep:\n\u001B[32m--> \u001B[39m\u001B[32m260\u001B[39m         state = \u001B[43mdeepcopy\u001B[49m\u001B[43m(\u001B[49m\u001B[43mstate\u001B[49m\u001B[43m,\u001B[49m\u001B[43m \u001B[49m\u001B[43mmemo\u001B[49m\u001B[43m)\u001B[49m\n\u001B[32m    261\u001B[39m     \u001B[38;5;28;01mif\u001B[39;00m \u001B[38;5;28mhasattr\u001B[39m(y, \u001B[33m'\u001B[39m\u001B[33m__setstate__\u001B[39m\u001B[33m'\u001B[39m):\n\u001B[32m    262\u001B[39m         y.__setstate__(state)\n",
      "\u001B[36mFile \u001B[39m\u001B[32mC:\\Program Files\\Python313\\Lib\\copy.py:137\u001B[39m, in \u001B[36mdeepcopy\u001B[39m\u001B[34m(x, memo, _nil)\u001B[39m\n\u001B[32m    135\u001B[39m copier = _deepcopy_dispatch.get(\u001B[38;5;28mcls\u001B[39m)\n\u001B[32m    136\u001B[39m \u001B[38;5;28;01mif\u001B[39;00m copier \u001B[38;5;129;01mis\u001B[39;00m \u001B[38;5;129;01mnot\u001B[39;00m \u001B[38;5;28;01mNone\u001B[39;00m:\n\u001B[32m--> \u001B[39m\u001B[32m137\u001B[39m     y = \u001B[43mcopier\u001B[49m\u001B[43m(\u001B[49m\u001B[43mx\u001B[49m\u001B[43m,\u001B[49m\u001B[43m \u001B[49m\u001B[43mmemo\u001B[49m\u001B[43m)\u001B[49m\n\u001B[32m    138\u001B[39m \u001B[38;5;28;01melse\u001B[39;00m:\n\u001B[32m    139\u001B[39m     \u001B[38;5;28;01mif\u001B[39;00m \u001B[38;5;28missubclass\u001B[39m(\u001B[38;5;28mcls\u001B[39m, \u001B[38;5;28mtype\u001B[39m):\n",
      "\u001B[36mFile \u001B[39m\u001B[32mC:\\Program Files\\Python313\\Lib\\copy.py:222\u001B[39m, in \u001B[36m_deepcopy_dict\u001B[39m\u001B[34m(x, memo, deepcopy)\u001B[39m\n\u001B[32m    220\u001B[39m memo[\u001B[38;5;28mid\u001B[39m(x)] = y\n\u001B[32m    221\u001B[39m \u001B[38;5;28;01mfor\u001B[39;00m key, value \u001B[38;5;129;01min\u001B[39;00m x.items():\n\u001B[32m--> \u001B[39m\u001B[32m222\u001B[39m     y[deepcopy(key, memo)] = \u001B[43mdeepcopy\u001B[49m\u001B[43m(\u001B[49m\u001B[43mvalue\u001B[49m\u001B[43m,\u001B[49m\u001B[43m \u001B[49m\u001B[43mmemo\u001B[49m\u001B[43m)\u001B[49m\n\u001B[32m    223\u001B[39m \u001B[38;5;28;01mreturn\u001B[39;00m y\n",
      "\u001B[36mFile \u001B[39m\u001B[32mC:\\Program Files\\Python313\\Lib\\copy.py:144\u001B[39m, in \u001B[36mdeepcopy\u001B[39m\u001B[34m(x, memo, _nil)\u001B[39m\n\u001B[32m    142\u001B[39m copier = \u001B[38;5;28mgetattr\u001B[39m(x, \u001B[33m\"\u001B[39m\u001B[33m__deepcopy__\u001B[39m\u001B[33m\"\u001B[39m, \u001B[38;5;28;01mNone\u001B[39;00m)\n\u001B[32m    143\u001B[39m \u001B[38;5;28;01mif\u001B[39;00m copier \u001B[38;5;129;01mis\u001B[39;00m \u001B[38;5;129;01mnot\u001B[39;00m \u001B[38;5;28;01mNone\u001B[39;00m:\n\u001B[32m--> \u001B[39m\u001B[32m144\u001B[39m     y = \u001B[43mcopier\u001B[49m\u001B[43m(\u001B[49m\u001B[43mmemo\u001B[49m\u001B[43m)\u001B[49m\n\u001B[32m    145\u001B[39m \u001B[38;5;28;01melse\u001B[39;00m:\n\u001B[32m    146\u001B[39m     reductor = dispatch_table.get(\u001B[38;5;28mcls\u001B[39m)\n",
      "\u001B[36mFile \u001B[39m\u001B[32m~\\DEV\\Projects\\University\\6. Semester\\25ST-Bachelor-Researchproject\\.venv\\Lib\\site-packages\\jax\\_src\\numpy\\array_methods.py:608\u001B[39m, in \u001B[36m_deepcopy\u001B[39m\u001B[34m(***failed resolving arguments***)\u001B[39m\n\u001B[32m    606\u001B[39m \u001B[38;5;28;01mdef\u001B[39;00m\u001B[38;5;250m \u001B[39m\u001B[34m_deepcopy\u001B[39m(\u001B[38;5;28mself\u001B[39m: Array, memo: Any) -> Array:\n\u001B[32m    607\u001B[39m   \u001B[38;5;28;01mdel\u001B[39;00m memo  \u001B[38;5;66;03m# unused\u001B[39;00m\n\u001B[32m--> \u001B[39m\u001B[32m608\u001B[39m   \u001B[38;5;28;01mreturn\u001B[39;00m \u001B[38;5;28;43mself\u001B[39;49m\u001B[43m.\u001B[49m\u001B[43mcopy\u001B[49m\u001B[43m(\u001B[49m\u001B[43m)\u001B[49m\n",
      "\u001B[36mFile \u001B[39m\u001B[32m~\\DEV\\Projects\\University\\6. Semester\\25ST-Bachelor-Researchproject\\.venv\\Lib\\site-packages\\jax\\_src\\numpy\\array_methods.py:170\u001B[39m, in \u001B[36m_copy\u001B[39m\u001B[34m(self)\u001B[39m\n\u001B[32m    165\u001B[39m \u001B[38;5;28;01mdef\u001B[39;00m\u001B[38;5;250m \u001B[39m\u001B[34m_copy\u001B[39m(\u001B[38;5;28mself\u001B[39m: Array) -> Array:\n\u001B[32m    166\u001B[39m \u001B[38;5;250m  \u001B[39m\u001B[33;03m\"\"\"Return a copy of the array.\u001B[39;00m\n\u001B[32m    167\u001B[39m \n\u001B[32m    168\u001B[39m \u001B[33;03m  Refer to :func:`jax.numpy.copy` for the full documentation.\u001B[39;00m\n\u001B[32m    169\u001B[39m \u001B[33;03m  \"\"\"\u001B[39;00m\n\u001B[32m--> \u001B[39m\u001B[32m170\u001B[39m   \u001B[38;5;28;01mreturn\u001B[39;00m \u001B[43mlax_numpy\u001B[49m\u001B[43m.\u001B[49m\u001B[43mcopy\u001B[49m\u001B[43m(\u001B[49m\u001B[38;5;28;43mself\u001B[39;49m\u001B[43m)\u001B[49m\n",
      "\u001B[36mFile \u001B[39m\u001B[32m~\\DEV\\Projects\\University\\6. Semester\\25ST-Bachelor-Researchproject\\.venv\\Lib\\site-packages\\jax\\_src\\numpy\\lax_numpy.py:5423\u001B[39m, in \u001B[36mcopy\u001B[39m\u001B[34m(a, order)\u001B[39m\n\u001B[32m   5379\u001B[39m \u001B[38;5;250m\u001B[39m\u001B[33;03m\"\"\"Return a copy of the array.\u001B[39;00m\n\u001B[32m   5380\u001B[39m \n\u001B[32m   5381\u001B[39m \u001B[33;03mJAX implementation of :func:`numpy.copy`.\u001B[39;00m\n\u001B[32m   (...)\u001B[39m\u001B[32m   5420\u001B[39m \u001B[33;03m  [0 1 2 3]\u001B[39;00m\n\u001B[32m   5421\u001B[39m \u001B[33;03m\"\"\"\u001B[39;00m\n\u001B[32m   5422\u001B[39m util.check_arraylike(\u001B[33m\"\u001B[39m\u001B[33mcopy\u001B[39m\u001B[33m\"\u001B[39m, a)\n\u001B[32m-> \u001B[39m\u001B[32m5423\u001B[39m \u001B[38;5;28;01mreturn\u001B[39;00m \u001B[43marray\u001B[49m\u001B[43m(\u001B[49m\u001B[43ma\u001B[49m\u001B[43m,\u001B[49m\u001B[43m \u001B[49m\u001B[43mcopy\u001B[49m\u001B[43m=\u001B[49m\u001B[38;5;28;43;01mTrue\u001B[39;49;00m\u001B[43m,\u001B[49m\u001B[43m \u001B[49m\u001B[43morder\u001B[49m\u001B[43m=\u001B[49m\u001B[43morder\u001B[49m\u001B[43m)\u001B[49m\n",
      "\u001B[36mFile \u001B[39m\u001B[32m~\\DEV\\Projects\\University\\6. Semester\\25ST-Bachelor-Researchproject\\.venv\\Lib\\site-packages\\jax\\_src\\numpy\\array_constructors.py:247\u001B[39m, in \u001B[36marray\u001B[39m\u001B[34m(object, dtype, copy, order, ndmin, device)\u001B[39m\n\u001B[32m    245\u001B[39m \u001B[38;5;28;01melif\u001B[39;00m \u001B[38;5;28misinstance\u001B[39m(\u001B[38;5;28mobject\u001B[39m, Array):\n\u001B[32m    246\u001B[39m   \u001B[38;5;28;01massert\u001B[39;00m \u001B[38;5;28mobject\u001B[39m.aval \u001B[38;5;129;01mis\u001B[39;00m \u001B[38;5;129;01mnot\u001B[39;00m \u001B[38;5;28;01mNone\u001B[39;00m\n\u001B[32m--> \u001B[39m\u001B[32m247\u001B[39m   out = \u001B[43mlax\u001B[49m\u001B[43m.\u001B[49m\u001B[43m_array_copy\u001B[49m\u001B[43m(\u001B[49m\u001B[38;5;28;43mobject\u001B[39;49m\u001B[43m)\u001B[49m \u001B[38;5;28;01mif\u001B[39;00m copy \u001B[38;5;28;01melse\u001B[39;00m \u001B[38;5;28mobject\u001B[39m\n\u001B[32m    248\u001B[39m \u001B[38;5;28;01melif\u001B[39;00m \u001B[38;5;28misinstance\u001B[39m(\u001B[38;5;28mobject\u001B[39m, (\u001B[38;5;28mlist\u001B[39m, \u001B[38;5;28mtuple\u001B[39m)):\n\u001B[32m    249\u001B[39m   \u001B[38;5;28;01mif\u001B[39;00m \u001B[38;5;28mobject\u001B[39m:\n",
      "\u001B[36mFile \u001B[39m\u001B[32m~\\DEV\\Projects\\University\\6. Semester\\25ST-Bachelor-Researchproject\\.venv\\Lib\\site-packages\\jax\\_src\\lax\\lax.py:8410\u001B[39m, in \u001B[36m_array_copy\u001B[39m\u001B[34m(arr)\u001B[39m\n\u001B[32m   8409\u001B[39m \u001B[38;5;28;01mdef\u001B[39;00m\u001B[38;5;250m \u001B[39m\u001B[34m_array_copy\u001B[39m(arr: ArrayLike) -> Array:\n\u001B[32m-> \u001B[39m\u001B[32m8410\u001B[39m   \u001B[38;5;28;01mreturn\u001B[39;00m \u001B[43mcopy_p\u001B[49m\u001B[43m.\u001B[49m\u001B[43mbind\u001B[49m\u001B[43m(\u001B[49m\u001B[43marr\u001B[49m\u001B[43m)\u001B[49m\n",
      "\u001B[36mFile \u001B[39m\u001B[32m~\\DEV\\Projects\\University\\6. Semester\\25ST-Bachelor-Researchproject\\.venv\\Lib\\site-packages\\jax\\_src\\core.py:576\u001B[39m, in \u001B[36mPrimitive.bind\u001B[39m\u001B[34m(self, *args, **params)\u001B[39m\n\u001B[32m    574\u001B[39m \u001B[38;5;28;01mdef\u001B[39;00m\u001B[38;5;250m \u001B[39m\u001B[34mbind\u001B[39m(\u001B[38;5;28mself\u001B[39m, *args, **params):\n\u001B[32m    575\u001B[39m   args = args \u001B[38;5;28;01mif\u001B[39;00m \u001B[38;5;28mself\u001B[39m.skip_canonicalization \u001B[38;5;28;01melse\u001B[39;00m \u001B[38;5;28mmap\u001B[39m(canonicalize_value, args)\n\u001B[32m--> \u001B[39m\u001B[32m576\u001B[39m   \u001B[38;5;28;01mreturn\u001B[39;00m \u001B[38;5;28;43mself\u001B[39;49m\u001B[43m.\u001B[49m\u001B[43m_true_bind\u001B[49m\u001B[43m(\u001B[49m\u001B[43m*\u001B[49m\u001B[43margs\u001B[49m\u001B[43m,\u001B[49m\u001B[43m \u001B[49m\u001B[43m*\u001B[49m\u001B[43m*\u001B[49m\u001B[43mparams\u001B[49m\u001B[43m)\u001B[49m\n",
      "\u001B[36mFile \u001B[39m\u001B[32m~\\DEV\\Projects\\University\\6. Semester\\25ST-Bachelor-Researchproject\\.venv\\Lib\\site-packages\\jax\\_src\\core.py:592\u001B[39m, in \u001B[36mPrimitive._true_bind\u001B[39m\u001B[34m(self, *args, **params)\u001B[39m\n\u001B[32m    590\u001B[39m trace_ctx.set_trace(eval_trace)\n\u001B[32m    591\u001B[39m \u001B[38;5;28;01mtry\u001B[39;00m:\n\u001B[32m--> \u001B[39m\u001B[32m592\u001B[39m   \u001B[38;5;28;01mreturn\u001B[39;00m \u001B[38;5;28;43mself\u001B[39;49m\u001B[43m.\u001B[49m\u001B[43mbind_with_trace\u001B[49m\u001B[43m(\u001B[49m\u001B[43mprev_trace\u001B[49m\u001B[43m,\u001B[49m\u001B[43m \u001B[49m\u001B[43margs\u001B[49m\u001B[43m,\u001B[49m\u001B[43m \u001B[49m\u001B[43mparams\u001B[49m\u001B[43m)\u001B[49m\n\u001B[32m    593\u001B[39m \u001B[38;5;28;01mfinally\u001B[39;00m:\n\u001B[32m    594\u001B[39m   trace_ctx.set_trace(prev_trace)\n",
      "\u001B[36mFile \u001B[39m\u001B[32m~\\DEV\\Projects\\University\\6. Semester\\25ST-Bachelor-Researchproject\\.venv\\Lib\\site-packages\\jax\\_src\\core.py:602\u001B[39m, in \u001B[36mPrimitive.bind_with_trace\u001B[39m\u001B[34m(self, trace, args, params)\u001B[39m\n\u001B[32m    599\u001B[39m   \u001B[38;5;28;01mwith\u001B[39;00m set_current_trace(trace):\n\u001B[32m    600\u001B[39m     \u001B[38;5;28;01mreturn\u001B[39;00m \u001B[38;5;28mself\u001B[39m.to_lojax(*args, **params)  \u001B[38;5;66;03m# type: ignore\u001B[39;00m\n\u001B[32m--> \u001B[39m\u001B[32m602\u001B[39m \u001B[38;5;28;01mreturn\u001B[39;00m \u001B[43mtrace\u001B[49m\u001B[43m.\u001B[49m\u001B[43mprocess_primitive\u001B[49m\u001B[43m(\u001B[49m\u001B[38;5;28;43mself\u001B[39;49m\u001B[43m,\u001B[49m\u001B[43m \u001B[49m\u001B[43margs\u001B[49m\u001B[43m,\u001B[49m\u001B[43m \u001B[49m\u001B[43mparams\u001B[49m\u001B[43m)\u001B[49m\n",
      "\u001B[36mFile \u001B[39m\u001B[32m~\\DEV\\Projects\\University\\6. Semester\\25ST-Bachelor-Researchproject\\.venv\\Lib\\site-packages\\jax\\_src\\core.py:1126\u001B[39m, in \u001B[36mEvalTrace.process_primitive\u001B[39m\u001B[34m(self, primitive, args, params)\u001B[39m\n\u001B[32m   1124\u001B[39m args = \u001B[38;5;28mmap\u001B[39m(full_lower, args)\n\u001B[32m   1125\u001B[39m check_eval_args(args)\n\u001B[32m-> \u001B[39m\u001B[32m1126\u001B[39m \u001B[38;5;28;01mreturn\u001B[39;00m \u001B[43mprimitive\u001B[49m\u001B[43m.\u001B[49m\u001B[43mimpl\u001B[49m\u001B[43m(\u001B[49m\u001B[43m*\u001B[49m\u001B[43margs\u001B[49m\u001B[43m,\u001B[49m\u001B[43m \u001B[49m\u001B[43m*\u001B[49m\u001B[43m*\u001B[49m\u001B[43mparams\u001B[49m\u001B[43m)\u001B[49m\n",
      "\u001B[36mFile \u001B[39m\u001B[32m~\\DEV\\Projects\\University\\6. Semester\\25ST-Bachelor-Researchproject\\.venv\\Lib\\site-packages\\jax\\_src\\lax\\lax.py:8451\u001B[39m, in \u001B[36m_copy_impl\u001B[39m\u001B[34m(prim, *args, **kwargs)\u001B[39m\n\u001B[32m   8449\u001B[39m     \u001B[38;5;28;01mreturn\u001B[39;00m dispatch.apply_primitive(prim, *args, **kwargs)\n\u001B[32m   8450\u001B[39m   \u001B[38;5;28;01mreturn\u001B[39;00m _copy_impl_pmap_sharding(sharded_dim, *args, **kwargs)\n\u001B[32m-> \u001B[39m\u001B[32m8451\u001B[39m \u001B[38;5;28;01mreturn\u001B[39;00m \u001B[43mdispatch\u001B[49m\u001B[43m.\u001B[49m\u001B[43mapply_primitive\u001B[49m\u001B[43m(\u001B[49m\u001B[43mprim\u001B[49m\u001B[43m,\u001B[49m\u001B[43m \u001B[49m\u001B[43m*\u001B[49m\u001B[43margs\u001B[49m\u001B[43m,\u001B[49m\u001B[43m \u001B[49m\u001B[43m*\u001B[49m\u001B[43m*\u001B[49m\u001B[43mkwargs\u001B[49m\u001B[43m)\u001B[49m\n",
      "\u001B[36mFile \u001B[39m\u001B[32m~\\DEV\\Projects\\University\\6. Semester\\25ST-Bachelor-Researchproject\\.venv\\Lib\\site-packages\\jax\\_src\\dispatch.py:91\u001B[39m, in \u001B[36mapply_primitive\u001B[39m\u001B[34m(prim, *args, **params)\u001B[39m\n\u001B[32m     89\u001B[39m prev = lib.jax_jit.swap_thread_local_state_disable_jit(\u001B[38;5;28;01mFalse\u001B[39;00m)\n\u001B[32m     90\u001B[39m \u001B[38;5;28;01mtry\u001B[39;00m:\n\u001B[32m---> \u001B[39m\u001B[32m91\u001B[39m   outs = \u001B[43mfun\u001B[49m\u001B[43m(\u001B[49m\u001B[43m*\u001B[49m\u001B[43margs\u001B[49m\u001B[43m)\u001B[49m\n\u001B[32m     92\u001B[39m \u001B[38;5;28;01mfinally\u001B[39;00m:\n\u001B[32m     93\u001B[39m   lib.jax_jit.swap_thread_local_state_disable_jit(prev)\n",
      "\u001B[31mKeyboardInterrupt\u001B[39m: "
     ]
    }
   ],
   "execution_count": 17
  },
  {
   "metadata": {
    "ExecuteTime": {
     "end_time": "2025-08-19T14:45:02.385057Z",
     "start_time": "2025-08-19T14:45:02.361502Z"
    }
   },
   "cell_type": "code",
   "source": [
    "for report in pipeline_manager.get_all_component_execution_reports():\n",
    "    print(f\"###### Report from node {report.component_instantiation_info.component_name} ({report.component_instantiation_info.component.component_id}) ######\")\n",
    "    print(report)\n",
    "    print(\"\\n\\n\")"
   ],
   "id": "2b008f4bac452b7c",
   "outputs": [
    {
     "name": "stdout",
     "output_type": "stream",
     "text": [
      "###### Report from node 0 (base input) ######\n",
      "PipelineComponentExecutionReport(component_instantiation_info=PipelineComponentInstantiationInfo(component_name='0', component=PipelineComponentInfo(component_id='base input', component_type=<class 'pipeline_entities.pipeline.component_entities.default_component_types.input_pipeline_component.InputPipelineComponent'>, component_class=<class 'pipeline_entities.pipeline.component_entities.default_components.default_input_components.base_input_pipeline_component.BaseInputPipelineComponent'>, component_meta_info=ComponentMetaInfo(attributes_modifying={'interpolation_interval', 'node_count', 'interpolant_evaluation_points', 'data_type'}, attributes_allowed_to_be_overridden={'interpolation_interval', 'node_count', 'interpolant_evaluation_points', 'data_type'}, pre_dynamic_constraints=[InputKeyRequiredConstraint(key='data_type'), InputKeyRequiredConstraint(key='node_count'), InputKeyRequiredConstraint(key='interpolation_interval'), InputKeyRequiredConstraint(key='interpolant_evaluation_points')], post_dynamic_constraints=[], static_constraints=[], allow_additional_value_modifications_outside_specification=True)), overridden_attributes={}), component_output=PipelineData(data_type=<class 'jax.numpy.float32'>, node_count=40, interpolation_interval=Array([-1,  1], dtype=int32), interpolant_evaluation_points=Array([-1,  0,  1], dtype=int32), function_callable=None, interpolation_nodes=None, interpolation_values=None, interpolant=None, interpolant_values=None, additional_values={'secret_token': 'abc123'}), component_init_time=3.6999699659645557e-06, component_execution_time=8.500006515532732e-06)\n",
      "\n",
      "\n",
      "\n",
      "###### Report from node 1 (chebyshev2 node generator) ######\n",
      "PipelineComponentExecutionReport(component_instantiation_info=PipelineComponentInstantiationInfo(component_name='1', component=PipelineComponentInfo(component_id='chebyshev2 node generator', component_type=<class 'pipeline_entities.pipeline.component_entities.default_component_types.node_generator.NodeGenerator'>, component_class=<class 'pipeline_entities.pipeline.component_entities.default_components.default_node_generators.second_type_chebyshev_node_generator.SecondTypeChebyshevNodeGenerator'>, component_meta_info=ComponentMetaInfo(attributes_modifying={'interpolation_nodes'}, attributes_allowed_to_be_overridden={'interpolation_interval', 'node_count', 'data_type'}, pre_dynamic_constraints=[], post_dynamic_constraints=[PipelineDataDtypeRequiredPostConstraint], static_constraints=[AttributeRequiredConstraint(attribute_name='data_type'), AttributeRequiredConstraint(attribute_name='node_count'), AttributeRequiredConstraint(attribute_name='interpolation_interval'), MinPredecessorsConstraint(min_amount=1), MaxPredecessorsConstraint(max_amount=1)], allow_additional_value_modifications_outside_specification=False)), overridden_attributes={}), component_output=PipelineData(data_type=<class 'jax.numpy.float32'>, node_count=40, interpolation_interval=Array([-1,  1], dtype=int32), interpolant_evaluation_points=Array([-1,  0,  1], dtype=int32), function_callable=None, interpolation_nodes=Array([ 1.        ,  0.9967573 ,  0.98705024,  0.97094184,  0.94853646,\n",
      "        0.91997945,  0.885456  ,  0.8451901 ,  0.79944277,  0.7485108 ,\n",
      "        0.69272435,  0.6324454 ,  0.5680647 ,  0.49999997,  0.42869255,\n",
      "        0.35460487,  0.27821746,  0.2000257 ,  0.12053668,  0.04026595,\n",
      "       -0.04026592, -0.12053666, -0.20002566, -0.27821743, -0.35460496,\n",
      "       -0.42869252, -0.50000006, -0.5680647 , -0.6324454 , -0.6927243 ,\n",
      "       -0.7485108 , -0.7994427 , -0.8451901 , -0.8854561 , -0.91997945,\n",
      "       -0.94853646, -0.97094184, -0.9870503 , -0.9967573 , -1.        ],      dtype=float32), interpolation_values=None, interpolant=None, interpolant_values=None, additional_values={'secret_token': 'abc123'}), component_init_time=0.03848370001651347, component_execution_time=0.00022679998073726892)\n",
      "\n",
      "\n",
      "\n",
      "###### Report from node 2 (function expression input) ######\n",
      "PipelineComponentExecutionReport(component_instantiation_info=PipelineComponentInstantiationInfo(component_name='2', component=PipelineComponentInfo(component_id='function expression input', component_type=<class 'pipeline_entities.pipeline.component_entities.default_component_types.input_pipeline_component.InputPipelineComponent'>, component_class=<class 'pipeline_entities.pipeline.component_entities.default_components.default_input_components.function_expression_input_component.FunctionExpressionInputComponent'>, component_meta_info=ComponentMetaInfo(attributes_modifying={'function_callable'}, attributes_allowed_to_be_overridden={'function_callable'}, pre_dynamic_constraints=[InputKeyRequiredConstraint(key='function_expression'), InputKeyRequiredConstraint(key='sympy_function_expression_simplification')], post_dynamic_constraints=[], static_constraints=[MinPredecessorsConstraint(min_amount=1), MaxPredecessorsConstraint(max_amount=1)], allow_additional_value_modifications_outside_specification=False)), overridden_attributes={}), component_output=PipelineData(data_type=<class 'jax.numpy.float32'>, node_count=40, interpolation_interval=Array([-1,  1], dtype=int32), interpolant_evaluation_points=Array([-1,  0,  1], dtype=int32), function_callable=<function _lambdifygenerated at 0x000001ACA6679300>, interpolation_nodes=Array([ 1.        ,  0.9967573 ,  0.98705024,  0.97094184,  0.94853646,\n",
      "        0.91997945,  0.885456  ,  0.8451901 ,  0.79944277,  0.7485108 ,\n",
      "        0.69272435,  0.6324454 ,  0.5680647 ,  0.49999997,  0.42869255,\n",
      "        0.35460487,  0.27821746,  0.2000257 ,  0.12053668,  0.04026595,\n",
      "       -0.04026592, -0.12053666, -0.20002566, -0.27821743, -0.35460496,\n",
      "       -0.42869252, -0.50000006, -0.5680647 , -0.6324454 , -0.6927243 ,\n",
      "       -0.7485108 , -0.7994427 , -0.8451901 , -0.8854561 , -0.91997945,\n",
      "       -0.94853646, -0.97094184, -0.9870503 , -0.9967573 , -1.        ],      dtype=float32), interpolation_values=None, interpolant=None, interpolant_values=None, additional_values={'secret_token': 'abc123'}), component_init_time=3.89997148886323e-06, component_execution_time=0.011788900010287762)\n",
      "\n",
      "\n",
      "\n",
      "###### Report from node 3 (interpolation values evaluator) ######\n",
      "PipelineComponentExecutionReport(component_instantiation_info=PipelineComponentInstantiationInfo(component_name='3', component=PipelineComponentInfo(component_id='interpolation values evaluator', component_type=<class 'pipeline_entities.pipeline.component_entities.default_component_types.evaluator_component.EvaluatorComponent'>, component_class=<class 'pipeline_entities.pipeline.component_entities.default_components.default_evaluation_components.interpolation_values_evaluator.InterpolationValuesEvaluator'>, component_meta_info=ComponentMetaInfo(attributes_modifying={'interpolation_values'}, attributes_allowed_to_be_overridden={'interpolation_nodes', 'function_callable', 'data_type'}, pre_dynamic_constraints=[], post_dynamic_constraints=[PipelineDataDtypeRequiredPostConstraint], static_constraints=[AttributeRequiredConstraint(attribute_name='data_type'), AttributeRequiredConstraint(attribute_name='function_callable'), AttributeRequiredConstraint(attribute_name='interpolation_nodes'), MinPredecessorsConstraint(min_amount=1), MaxPredecessorsConstraint(max_amount=1)], allow_additional_value_modifications_outside_specification=False)), overridden_attributes={}), component_output=PipelineData(data_type=<class 'jax.numpy.float32'>, node_count=40, interpolation_interval=Array([-1,  1], dtype=int32), interpolant_evaluation_points=Array([-1,  0,  1], dtype=int32), function_callable=<function _lambdifygenerated at 0x000001ACA6679300>, interpolation_nodes=Array([ 1.        ,  0.9967573 ,  0.98705024,  0.97094184,  0.94853646,\n",
      "        0.91997945,  0.885456  ,  0.8451901 ,  0.79944277,  0.7485108 ,\n",
      "        0.69272435,  0.6324454 ,  0.5680647 ,  0.49999997,  0.42869255,\n",
      "        0.35460487,  0.27821746,  0.2000257 ,  0.12053668,  0.04026595,\n",
      "       -0.04026592, -0.12053666, -0.20002566, -0.27821743, -0.35460496,\n",
      "       -0.42869252, -0.50000006, -0.5680647 , -0.6324454 , -0.6927243 ,\n",
      "       -0.7485108 , -0.7994427 , -0.8451901 , -0.8854561 , -0.91997945,\n",
      "       -0.94853646, -0.97094184, -0.9870503 , -0.9967573 , -1.        ],      dtype=float32), interpolation_values=Array([-0.5440211 , -0.51653147, -0.43111172, -0.28081226, -0.06054989,\n",
      "        0.22308998,  0.5398156 ,  0.8265084 ,  0.9901537 ,  0.932734  ,\n",
      "        0.6004454 ,  0.04125681, -0.5667357 , -0.9589244 , -0.9108475 ,\n",
      "       -0.3935187 ,  0.35172954,  0.9091904 ,  0.9339704 ,  0.39186653,\n",
      "       -0.39186627, -0.9339703 , -0.90919065, -0.35172978,  0.39351958,\n",
      "        0.9108475 ,  0.9589241 ,  0.5667357 , -0.04125681, -0.600445  ,\n",
      "       -0.932734  , -0.99015373, -0.8265084 , -0.53981483, -0.22308998,\n",
      "        0.06054989,  0.28081226,  0.43111172,  0.51653147,  0.5440211 ],      dtype=float32), interpolant=None, interpolant_values=None, additional_values={'secret_token': 'abc123'}), component_init_time=0.014831200009211898, component_execution_time=0.00026729999808594584)\n",
      "\n",
      "\n",
      "\n",
      "###### Report from node 8 (barycentric2 chebyshev interpolation) ######\n",
      "PipelineComponentExecutionReport(component_instantiation_info=PipelineComponentInstantiationInfo(component_name='8', component=PipelineComponentInfo(component_id='barycentric2 chebyshev interpolation', component_type=<class 'pipeline_entities.pipeline.component_entities.default_component_types.interpolation_core.InterpolationCore'>, component_class=<class 'pipeline_entities.pipeline.component_entities.default_components.default_interpolation_cores.barycentric_second_chebyshev_interpolation_core.BarycentricSecondChebyshevInterpolationCore'>, component_meta_info=ComponentMetaInfo(attributes_modifying={'interpolant'}, attributes_allowed_to_be_overridden={'interpolation_nodes', 'node_count', 'data_type', 'interpolation_values'}, pre_dynamic_constraints=[], post_dynamic_constraints=[], static_constraints=[AttributeRequiredConstraint(attribute_name='interpolation_nodes'), AttributeRequiredConstraint(attribute_name='interpolation_values'), AttributeRequiredConstraint(attribute_name='data_type'), AttributeRequiredConstraint(attribute_name='node_count'), MinPredecessorsConstraint(min_amount=1), MaxPredecessorsConstraint(max_amount=1)], allow_additional_value_modifications_outside_specification=False)), overridden_attributes={}), component_output=PipelineData(data_type=<class 'jax.numpy.float32'>, node_count=40, interpolation_interval=Array([-1,  1], dtype=int32), interpolant_evaluation_points=Array([-1,  0,  1], dtype=int32), function_callable=<function _lambdifygenerated at 0x000001ACA6679300>, interpolation_nodes=Array([ 1.        ,  0.9967573 ,  0.98705024,  0.97094184,  0.94853646,\n",
      "        0.91997945,  0.885456  ,  0.8451901 ,  0.79944277,  0.7485108 ,\n",
      "        0.69272435,  0.6324454 ,  0.5680647 ,  0.49999997,  0.42869255,\n",
      "        0.35460487,  0.27821746,  0.2000257 ,  0.12053668,  0.04026595,\n",
      "       -0.04026592, -0.12053666, -0.20002566, -0.27821743, -0.35460496,\n",
      "       -0.42869252, -0.50000006, -0.5680647 , -0.6324454 , -0.6927243 ,\n",
      "       -0.7485108 , -0.7994427 , -0.8451901 , -0.8854561 , -0.91997945,\n",
      "       -0.94853646, -0.97094184, -0.9870503 , -0.9967573 , -1.        ],      dtype=float32), interpolation_values=Array([-0.5440211 , -0.51653147, -0.43111172, -0.28081226, -0.06054989,\n",
      "        0.22308998,  0.5398156 ,  0.8265084 ,  0.9901537 ,  0.932734  ,\n",
      "        0.6004454 ,  0.04125681, -0.5667357 , -0.9589244 , -0.9108475 ,\n",
      "       -0.3935187 ,  0.35172954,  0.9091904 ,  0.9339704 ,  0.39186653,\n",
      "       -0.39186627, -0.9339703 , -0.90919065, -0.35172978,  0.39351958,\n",
      "        0.9108475 ,  0.9589241 ,  0.5667357 , -0.04125681, -0.600445  ,\n",
      "       -0.932734  , -0.99015373, -0.8265084 , -0.53981483, -0.22308998,\n",
      "        0.06054989,  0.28081226,  0.43111172,  0.51653147,  0.5440211 ],      dtype=float32), interpolant=BarycentricSecondInterpolant(nodes=Array([ 1.        ,  0.9967573 ,  0.98705024,  0.97094184,  0.94853646,\n",
      "        0.91997945,  0.885456  ,  0.8451901 ,  0.79944277,  0.7485108 ,\n",
      "        0.69272435,  0.6324454 ,  0.5680647 ,  0.49999997,  0.42869255,\n",
      "        0.35460487,  0.27821746,  0.2000257 ,  0.12053668,  0.04026595,\n",
      "       -0.04026592, -0.12053666, -0.20002566, -0.27821743, -0.35460496,\n",
      "       -0.42869252, -0.50000006, -0.5680647 , -0.6324454 , -0.6927243 ,\n",
      "       -0.7485108 , -0.7994427 , -0.8451901 , -0.8854561 , -0.91997945,\n",
      "       -0.94853646, -0.97094184, -0.9870503 , -0.9967573 , -1.        ],      dtype=float32), values=Array([-0.5440211 , -0.51653147, -0.43111172, -0.28081226, -0.06054989,\n",
      "        0.22308998,  0.5398156 ,  0.8265084 ,  0.9901537 ,  0.932734  ,\n",
      "        0.6004454 ,  0.04125681, -0.5667357 , -0.9589244 , -0.9108475 ,\n",
      "       -0.3935187 ,  0.35172954,  0.9091904 ,  0.9339704 ,  0.39186653,\n",
      "       -0.39186627, -0.9339703 , -0.90919065, -0.35172978,  0.39351958,\n",
      "        0.9108475 ,  0.9589241 ,  0.5667357 , -0.04125681, -0.600445  ,\n",
      "       -0.932734  , -0.99015373, -0.8265084 , -0.53981483, -0.22308998,\n",
      "        0.06054989,  0.28081226,  0.43111172,  0.51653147,  0.5440211 ],      dtype=float32), weights=Array([ 0.5, -1. ,  1. , -1. ,  1. , -1. ,  1. , -1. ,  1. , -1. ,  1. ,\n",
      "       -1. ,  1. , -1. ,  1. , -1. ,  1. , -1. ,  1. , -1. ,  1. , -1. ,\n",
      "        1. , -1. ,  1. , -1. ,  1. , -1. ,  1. , -1. ,  1. , -1. ,  1. ,\n",
      "       -1. ,  1. , -1. ,  1. , -1. ,  1. , -0.5], dtype=float32)), interpolant_values=None, additional_values={'secret_token': 'abc123'}), component_init_time=0.041995300038252026, component_execution_time=0.00020709994714707136)\n",
      "\n",
      "\n",
      "\n",
      "###### Report from node 7 (barycentric2 interpolation) ######\n",
      "PipelineComponentExecutionReport(component_instantiation_info=PipelineComponentInstantiationInfo(component_name='7', component=PipelineComponentInfo(component_id='barycentric2 interpolation', component_type=<class 'pipeline_entities.pipeline.component_entities.default_component_types.interpolation_core.InterpolationCore'>, component_class=<class 'pipeline_entities.pipeline.component_entities.default_components.default_interpolation_cores.barycentric_second_interpolation_core.BarycentricSecondInterpolationCore'>, component_meta_info=ComponentMetaInfo(attributes_modifying={'interpolant'}, attributes_allowed_to_be_overridden={'interpolation_nodes', 'node_count', 'data_type', 'interpolation_values'}, pre_dynamic_constraints=[], post_dynamic_constraints=[], static_constraints=[AttributeRequiredConstraint(attribute_name='interpolation_nodes'), AttributeRequiredConstraint(attribute_name='interpolation_values'), AttributeRequiredConstraint(attribute_name='data_type'), AttributeRequiredConstraint(attribute_name='node_count'), MinPredecessorsConstraint(min_amount=1), MaxPredecessorsConstraint(max_amount=1)], allow_additional_value_modifications_outside_specification=False)), overridden_attributes={}), component_output=PipelineData(data_type=<class 'jax.numpy.float32'>, node_count=40, interpolation_interval=Array([-1,  1], dtype=int32), interpolant_evaluation_points=Array([-1,  0,  1], dtype=int32), function_callable=<function _lambdifygenerated at 0x000001ACA6679300>, interpolation_nodes=Array([ 1.        ,  0.9967573 ,  0.98705024,  0.97094184,  0.94853646,\n",
      "        0.91997945,  0.885456  ,  0.8451901 ,  0.79944277,  0.7485108 ,\n",
      "        0.69272435,  0.6324454 ,  0.5680647 ,  0.49999997,  0.42869255,\n",
      "        0.35460487,  0.27821746,  0.2000257 ,  0.12053668,  0.04026595,\n",
      "       -0.04026592, -0.12053666, -0.20002566, -0.27821743, -0.35460496,\n",
      "       -0.42869252, -0.50000006, -0.5680647 , -0.6324454 , -0.6927243 ,\n",
      "       -0.7485108 , -0.7994427 , -0.8451901 , -0.8854561 , -0.91997945,\n",
      "       -0.94853646, -0.97094184, -0.9870503 , -0.9967573 , -1.        ],      dtype=float32), interpolation_values=Array([-0.5440211 , -0.51653147, -0.43111172, -0.28081226, -0.06054989,\n",
      "        0.22308998,  0.5398156 ,  0.8265084 ,  0.9901537 ,  0.932734  ,\n",
      "        0.6004454 ,  0.04125681, -0.5667357 , -0.9589244 , -0.9108475 ,\n",
      "       -0.3935187 ,  0.35172954,  0.9091904 ,  0.9339704 ,  0.39186653,\n",
      "       -0.39186627, -0.9339703 , -0.90919065, -0.35172978,  0.39351958,\n",
      "        0.9108475 ,  0.9589241 ,  0.5667357 , -0.04125681, -0.600445  ,\n",
      "       -0.932734  , -0.99015373, -0.8265084 , -0.53981483, -0.22308998,\n",
      "        0.06054989,  0.28081226,  0.43111172,  0.51653147,  0.5440211 ],      dtype=float32), interpolant=BarycentricSecondInterpolant(nodes=Array([ 1.        ,  0.9967573 ,  0.98705024,  0.97094184,  0.94853646,\n",
      "        0.91997945,  0.885456  ,  0.8451901 ,  0.79944277,  0.7485108 ,\n",
      "        0.69272435,  0.6324454 ,  0.5680647 ,  0.49999997,  0.42869255,\n",
      "        0.35460487,  0.27821746,  0.2000257 ,  0.12053668,  0.04026595,\n",
      "       -0.04026592, -0.12053666, -0.20002566, -0.27821743, -0.35460496,\n",
      "       -0.42869252, -0.50000006, -0.5680647 , -0.6324454 , -0.6927243 ,\n",
      "       -0.7485108 , -0.7994427 , -0.8451901 , -0.8854561 , -0.91997945,\n",
      "       -0.94853646, -0.97094184, -0.9870503 , -0.9967573 , -1.        ],      dtype=float32), values=Array([-0.5440211 , -0.51653147, -0.43111172, -0.28081226, -0.06054989,\n",
      "        0.22308998,  0.5398156 ,  0.8265084 ,  0.9901537 ,  0.932734  ,\n",
      "        0.6004454 ,  0.04125681, -0.5667357 , -0.9589244 , -0.9108475 ,\n",
      "       -0.3935187 ,  0.35172954,  0.9091904 ,  0.9339704 ,  0.39186653,\n",
      "       -0.39186627, -0.9339703 , -0.90919065, -0.35172978,  0.39351958,\n",
      "        0.9108475 ,  0.9589241 ,  0.5667357 , -0.04125681, -0.600445  ,\n",
      "       -0.932734  , -0.99015373, -0.8265084 , -0.53981483, -0.22308998,\n",
      "        0.06054989,  0.28081226,  0.43111172,  0.51653147,  0.5440211 ],      dtype=float32), weights=Array([ 3.5240955e+09, -7.0481556e+09,  7.0481475e+09, -7.0481674e+09,\n",
      "        7.0481551e+09, -7.0481454e+09,  7.0481516e+09, -7.0481521e+09,\n",
      "        7.0481485e+09, -7.0481444e+09,  7.0481398e+09, -7.0481403e+09,\n",
      "        7.0481434e+09, -7.0481536e+09,  7.0481541e+09, -7.0481541e+09,\n",
      "        7.0481577e+09, -7.0481541e+09,  7.0481531e+09, -7.0481541e+09,\n",
      "        7.0481536e+09, -7.0481485e+09,  7.0481521e+09, -7.0481423e+09,\n",
      "        7.0481459e+09, -7.0481505e+09,  7.0481516e+09, -7.0481562e+09,\n",
      "        7.0481505e+09, -7.0481444e+09,  7.0481418e+09, -7.0481362e+09,\n",
      "        7.0481254e+09, -7.0481413e+09,  7.0481485e+09, -7.0481418e+09,\n",
      "        7.0481418e+09, -7.0481592e+09,  7.0481951e+09, -3.5241124e+09],      dtype=float32)), interpolant_values=None, additional_values={'secret_token': 'abc123'}), component_init_time=0.0727321999729611, component_execution_time=0.00022230000467970967)\n",
      "\n",
      "\n",
      "\n",
      "###### Report from node 6 (barycentric1 interpolation) ######\n",
      "PipelineComponentExecutionReport(component_instantiation_info=PipelineComponentInstantiationInfo(component_name='6', component=PipelineComponentInfo(component_id='barycentric1 interpolation', component_type=<class 'pipeline_entities.pipeline.component_entities.default_component_types.interpolation_core.InterpolationCore'>, component_class=<class 'pipeline_entities.pipeline.component_entities.default_components.default_interpolation_cores.barycentric_first_interpolation_core.BarycentricFirstInterpolationCore'>, component_meta_info=ComponentMetaInfo(attributes_modifying={'interpolant'}, attributes_allowed_to_be_overridden={'interpolation_nodes', 'node_count', 'data_type', 'interpolation_values'}, pre_dynamic_constraints=[], post_dynamic_constraints=[], static_constraints=[AttributeRequiredConstraint(attribute_name='interpolation_nodes'), AttributeRequiredConstraint(attribute_name='interpolation_values'), AttributeRequiredConstraint(attribute_name='data_type'), AttributeRequiredConstraint(attribute_name='node_count'), MinPredecessorsConstraint(min_amount=1), MaxPredecessorsConstraint(max_amount=1)], allow_additional_value_modifications_outside_specification=False)), overridden_attributes={}), component_output=PipelineData(data_type=<class 'jax.numpy.float32'>, node_count=40, interpolation_interval=Array([-1,  1], dtype=int32), interpolant_evaluation_points=Array([-1,  0,  1], dtype=int32), function_callable=<function _lambdifygenerated at 0x000001ACA6679300>, interpolation_nodes=Array([ 1.        ,  0.9967573 ,  0.98705024,  0.97094184,  0.94853646,\n",
      "        0.91997945,  0.885456  ,  0.8451901 ,  0.79944277,  0.7485108 ,\n",
      "        0.69272435,  0.6324454 ,  0.5680647 ,  0.49999997,  0.42869255,\n",
      "        0.35460487,  0.27821746,  0.2000257 ,  0.12053668,  0.04026595,\n",
      "       -0.04026592, -0.12053666, -0.20002566, -0.27821743, -0.35460496,\n",
      "       -0.42869252, -0.50000006, -0.5680647 , -0.6324454 , -0.6927243 ,\n",
      "       -0.7485108 , -0.7994427 , -0.8451901 , -0.8854561 , -0.91997945,\n",
      "       -0.94853646, -0.97094184, -0.9870503 , -0.9967573 , -1.        ],      dtype=float32), interpolation_values=Array([-0.5440211 , -0.51653147, -0.43111172, -0.28081226, -0.06054989,\n",
      "        0.22308998,  0.5398156 ,  0.8265084 ,  0.9901537 ,  0.932734  ,\n",
      "        0.6004454 ,  0.04125681, -0.5667357 , -0.9589244 , -0.9108475 ,\n",
      "       -0.3935187 ,  0.35172954,  0.9091904 ,  0.9339704 ,  0.39186653,\n",
      "       -0.39186627, -0.9339703 , -0.90919065, -0.35172978,  0.39351958,\n",
      "        0.9108475 ,  0.9589241 ,  0.5667357 , -0.04125681, -0.600445  ,\n",
      "       -0.932734  , -0.99015373, -0.8265084 , -0.53981483, -0.22308998,\n",
      "        0.06054989,  0.28081226,  0.43111172,  0.51653147,  0.5440211 ],      dtype=float32), interpolant=BarycentricFirstInterpolant(nodes=Array([ 1.        ,  0.9967573 ,  0.98705024,  0.97094184,  0.94853646,\n",
      "        0.91997945,  0.885456  ,  0.8451901 ,  0.79944277,  0.7485108 ,\n",
      "        0.69272435,  0.6324454 ,  0.5680647 ,  0.49999997,  0.42869255,\n",
      "        0.35460487,  0.27821746,  0.2000257 ,  0.12053668,  0.04026595,\n",
      "       -0.04026592, -0.12053666, -0.20002566, -0.27821743, -0.35460496,\n",
      "       -0.42869252, -0.50000006, -0.5680647 , -0.6324454 , -0.6927243 ,\n",
      "       -0.7485108 , -0.7994427 , -0.8451901 , -0.8854561 , -0.91997945,\n",
      "       -0.94853646, -0.97094184, -0.9870503 , -0.9967573 , -1.        ],      dtype=float32), values=Array([-0.5440211 , -0.51653147, -0.43111172, -0.28081226, -0.06054989,\n",
      "        0.22308998,  0.5398156 ,  0.8265084 ,  0.9901537 ,  0.932734  ,\n",
      "        0.6004454 ,  0.04125681, -0.5667357 , -0.9589244 , -0.9108475 ,\n",
      "       -0.3935187 ,  0.35172954,  0.9091904 ,  0.9339704 ,  0.39186653,\n",
      "       -0.39186627, -0.9339703 , -0.90919065, -0.35172978,  0.39351958,\n",
      "        0.9108475 ,  0.9589241 ,  0.5667357 , -0.04125681, -0.600445  ,\n",
      "       -0.932734  , -0.99015373, -0.8265084 , -0.53981483, -0.22308998,\n",
      "        0.06054989,  0.28081226,  0.43111172,  0.51653147,  0.5440211 ],      dtype=float32), weights=Array([ 3.5240955e+09, -7.0481556e+09,  7.0481475e+09, -7.0481674e+09,\n",
      "        7.0481551e+09, -7.0481454e+09,  7.0481516e+09, -7.0481521e+09,\n",
      "        7.0481485e+09, -7.0481444e+09,  7.0481398e+09, -7.0481403e+09,\n",
      "        7.0481434e+09, -7.0481536e+09,  7.0481541e+09, -7.0481541e+09,\n",
      "        7.0481577e+09, -7.0481541e+09,  7.0481531e+09, -7.0481541e+09,\n",
      "        7.0481536e+09, -7.0481485e+09,  7.0481521e+09, -7.0481423e+09,\n",
      "        7.0481459e+09, -7.0481505e+09,  7.0481516e+09, -7.0481562e+09,\n",
      "        7.0481505e+09, -7.0481444e+09,  7.0481418e+09, -7.0481362e+09,\n",
      "        7.0481254e+09, -7.0481413e+09,  7.0481485e+09, -7.0481418e+09,\n",
      "        7.0481418e+09, -7.0481592e+09,  7.0481951e+09, -3.5241124e+09],      dtype=float32)), interpolant_values=None, additional_values={'secret_token': 'abc123'}), component_init_time=0.06586910004261881, component_execution_time=0.00020870001753792167)\n",
      "\n",
      "\n",
      "\n",
      "###### Report from node 5 (newton interpolation) ######\n",
      "PipelineComponentExecutionReport(component_instantiation_info=PipelineComponentInstantiationInfo(component_name='5', component=PipelineComponentInfo(component_id='newton interpolation', component_type=<class 'pipeline_entities.pipeline.component_entities.default_component_types.interpolation_core.InterpolationCore'>, component_class=<class 'pipeline_entities.pipeline.component_entities.default_components.default_interpolation_cores.newton_interpolation_core.NewtonInterpolationCore'>, component_meta_info=ComponentMetaInfo(attributes_modifying={'interpolant'}, attributes_allowed_to_be_overridden={'interpolation_nodes', 'node_count', 'data_type', 'interpolation_values'}, pre_dynamic_constraints=[], post_dynamic_constraints=[], static_constraints=[AttributeRequiredConstraint(attribute_name='interpolation_nodes'), AttributeRequiredConstraint(attribute_name='interpolation_values'), AttributeRequiredConstraint(attribute_name='data_type'), AttributeRequiredConstraint(attribute_name='node_count'), MinPredecessorsConstraint(min_amount=1), MaxPredecessorsConstraint(max_amount=1)], allow_additional_value_modifications_outside_specification=False)), overridden_attributes={}), component_output=PipelineData(data_type=<class 'jax.numpy.float32'>, node_count=40, interpolation_interval=Array([-1,  1], dtype=int32), interpolant_evaluation_points=Array([-1,  0,  1], dtype=int32), function_callable=<function _lambdifygenerated at 0x000001ACA6679300>, interpolation_nodes=Array([ 1.        ,  0.9967573 ,  0.98705024,  0.97094184,  0.94853646,\n",
      "        0.91997945,  0.885456  ,  0.8451901 ,  0.79944277,  0.7485108 ,\n",
      "        0.69272435,  0.6324454 ,  0.5680647 ,  0.49999997,  0.42869255,\n",
      "        0.35460487,  0.27821746,  0.2000257 ,  0.12053668,  0.04026595,\n",
      "       -0.04026592, -0.12053666, -0.20002566, -0.27821743, -0.35460496,\n",
      "       -0.42869252, -0.50000006, -0.5680647 , -0.6324454 , -0.6927243 ,\n",
      "       -0.7485108 , -0.7994427 , -0.8451901 , -0.8854561 , -0.91997945,\n",
      "       -0.94853646, -0.97094184, -0.9870503 , -0.9967573 , -1.        ],      dtype=float32), interpolation_values=Array([-0.5440211 , -0.51653147, -0.43111172, -0.28081226, -0.06054989,\n",
      "        0.22308998,  0.5398156 ,  0.8265084 ,  0.9901537 ,  0.932734  ,\n",
      "        0.6004454 ,  0.04125681, -0.5667357 , -0.9589244 , -0.9108475 ,\n",
      "       -0.3935187 ,  0.35172954,  0.9091904 ,  0.9339704 ,  0.39186653,\n",
      "       -0.39186627, -0.9339703 , -0.90919065, -0.35172978,  0.39351958,\n",
      "        0.9108475 ,  0.9589241 ,  0.5667357 , -0.04125681, -0.600445  ,\n",
      "       -0.932734  , -0.99015373, -0.8265084 , -0.53981483, -0.22308998,\n",
      "        0.06054989,  0.28081226,  0.43111172,  0.51653147,  0.5440211 ],      dtype=float32), interpolant=NewtonInterpolant(divided_differences=Array([-5.4402113e-01, -8.4774733e+00,  2.4884724e+01,  1.4881078e+02,\n",
      "       -1.5930045e+02, -8.6356030e+02, -4.6042377e+02, -2.9381255e+03,\n",
      "       -2.6200420e+04, -1.1517043e+05, -3.8640531e+05, -1.0851134e+06,\n",
      "       -2.5819922e+06, -5.2608860e+06, -9.3077020e+06, -1.4486252e+07,\n",
      "       -2.0053950e+07, -2.4930298e+07, -2.8069780e+07, -2.8845214e+07,\n",
      "       -2.7243158e+07, -2.3798002e+07, -1.9338936e+07, -1.4697036e+07,\n",
      "       -1.0496224e+07, -7.0755210e+06, -4.5199855e+06, -2.7460250e+06,\n",
      "       -1.5913735e+06, -8.8180106e+05, -4.6789062e+05, -2.3776853e+05,\n",
      "       -1.1547686e+05, -5.3271543e+04, -2.3007273e+04, -8.9855361e+03,\n",
      "       -2.8692456e+03, -4.1282767e+02,  5.3992957e+02,  2.1749531e+03],      dtype=float32), nodes=Array([ 1.        ,  0.9967573 ,  0.98705024,  0.97094184,  0.94853646,\n",
      "        0.91997945,  0.885456  ,  0.8451901 ,  0.79944277,  0.7485108 ,\n",
      "        0.69272435,  0.6324454 ,  0.5680647 ,  0.49999997,  0.42869255,\n",
      "        0.35460487,  0.27821746,  0.2000257 ,  0.12053668,  0.04026595,\n",
      "       -0.04026592, -0.12053666, -0.20002566, -0.27821743, -0.35460496,\n",
      "       -0.42869252, -0.50000006, -0.5680647 , -0.6324454 , -0.6927243 ,\n",
      "       -0.7485108 , -0.7994427 , -0.8451901 , -0.8854561 , -0.91997945,\n",
      "       -0.94853646, -0.97094184, -0.9870503 , -0.9967573 , -1.        ],      dtype=float32)), interpolant_values=None, additional_values={'secret_token': 'abc123'}), component_init_time=0.05993629997828975, component_execution_time=0.00020569999469444156)\n",
      "\n",
      "\n",
      "\n",
      "###### Report from node 4 (aitken neville interpolation) ######\n",
      "PipelineComponentExecutionReport(component_instantiation_info=PipelineComponentInstantiationInfo(component_name='4', component=PipelineComponentInfo(component_id='aitken neville interpolation', component_type=<class 'pipeline_entities.pipeline.component_entities.default_component_types.interpolation_core.InterpolationCore'>, component_class=<class 'pipeline_entities.pipeline.component_entities.default_components.default_interpolation_cores.aitken_neville_interpolation_core.AitkenNevilleInterpolationCore'>, component_meta_info=ComponentMetaInfo(attributes_modifying={'interpolant'}, attributes_allowed_to_be_overridden={'interpolation_nodes', 'node_count', 'data_type', 'interpolation_values'}, pre_dynamic_constraints=[], post_dynamic_constraints=[], static_constraints=[AttributeRequiredConstraint(attribute_name='interpolation_nodes'), AttributeRequiredConstraint(attribute_name='interpolation_values'), AttributeRequiredConstraint(attribute_name='data_type'), AttributeRequiredConstraint(attribute_name='node_count'), MinPredecessorsConstraint(min_amount=1), MaxPredecessorsConstraint(max_amount=1)], allow_additional_value_modifications_outside_specification=False)), overridden_attributes={}), component_output=PipelineData(data_type=<class 'jax.numpy.float32'>, node_count=40, interpolation_interval=Array([-1,  1], dtype=int32), interpolant_evaluation_points=Array([-1,  0,  1], dtype=int32), function_callable=<function _lambdifygenerated at 0x000001ACA6679300>, interpolation_nodes=Array([ 1.        ,  0.9967573 ,  0.98705024,  0.97094184,  0.94853646,\n",
      "        0.91997945,  0.885456  ,  0.8451901 ,  0.79944277,  0.7485108 ,\n",
      "        0.69272435,  0.6324454 ,  0.5680647 ,  0.49999997,  0.42869255,\n",
      "        0.35460487,  0.27821746,  0.2000257 ,  0.12053668,  0.04026595,\n",
      "       -0.04026592, -0.12053666, -0.20002566, -0.27821743, -0.35460496,\n",
      "       -0.42869252, -0.50000006, -0.5680647 , -0.6324454 , -0.6927243 ,\n",
      "       -0.7485108 , -0.7994427 , -0.8451901 , -0.8854561 , -0.91997945,\n",
      "       -0.94853646, -0.97094184, -0.9870503 , -0.9967573 , -1.        ],      dtype=float32), interpolation_values=Array([-0.5440211 , -0.51653147, -0.43111172, -0.28081226, -0.06054989,\n",
      "        0.22308998,  0.5398156 ,  0.8265084 ,  0.9901537 ,  0.932734  ,\n",
      "        0.6004454 ,  0.04125681, -0.5667357 , -0.9589244 , -0.9108475 ,\n",
      "       -0.3935187 ,  0.35172954,  0.9091904 ,  0.9339704 ,  0.39186653,\n",
      "       -0.39186627, -0.9339703 , -0.90919065, -0.35172978,  0.39351958,\n",
      "        0.9108475 ,  0.9589241 ,  0.5667357 , -0.04125681, -0.600445  ,\n",
      "       -0.932734  , -0.99015373, -0.8265084 , -0.53981483, -0.22308998,\n",
      "        0.06054989,  0.28081226,  0.43111172,  0.51653147,  0.5440211 ],      dtype=float32), interpolant=AitkenNevilleInterpolant(coefficients=Array([-2.9269497e-08,  9.9999990e+00,  6.8458176e-06, -1.6666663e+02,\n",
      "       -1.1470711e-03,  8.3332776e+02,  4.3391902e-02, -1.9839150e+03,\n",
      "       -6.8117225e-01,  2.7511133e+03,  5.2156897e+00, -2.4422676e+03,\n",
      "       -1.1256149e+01,  1.0256487e+03, -1.4374615e+02,  3.0556360e+03,\n",
      "        1.6236763e+03, -1.8193178e+04, -9.1446123e+03,  6.6547406e+04,\n",
      "        3.2867020e+04, -1.8544223e+05, -9.0618891e+04,  3.9004544e+05,\n",
      "        1.7708541e+05, -6.3815462e+05, -2.6912281e+05,  7.9934481e+05,\n",
      "        3.0318147e+05, -7.6233144e+05, -2.5323589e+05,  5.4414869e+05,\n",
      "        1.5144262e+05, -2.8155288e+05, -6.1370727e+04,  9.9717000e+04,\n",
      "        1.5072051e+04, -2.1650877e+04, -1.6945933e+03,  2.1749531e+03],      dtype=float32)), interpolant_values=None, additional_values={'secret_token': 'abc123'}), component_init_time=0.0925899000139907, component_execution_time=0.0004243000294081867)\n",
      "\n",
      "\n",
      "\n",
      "###### Report from node 10 (error plotter) ######\n",
      "PipelineComponentExecutionReport(component_instantiation_info=PipelineComponentInstantiationInfo(component_name='10', component=PipelineComponentInfo(component_id='error plotter', component_type=<class 'pipeline_entities.pipeline.component_entities.default_component_types.interpolation_core.InterpolationCore'>, component_class=<class 'pipeline_entities.pipeline.component_entities.default_components.default_plotting_components.error_plot_component.ErrorPlotComponent'>, component_meta_info=ComponentMetaInfo(attributes_modifying=set(), attributes_allowed_to_be_overridden={'y_log_scale'}, pre_dynamic_constraints=[], post_dynamic_constraints=[], static_constraints=[AttributeRequiredConstraint(attribute_name='interpolation_interval'), AttributeRequiredConstraint(attribute_name='function_callable'), AttributeRequiredConstraint(attribute_name='interpolation_nodes'), AttributeRequiredConstraint(attribute_name='interpolant')], allow_additional_value_modifications_outside_specification=False)), overridden_attributes={'y_log_scale': False}), component_output=PipelineData(data_type=<class 'jax.numpy.float32'>, node_count=40, interpolation_interval=Array([-1,  1], dtype=int32), interpolant_evaluation_points=Array([-1,  0,  1], dtype=int32), function_callable=<function _lambdifygenerated at 0x000001ACA6679300>, interpolation_nodes=Array([ 1.        ,  0.9967573 ,  0.98705024,  0.97094184,  0.94853646,\n",
      "        0.91997945,  0.885456  ,  0.8451901 ,  0.79944277,  0.7485108 ,\n",
      "        0.69272435,  0.6324454 ,  0.5680647 ,  0.49999997,  0.42869255,\n",
      "        0.35460487,  0.27821746,  0.2000257 ,  0.12053668,  0.04026595,\n",
      "       -0.04026592, -0.12053666, -0.20002566, -0.27821743, -0.35460496,\n",
      "       -0.42869252, -0.50000006, -0.5680647 , -0.6324454 , -0.6927243 ,\n",
      "       -0.7485108 , -0.7994427 , -0.8451901 , -0.8854561 , -0.91997945,\n",
      "       -0.94853646, -0.97094184, -0.9870503 , -0.9967573 , -1.        ],      dtype=float32), interpolation_values=Array([-0.5440211 , -0.51653147, -0.43111172, -0.28081226, -0.06054989,\n",
      "        0.22308998,  0.5398156 ,  0.8265084 ,  0.9901537 ,  0.932734  ,\n",
      "        0.6004454 ,  0.04125681, -0.5667357 , -0.9589244 , -0.9108475 ,\n",
      "       -0.3935187 ,  0.35172954,  0.9091904 ,  0.9339704 ,  0.39186653,\n",
      "       -0.39186627, -0.9339703 , -0.90919065, -0.35172978,  0.39351958,\n",
      "        0.9108475 ,  0.9589241 ,  0.5667357 , -0.04125681, -0.600445  ,\n",
      "       -0.932734  , -0.99015373, -0.8265084 , -0.53981483, -0.22308998,\n",
      "        0.06054989,  0.28081226,  0.43111172,  0.51653147,  0.5440211 ],      dtype=float32), interpolant=AitkenNevilleInterpolant(coefficients=Array([-2.9269497e-08,  9.9999990e+00,  6.8458176e-06, -1.6666663e+02,\n",
      "       -1.1470711e-03,  8.3332776e+02,  4.3391902e-02, -1.9839150e+03,\n",
      "       -6.8117225e-01,  2.7511133e+03,  5.2156897e+00, -2.4422676e+03,\n",
      "       -1.1256149e+01,  1.0256487e+03, -1.4374615e+02,  3.0556360e+03,\n",
      "        1.6236763e+03, -1.8193178e+04, -9.1446123e+03,  6.6547406e+04,\n",
      "        3.2867020e+04, -1.8544223e+05, -9.0618891e+04,  3.9004544e+05,\n",
      "        1.7708541e+05, -6.3815462e+05, -2.6912281e+05,  7.9934481e+05,\n",
      "        3.0318147e+05, -7.6233144e+05, -2.5323589e+05,  5.4414869e+05,\n",
      "        1.5144262e+05, -2.8155288e+05, -6.1370727e+04,  9.9717000e+04,\n",
      "        1.5072051e+04, -2.1650877e+04, -1.6945933e+03,  2.1749531e+03],      dtype=float32)), interpolant_values=None, additional_values={'secret_token': 'abc123'}), component_init_time=3.89997148886323e-06, component_execution_time=1.688200400036294)\n",
      "\n",
      "\n",
      "\n",
      "###### Report from node 9 (interpolant plotter) ######\n",
      "PipelineComponentExecutionReport(component_instantiation_info=PipelineComponentInstantiationInfo(component_name='9', component=PipelineComponentInfo(component_id='interpolant plotter', component_type=<class 'pipeline_entities.pipeline.component_entities.default_component_types.interpolation_core.InterpolationCore'>, component_class=<class 'pipeline_entities.pipeline.component_entities.default_components.default_plotting_components.interpolants_plot_component.InterpolantsPlotComponent'>, component_meta_info=ComponentMetaInfo(attributes_modifying=set(), attributes_allowed_to_be_overridden=set(), pre_dynamic_constraints=[], post_dynamic_constraints=[], static_constraints=[AttributeRequiredConstraint(attribute_name='interpolation_interval'), AttributeRequiredConstraint(attribute_name='function_callable'), AttributeRequiredConstraint(attribute_name='interpolation_nodes'), AttributeRequiredConstraint(attribute_name='interpolant')], allow_additional_value_modifications_outside_specification=False)), overridden_attributes={}), component_output=PipelineData(data_type=<class 'jax.numpy.float32'>, node_count=40, interpolation_interval=Array([-1,  1], dtype=int32), interpolant_evaluation_points=Array([-1,  0,  1], dtype=int32), function_callable=<function _lambdifygenerated at 0x000001ACA6679300>, interpolation_nodes=Array([ 1.        ,  0.9967573 ,  0.98705024,  0.97094184,  0.94853646,\n",
      "        0.91997945,  0.885456  ,  0.8451901 ,  0.79944277,  0.7485108 ,\n",
      "        0.69272435,  0.6324454 ,  0.5680647 ,  0.49999997,  0.42869255,\n",
      "        0.35460487,  0.27821746,  0.2000257 ,  0.12053668,  0.04026595,\n",
      "       -0.04026592, -0.12053666, -0.20002566, -0.27821743, -0.35460496,\n",
      "       -0.42869252, -0.50000006, -0.5680647 , -0.6324454 , -0.6927243 ,\n",
      "       -0.7485108 , -0.7994427 , -0.8451901 , -0.8854561 , -0.91997945,\n",
      "       -0.94853646, -0.97094184, -0.9870503 , -0.9967573 , -1.        ],      dtype=float32), interpolation_values=Array([-0.5440211 , -0.51653147, -0.43111172, -0.28081226, -0.06054989,\n",
      "        0.22308998,  0.5398156 ,  0.8265084 ,  0.9901537 ,  0.932734  ,\n",
      "        0.6004454 ,  0.04125681, -0.5667357 , -0.9589244 , -0.9108475 ,\n",
      "       -0.3935187 ,  0.35172954,  0.9091904 ,  0.9339704 ,  0.39186653,\n",
      "       -0.39186627, -0.9339703 , -0.90919065, -0.35172978,  0.39351958,\n",
      "        0.9108475 ,  0.9589241 ,  0.5667357 , -0.04125681, -0.600445  ,\n",
      "       -0.932734  , -0.99015373, -0.8265084 , -0.53981483, -0.22308998,\n",
      "        0.06054989,  0.28081226,  0.43111172,  0.51653147,  0.5440211 ],      dtype=float32), interpolant=AitkenNevilleInterpolant(coefficients=Array([-2.9269497e-08,  9.9999990e+00,  6.8458176e-06, -1.6666663e+02,\n",
      "       -1.1470711e-03,  8.3332776e+02,  4.3391902e-02, -1.9839150e+03,\n",
      "       -6.8117225e-01,  2.7511133e+03,  5.2156897e+00, -2.4422676e+03,\n",
      "       -1.1256149e+01,  1.0256487e+03, -1.4374615e+02,  3.0556360e+03,\n",
      "        1.6236763e+03, -1.8193178e+04, -9.1446123e+03,  6.6547406e+04,\n",
      "        3.2867020e+04, -1.8544223e+05, -9.0618891e+04,  3.9004544e+05,\n",
      "        1.7708541e+05, -6.3815462e+05, -2.6912281e+05,  7.9934481e+05,\n",
      "        3.0318147e+05, -7.6233144e+05, -2.5323589e+05,  5.4414869e+05,\n",
      "        1.5144262e+05, -2.8155288e+05, -6.1370727e+04,  9.9717000e+04,\n",
      "        1.5072051e+04, -2.1650877e+04, -1.6945933e+03,  2.1749531e+03],      dtype=float32)), interpolant_values=None, additional_values={'secret_token': 'abc123'}), component_init_time=4.600035026669502e-06, component_execution_time=1.8522923999698833)\n",
      "\n",
      "\n",
      "\n"
     ]
    }
   ],
   "execution_count": 14
  }
 ],
 "metadata": {
  "kernelspec": {
   "display_name": "Python 3",
   "language": "python",
   "name": "python3"
  },
  "language_info": {
   "codemirror_mode": {
    "name": "ipython",
    "version": 2
   },
   "file_extension": ".py",
   "mimetype": "text/x-python",
   "name": "python",
   "nbconvert_exporter": "python",
   "pygments_lexer": "ipython2",
   "version": "2.7.6"
  }
 },
 "nbformat": 4,
 "nbformat_minor": 5
}
