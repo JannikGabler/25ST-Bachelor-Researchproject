{
 "cells": [
  {
   "metadata": {
    "ExecuteTime": {
     "end_time": "2025-06-29T13:02:05.577330Z",
     "start_time": "2025-06-29T13:02:05.574337Z"
    }
   },
   "cell_type": "code",
   "source": "from __future__ import annotations",
   "id": "5d56bfd1d3422338",
   "outputs": [],
   "execution_count": 58
  },
  {
   "metadata": {},
   "cell_type": "markdown",
   "source": "#### DAG Class",
   "id": "b9ce2ec5d8bd90d1"
  },
  {
   "metadata": {
    "ExecuteTime": {
     "end_time": "2025-06-29T13:02:05.599850Z",
     "start_time": "2025-06-29T13:02:05.594582Z"
    }
   },
   "cell_type": "code",
   "source": [
    "class DAGNode:\n",
    "    _name_: str\n",
    "    _incoming_edges_: list[DAGNode]\n",
    "    _outgoing_edges_: list[DAGNode]\n",
    "\n",
    "    def __init__(self, name: str):\n",
    "        self._name_ = name\n",
    "        self._outgoing_edges_ = []\n",
    "\n",
    "    def add_outgoing_edge(self, node: DAGNode):\n",
    "        node._incoming_edges_.append(self)\n",
    "        self._outgoing_edges_.append(node)\n",
    "\n",
    "\n",
    "    @property\n",
    "    def name(self):\n",
    "        return self._name_\n",
    "\n",
    "    @property\n",
    "    def outgoing_edges(self):\n",
    "        return self._outgoing_edges_\n",
    "\n",
    "\n",
    "\n",
    "    def draw(self) -> str:\n",
    "        node_queue: list[DAGNode] = [self]\n",
    "        positions: dict[DAGNode, tuple[int, int]] = {self: (0, 0)}\n",
    "\n",
    "        while node_queue:\n",
    "            current_node: DAGNode = node_queue.pop()\n",
    "\n",
    "\n",
    "            for adjacent_nodes in current_node.outgoing_edges:\n",
    "\n",
    "\n",
    "\n",
    "\n",
    "\n",
    "\n",
    "\n",
    "\n",
    "\n"
   ],
   "id": "39b4f2097a4bae31",
   "outputs": [],
   "execution_count": 59
  },
  {
   "metadata": {},
   "cell_type": "markdown",
   "source": "",
   "id": "b122fdcb0fc7fe9a"
  },
  {
   "metadata": {
    "collapsed": true,
    "ExecuteTime": {
     "end_time": "2025-06-29T13:02:05.631349Z",
     "start_time": "2025-06-29T13:02:05.622827Z"
    }
   },
   "cell_type": "code",
   "source": [
    "def draw_dag_ascii(node, visited=None, indent=0):\n",
    "\n",
    "\n"
   ],
   "id": "initial_id",
   "outputs": [],
   "execution_count": 60
  },
  {
   "metadata": {},
   "cell_type": "markdown",
   "source": "#### 2 adjacent nodes",
   "id": "ea8323d752a667ce"
  },
  {
   "metadata": {
    "ExecuteTime": {
     "end_time": "2025-06-29T13:02:05.654356Z",
     "start_time": "2025-06-29T13:02:05.649152Z"
    }
   },
   "cell_type": "code",
   "source": [
    "node_1: DAGNode = DAGNode(\"1\")\n",
    "node_1_1: DAGNode = DAGNode(\"1.1\")\n",
    "node_1_2: DAGNode = DAGNode(\"1.2\")\n",
    "node_1.add_outgoing_edge(node_1_1)\n",
    "node_1.add_outgoing_edge(node_1_2)\n",
    "\n",
    "\n",
    "lines = draw_dag_ascii(node_1)\n",
    "print(\"\\n\".join(lines))\n"
   ],
   "id": "8732afa19f8d116e",
   "outputs": [
    {
     "name": "stdout",
     "output_type": "stream",
     "text": [
      "   ↗ 1.1\n",
      "1\n",
      "   ↘ 1.2\n"
     ]
    }
   ],
   "execution_count": 61
  },
  {
   "metadata": {},
   "cell_type": "markdown",
   "source": "#### 3 adjacent nodes",
   "id": "78c43e00cd77c421"
  },
  {
   "metadata": {
    "ExecuteTime": {
     "end_time": "2025-06-29T13:02:05.709194Z",
     "start_time": "2025-06-29T13:02:05.701982Z"
    }
   },
   "cell_type": "code",
   "source": [
    "node_1: DAGNode = DAGNode(\"1\")\n",
    "node_1_1: DAGNode = DAGNode(\"1.1\")\n",
    "node_1_2: DAGNode = DAGNode(\"1.2\")\n",
    "node_1_3: DAGNode = DAGNode(\"1.3\")\n",
    "node_1.add_outgoing_edge(node_1_1)\n",
    "node_1.add_outgoing_edge(node_1_2)\n",
    "node_1.add_outgoing_edge(node_1_3)\n",
    "\n",
    "\n",
    "lines = draw_dag_ascii(node_1)\n",
    "print(\"\\n\".join(lines))"
   ],
   "id": "be0f91f22ce03483",
   "outputs": [
    {
     "name": "stdout",
     "output_type": "stream",
     "text": [
      "   ↗ 1.1\n",
      "1 → 1.2\n",
      "   ↘ 1.3\n"
     ]
    }
   ],
   "execution_count": 62
  },
  {
   "metadata": {},
   "cell_type": "markdown",
   "source": "#### 5 adjacent nodes",
   "id": "79f199e2e92d3853"
  },
  {
   "metadata": {
    "ExecuteTime": {
     "end_time": "2025-06-29T13:02:05.774742Z",
     "start_time": "2025-06-29T13:02:05.769927Z"
    }
   },
   "cell_type": "code",
   "source": [
    "# graph = {\n",
    "#     \"A\": [\"B\", \"C\", \"D\", \"E\", \"F\"]\n",
    "# }\n",
    "#\n",
    "# print(\"\\n\".join(draw_fan_dag_unicode_centered(graph)))"
   ],
   "id": "cd328cace1b215c0",
   "outputs": [],
   "execution_count": 63
  },
  {
   "metadata": {},
   "cell_type": "markdown",
   "source": "#### realistic pipeline",
   "id": "24b58c61b5ff6aef"
  },
  {
   "metadata": {
    "ExecuteTime": {
     "end_time": "2025-06-29T13:02:05.834959Z",
     "start_time": "2025-06-29T13:02:05.829570Z"
    }
   },
   "cell_type": "code",
   "source": [
    "node_1 = DAGNode(\"BaseInput\")\n",
    "node_1_1 = DAGNode(\"EquidistantNodeGenerator\")\n",
    "node_1_1_1 = DAGNode(\"FunctionValueInput\")\n",
    "node_1_1_1_1 = DAGNode(\"NewtonInterpolationCore\")\n",
    "node_1_1_1_2 = DAGNode(\"Aitken-Neville Interpolation Core\")\n",
    "\n",
    "node_1.add_outgoing_edge(node_1_1)\n",
    "node_1_1.add_outgoing_edge(node_1_1_1)\n",
    "node_1_1_1.add_outgoing_edge(node_1_1_1_1)\n",
    "node_1_1_1.add_outgoing_edge(node_1_1_1_2)\n",
    "\n",
    "\n",
    "lines = draw_dag_ascii(node_1)\n",
    "print(\"\\n\".join(lines))"
   ],
   "id": "68a7f77ae60bd730",
   "outputs": [
    {
     "name": "stdout",
     "output_type": "stream",
     "text": [
      "BaseInput → EquidistantNodeGenerator\n",
      "                                       FunctionValueInput\n",
      "                                          ↘ Aitken-Neville Interpolation Core\n"
     ]
    }
   ],
   "execution_count": 64
  }
 ],
 "metadata": {
  "kernelspec": {
   "display_name": "Python 3",
   "language": "python",
   "name": "python3"
  },
  "language_info": {
   "codemirror_mode": {
    "name": "ipython",
    "version": 2
   },
   "file_extension": ".py",
   "mimetype": "text/x-python",
   "name": "python",
   "nbconvert_exporter": "python",
   "pygments_lexer": "ipython2",
   "version": "2.7.6"
  }
 },
 "nbformat": 4,
 "nbformat_minor": 5
}
