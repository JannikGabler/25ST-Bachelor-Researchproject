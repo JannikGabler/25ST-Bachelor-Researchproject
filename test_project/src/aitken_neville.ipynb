{
 "cells": [
  {
   "cell_type": "markdown",
   "id": "3fc8f18b",
   "metadata": {},
   "source": [
    "# Aitken Neville Interpolation\n",
    "\n",
    "Aitken Neville aims to solve the typical interpolation problem:\n",
    "Given n+1 distinct points $ \\{x_0, \\dots, x_n\\} $ with known function values $ \\{f(x_0), \\dots, f(x_n)\\} $, we are looking for the unique polynomial $ P_n(x) $ of $ degree ≤ n $, where\n",
    "$$\n",
    "P_n(x_i) = f(x_i), \\space i = 0, \\dots, n\n",
    "$$"
   ]
  },
  {
   "cell_type": "markdown",
   "id": "3f93d5d8",
   "metadata": {},
   "source": [
    "## Mathematical Background\n",
    "\n",
    "Aitken-Neville builds the value $ P_{i,j}(x) $, which is the interpolant through nodes $ x_i, \\dots, x_j $, directly at the target $x$. The recursive scheme is defined as follows:\n",
    "$$\n",
    "P_{i,j}(x)=\n",
    "\\begin{cases}\n",
    "f(x_i), \n",
    "    & i=j\\\\[6pt]\n",
    "\\dfrac{(x - x_i)\\,P_{i+1,j}(x)\\;-\\;(x - x_j)\\,P_{i,j-1}(x)}{x_j - x_i},\n",
    "    & i<j\n",
    "\\end{cases}\n",
    "$$\n",
    "$$\n",
    "\\qquad\n",
    "P_n(x)=P_{0,n}(x).\n",
    "$$\n",
    "\n",
    "We can implement that in python as follows:"
   ]
  },
  {
   "cell_type": "code",
   "execution_count": 1,
   "id": "169ea059",
   "metadata": {},
   "outputs": [],
   "source": [
    "import jax\n",
    "import jax.numpy as jnp"
   ]
  },
  {
   "cell_type": "markdown",
   "id": "4dd66e62",
   "metadata": {},
   "source": [
    "First, we implement the aitken_neville_scalar function, which, using JAX's JIT feature, calculates the interpolating polynomial at a single point using Aitken-Neville"
   ]
  },
  {
   "cell_type": "code",
   "execution_count": 2,
   "id": "19c4804d",
   "metadata": {},
   "outputs": [],
   "source": [
    "@jax.jit\n",
    "def aitken_neville_scalar(x_values: jnp.ndarray, y_values: jnp.ndarray, x: float) -> float:\n",
    "    \"\"\"\n",
    "    Computes interpolating polynomial at x\n",
    "\n",
    "    Args:\n",
    "        x_values: x coordinates of the given points\n",
    "        y_values: y coordinates of the given points\n",
    "        x: the point at which to evaluate the polynomial\n",
    "\n",
    "    Returns:\n",
    "        Interpolated value P(x)\n",
    "    \"\"\"\n",
    "    m = x_values.shape[0]\n",
    "    # (upper) triangular matrix\n",
    "    P = jnp.zeros((m, m), dtype=y_values.dtype)\n",
    "    # diagonal entries\n",
    "    P = P.at[jnp.diag_indices(m)].set(y_values)\n",
    "\n",
    "    # avoid loops\n",
    "    # outer loop over interval lengths k = 1, ..., m-1\n",
    "    def body_k(k, P):\n",
    "        # inner loop over starting indices i = 0, ..., m-k-1\n",
    "        def body_i(i, P):\n",
    "            j = i + k\n",
    "            # mathematical formula for Aitken-Neville interpolation\n",
    "            numerator = (x - x_values[i]) * P[i + 1, j] - (x- x_values[j]) * P[i, j - 1]\n",
    "            denominator = x_values[j] - x_values[i]\n",
    "            return P.at[i, j].set(numerator / denominator)\n",
    "        upper = jnp.int32(m - k)\n",
    "        zero = jnp.int32(0)\n",
    "        return jax.lax.fori_loop(zero, upper, body_i, P)\n",
    "    \n",
    "    one = jnp.int32(1)\n",
    "    P = jax.lax.fori_loop(one, m, body_k, P)\n",
    "    # top right triangle is the result\n",
    "    return P[0, m - 1]"
   ]
  },
  {
   "cell_type": "markdown",
   "id": "5d1945fe",
   "metadata": {},
   "source": [
    "Now we just need a function vectorize over multiple evaluation points, which will be our final aitken_neville function."
   ]
  },
  {
   "cell_type": "code",
   "execution_count": 3,
   "id": "1990f9d5",
   "metadata": {},
   "outputs": [],
   "source": [
    "def aitken_neville(x_values: jnp.ndarray, y_values: jnp.ndarray, x: jnp.ndarray) -> jnp.ndarray:\n",
    "    \"\"\"\n",
    "    Computes interpolating polynomial at x\n",
    "\n",
    "    Args:\n",
    "        x_values: x coordinates of the given points\n",
    "        y_values: y coordinates of the given points\n",
    "        x: the points at which to evaluate the polynomial\n",
    "\n",
    "    Returns:\n",
    "        Array of shape (k,) of interpolated values P(x)\n",
    "    \"\"\"\n",
    "    return jax.vmap(lambda xv: aitken_neville_scalar(x_values, y_values, xv))(x)"
   ]
  },
  {
   "cell_type": "markdown",
   "id": "51f10dd0",
   "metadata": {},
   "source": [
    "Now we can test our function by plotting an example Interpolation function, of which we already know the underlying function definition:"
   ]
  },
  {
   "cell_type": "code",
   "execution_count": 4,
   "id": "433568cb",
   "metadata": {},
   "outputs": [],
   "source": [
    "from matplotlib import pyplot as plt\n",
    "\n",
    "def plot_interpolation(\n",
    "    func,\n",
    "    x_values: jnp.ndarray,\n",
    "    x_range: tuple = (0.0, 1.0),\n",
    "    num_eval: int = 200\n",
    "):\n",
    "    \"\"\"\n",
    "    Plot the true function and its Aitken–Neville interpolant.\n",
    "\n",
    "    Args:\n",
    "        func: callable real -> real, the underlying function\n",
    "        x_nodes: array of interpolation nodes\n",
    "        x_range: (min, max) range for plotting\n",
    "        num_eval: number of points to evaluate for curves\n",
    "    \"\"\"\n",
    "    # Prepare evaluation grid\n",
    "    x_eval = jnp.linspace(x_range[0], x_range[1], num_eval)\n",
    "    # True function values\n",
    "    y_true = jax.vmap(func)(x_eval)\n",
    "    # Interpolated values at nodes\n",
    "    y_values = jax.vmap(func)(x_values)\n",
    "    # Interpolant values\n",
    "    y_interp = aitken_neville(x_values, y_values, x_eval)\n",
    "\n",
    "    # Plot\n",
    "    plt.figure(figsize=(8, 5))\n",
    "    plt.plot(x_eval, y_true, label='True Function')\n",
    "    plt.plot(x_eval, y_interp, '--', label='Aitken–Neville Interpolant')\n",
    "    plt.scatter(x_values, y_values, color='red', zorder=5, label='Interpolation Nodes')\n",
    "    plt.legend()\n",
    "    plt.xlabel('x')\n",
    "    plt.ylabel('f(x)')\n",
    "    plt.title('Aitken–Neville Interpolation')\n",
    "    plt.grid(True)\n",
    "    plt.show()"
   ]
  },
  {
   "cell_type": "code",
   "execution_count": 5,
   "id": "88b6f0c1",
   "metadata": {},
   "outputs": [
    {
     "data": {
      "image/png": "[encoded data removed]",
      "text/plain": [
       "<Figure size 800x500 with 1 Axes>"
      ]
     },
     "metadata": {},
     "output_type": "display_data"
    }
   ],
   "source": [
    "func = jnp.sin\n",
    "# Chebyshev nodes in [0, pi]\n",
    "n = 30\n",
    "angles = jnp.pi * (2 * jnp.arange(n + 1) + 1) / (2 * (n + 1))\n",
    "x_nodes = (jnp.cos(angles) + 1) * (jnp.pi / 2)\n",
    "\n",
    "# Plot interpolation\n",
    "plot_interpolation(func, x_nodes, x_range=(0.0, jnp.pi), num_eval=400)"
   ]
  },
  {
   "cell_type": "markdown",
   "id": "8f8bf6e6",
   "metadata": {},
   "source": [
    "## Evaluation\n",
    "To benchmark against a \"naive\" implementation of Aitken Neville using for loops instead of JAX's JIT feature, we define it first."
   ]
  },
  {
   "cell_type": "code",
   "execution_count": null,
   "id": "32038c0b",
   "metadata": {},
   "outputs": [],
   "source": [
    "import numpy as np\n",
    "\n",
    "def aitken_neville_naive(x_values, y_values, x):\n",
    "    m = len(x_values)\n",
    "    P = [[0.0]*m for _ in range(m)]\n",
    "    for i in range(m):\n",
    "        P[i][i] = y_values[i]\n",
    "    for k in range(1, m):\n",
    "        for i in range(m-k):\n",
    "            j = i + k\n",
    "            num = (x - x_values[i]) * P[i+1][j] \\\n",
    "                - (x - x_values[j]) * P[i][j-1]\n",
    "            den = x_values[j] - x_values[i]\n",
    "            P[i][j] = num / den\n",
    "    return P[0][m-1]\n",
    "\n",
    "# convert JAX nodes to np for the \"naive\" version\n",
    "y_nodes = jax.vmap(func)(x_nodes)\n",
    "x_vals_np = np.array(x_nodes)\n",
    "y_vals_np = np.array(y_nodes)"
   ]
  },
  {
   "cell_type": "markdown",
   "id": "c5a9c467",
   "metadata": {},
   "source": [
    "Now we compare both versions..."
   ]
  },
  {
   "cell_type": "code",
   "execution_count": null,
   "id": "06732328",
   "metadata": {},
   "outputs": [
    {
     "name": "stdout",
     "output_type": "stream",
     "text": [
      "   # evals    |   JAX (ms)   |  Naive (ms)\n",
      "------------------------------------------\n",
      "       200    |        1.25  |       51.88\n",
      "      1000    |        3.26  |      223.75\n",
      "      2000    |        4.50  |      454.64\n",
      "      5000    |       12.06  |     1110.83\n",
      "     10000    |       40.66  |     2229.24\n"
     ]
    }
   ],
   "source": [
    "import time\n",
    "import numpy as np\n",
    "import jax.numpy as jnp\n",
    "\n",
    "grid_sizes = [200, 1000, 2000, 5000, 10000]\n",
    "\n",
    "print(\"   # evals    |   JAX (ms)   |  Naive (ms)\")\n",
    "print(\"------------------------------------------\")\n",
    "\n",
    "for n in grid_sizes:\n",
    "    x_eval = jnp.linspace(0.0, jnp.pi, n)\n",
    "    x_eval_np = np.array(x_eval)\n",
    "\n",
    "    # warm up (JAX compile) on 1 point\n",
    "    _ = aitken_neville(x_nodes, y_nodes, x_eval[:1]).block_until_ready()\n",
    "\n",
    "    # time JAX\n",
    "    t0 = time.perf_counter()\n",
    "    _ = aitken_neville(x_nodes, y_nodes, x_eval).block_until_ready()\n",
    "    t1 = time.perf_counter()\n",
    "    jax_ms = (t1 - t0) * 1e3\n",
    "\n",
    "    # time naive\n",
    "    t2 = time.perf_counter()\n",
    "    for xv in x_eval_np:\n",
    "        _ = aitken_neville_naive(x_vals_np, y_vals_np, float(xv))\n",
    "    t3 = time.perf_counter()\n",
    "    naive_ms = (t3 - t2) * 1e3\n",
    "\n",
    "    print(f\"{n:10d}    |  {jax_ms:10.2f}  |  {naive_ms:10.2f}\")\n"
   ]
  }
 ],
 "metadata": {
  "kernelspec": {
   "display_name": ".venv",
   "language": "python",
   "name": "python3"
  },
  "language_info": {
   "codemirror_mode": {
    "name": "ipython",
    "version": 3
   },
   "file_extension": ".py",
   "mimetype": "text/x-python",
   "name": "python",
   "nbconvert_exporter": "python",
   "pygments_lexer": "ipython3",
   "version": "3.13.3"
  }
 },
 "nbformat": 4,
 "nbformat_minor": 5
}
